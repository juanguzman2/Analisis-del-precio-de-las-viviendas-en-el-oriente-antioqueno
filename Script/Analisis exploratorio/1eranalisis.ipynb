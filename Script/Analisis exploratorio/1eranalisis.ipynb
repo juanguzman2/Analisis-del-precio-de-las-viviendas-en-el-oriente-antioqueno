{
 "cells": [
  {
   "attachments": {},
   "cell_type": "markdown",
   "metadata": {},
   "source": [
    "# se dara un primer vistaso al comportamiento de las varibales"
   ]
  },
  {
   "cell_type": "code",
   "execution_count": 1,
   "metadata": {},
   "outputs": [],
   "source": [
    "import matplotlib.pyplot as plt\n",
    "import numpy as np\n",
    "import pandas as pd\n",
    "import seaborn as sns"
   ]
  },
  {
   "attachments": {},
   "cell_type": "markdown",
   "metadata": {},
   "source": [
    "# datos"
   ]
  },
  {
   "cell_type": "code",
   "execution_count": 4,
   "metadata": {},
   "outputs": [
    {
     "data": {
      "text/plain": [
       "Index(['tipo', 'url', 'titulo', 'precio', 'area', 'habitaciones', 'banos',\n",
       "       'garajes', 'descripcion', 'balcon', 'trans. publico cercano', 'estrato',\n",
       "       'antiguedad', 'cocina integral', 'bano auxiliar', 'zona de lavanderia',\n",
       "       'zonas verdes', 'supermercados / c.comerciales', 'instalacion de gas',\n",
       "       'parqueadero visitantes', 'colegios / universidades',\n",
       "       'parques cercanos', 'zona residencial', 'closet', 'nombre municipio',\n",
       "       'codigo departamento', 'codigo municipio', 'nombre departamento',\n",
       "       'tipo: municipio / isla / area no municipalizada'],\n",
       "      dtype='object')"
      ]
     },
     "execution_count": 4,
     "metadata": {},
     "output_type": "execute_result"
    }
   ],
   "source": [
    "dfp.columns"
   ]
  },
  {
   "cell_type": "code",
   "execution_count": 6,
   "metadata": {},
   "outputs": [
    {
     "data": {
      "text/plain": [
       "(3480, 29)"
      ]
     },
     "execution_count": 6,
     "metadata": {},
     "output_type": "execute_result"
    }
   ],
   "source": [
    "dfp.shape"
   ]
  },
  {
   "attachments": {},
   "cell_type": "markdown",
   "metadata": {},
   "source": [
    "## explicacion base de datos"
   ]
  },
  {
   "cell_type": "code",
   "execution_count": 10,
   "metadata": {},
   "outputs": [
    {
     "data": {
      "text/plain": [
       "array([0, 1], dtype=int64)"
      ]
     },
     "execution_count": 10,
     "metadata": {},
     "output_type": "execute_result"
    }
   ],
   "source": [
    "dfp['tipo'].unique()"
   ]
  },
  {
   "attachments": {},
   "cell_type": "markdown",
   "metadata": {},
   "source": [
    "el dataframe consta de 3480 filas y 29 columnas, las cuales son\n",
    "* tipo: indica si la vivineda es usada o nueva, donde usada es igual a 0 y nueva igual a 0. es una variable categorica\n"
   ]
  },
  {
   "cell_type": "code",
   "execution_count": null,
   "metadata": {},
   "outputs": [],
   "source": [
    "# !git clone git@github.com:juanguzman2/Precio-de-viviendas-en-colmbia.git"
   ]
  },
  {
   "cell_type": "code",
   "execution_count": 9,
   "metadata": {},
   "outputs": [
    {
     "data": {
      "text/html": [
       "<div>\n",
       "<style scoped>\n",
       "    .dataframe tbody tr th:only-of-type {\n",
       "        vertical-align: middle;\n",
       "    }\n",
       "\n",
       "    .dataframe tbody tr th {\n",
       "        vertical-align: top;\n",
       "    }\n",
       "\n",
       "    .dataframe thead th {\n",
       "        text-align: right;\n",
       "    }\n",
       "</style>\n",
       "<table border=\"1\" class=\"dataframe\">\n",
       "  <thead>\n",
       "    <tr style=\"text-align: right;\">\n",
       "      <th></th>\n",
       "      <th>tipo</th>\n",
       "      <th>url</th>\n",
       "      <th>titulo</th>\n",
       "      <th>precio</th>\n",
       "      <th>area</th>\n",
       "      <th>habitaciones</th>\n",
       "      <th>banos</th>\n",
       "      <th>garajes</th>\n",
       "      <th>descripcion</th>\n",
       "      <th>balcon</th>\n",
       "      <th>...</th>\n",
       "      <th>parqueadero visitantes</th>\n",
       "      <th>colegios / universidades</th>\n",
       "      <th>parques cercanos</th>\n",
       "      <th>zona residencial</th>\n",
       "      <th>closet</th>\n",
       "      <th>nombre municipio</th>\n",
       "      <th>codigo departamento</th>\n",
       "      <th>codigo municipio</th>\n",
       "      <th>nombre departamento</th>\n",
       "      <th>tipo: municipio / isla / area no municipalizada</th>\n",
       "    </tr>\n",
       "  </thead>\n",
       "  <tbody>\n",
       "    <tr>\n",
       "      <th>0</th>\n",
       "      <td>0</td>\n",
       "      <td>https://www.fincaraiz.com.co/casa-campestre-en...</td>\n",
       "      <td>Casa Campestre en Venta Rionegro Vereda Guayabito</td>\n",
       "      <td>1380000000</td>\n",
       "      <td>32000.0</td>\n",
       "      <td>5.0</td>\n",
       "      <td>6.0</td>\n",
       "      <td>2</td>\n",
       "      <td>Propiedad moderna con muy buenos acabados. Her...</td>\n",
       "      <td>1.0</td>\n",
       "      <td>...</td>\n",
       "      <td>0.0</td>\n",
       "      <td>0.0</td>\n",
       "      <td>0.0</td>\n",
       "      <td>0.0</td>\n",
       "      <td>0.0</td>\n",
       "      <td>RIONEGRO</td>\n",
       "      <td>5</td>\n",
       "      <td>5615.0</td>\n",
       "      <td>ANTIOQUIA</td>\n",
       "      <td>Municipio</td>\n",
       "    </tr>\n",
       "    <tr>\n",
       "      <th>1</th>\n",
       "      <td>0</td>\n",
       "      <td>https://www.fincaraiz.com.co/casa-campestre-en...</td>\n",
       "      <td>Casa Campestre en Venta Rionegro Vereda Guayabito</td>\n",
       "      <td>1380000000</td>\n",
       "      <td>32000.0</td>\n",
       "      <td>5.0</td>\n",
       "      <td>6.0</td>\n",
       "      <td>2</td>\n",
       "      <td>Propiedad moderna con muy buenos acabados. Her...</td>\n",
       "      <td>1.0</td>\n",
       "      <td>...</td>\n",
       "      <td>0.0</td>\n",
       "      <td>0.0</td>\n",
       "      <td>0.0</td>\n",
       "      <td>0.0</td>\n",
       "      <td>0.0</td>\n",
       "      <td>RIONEGRO</td>\n",
       "      <td>68</td>\n",
       "      <td>68615.0</td>\n",
       "      <td>SANTANDER</td>\n",
       "      <td>Municipio</td>\n",
       "    </tr>\n",
       "    <tr>\n",
       "      <th>2</th>\n",
       "      <td>1</td>\n",
       "      <td>https://www.fincaraiz.com.co/vivari-de-san-nic...</td>\n",
       "      <td>VIVARI DE SAN NICOLAS San Nicolás - Rionegro</td>\n",
       "      <td>496122600</td>\n",
       "      <td>91972.0</td>\n",
       "      <td>3.0</td>\n",
       "      <td>3.0</td>\n",
       "      <td>1</td>\n",
       "      <td>6234794 Vivari San Nicolás, es un conjunto res...</td>\n",
       "      <td>1.0</td>\n",
       "      <td>...</td>\n",
       "      <td>0.0</td>\n",
       "      <td>0.0</td>\n",
       "      <td>0.0</td>\n",
       "      <td>0.0</td>\n",
       "      <td>0.0</td>\n",
       "      <td>RIONEGRO</td>\n",
       "      <td>5</td>\n",
       "      <td>5615.0</td>\n",
       "      <td>ANTIOQUIA</td>\n",
       "      <td>Municipio</td>\n",
       "    </tr>\n",
       "    <tr>\n",
       "      <th>3</th>\n",
       "      <td>1</td>\n",
       "      <td>https://www.fincaraiz.com.co/vivari-de-san-nic...</td>\n",
       "      <td>VIVARI DE SAN NICOLAS San Nicolás - Rionegro</td>\n",
       "      <td>496122600</td>\n",
       "      <td>91972.0</td>\n",
       "      <td>3.0</td>\n",
       "      <td>3.0</td>\n",
       "      <td>1</td>\n",
       "      <td>6234794 Vivari San Nicolás, es un conjunto res...</td>\n",
       "      <td>1.0</td>\n",
       "      <td>...</td>\n",
       "      <td>0.0</td>\n",
       "      <td>0.0</td>\n",
       "      <td>0.0</td>\n",
       "      <td>0.0</td>\n",
       "      <td>0.0</td>\n",
       "      <td>RIONEGRO</td>\n",
       "      <td>68</td>\n",
       "      <td>68615.0</td>\n",
       "      <td>SANTANDER</td>\n",
       "      <td>Municipio</td>\n",
       "    </tr>\n",
       "    <tr>\n",
       "      <th>4</th>\n",
       "      <td>1</td>\n",
       "      <td>https://www.fincaraiz.com.co/altos-de-santana/...</td>\n",
       "      <td>ALTOS DE SANTANA Oriente Antioqueño - Rionegro</td>\n",
       "      <td>360002000</td>\n",
       "      <td>73372.0</td>\n",
       "      <td>3.0</td>\n",
       "      <td>3.0</td>\n",
       "      <td>0</td>\n",
       "      <td>6351568 Proyecto de apartamentos de 2 y 3 habi...</td>\n",
       "      <td>0.0</td>\n",
       "      <td>...</td>\n",
       "      <td>0.0</td>\n",
       "      <td>1.0</td>\n",
       "      <td>0.0</td>\n",
       "      <td>0.0</td>\n",
       "      <td>0.0</td>\n",
       "      <td>RIONEGRO</td>\n",
       "      <td>5</td>\n",
       "      <td>5615.0</td>\n",
       "      <td>ANTIOQUIA</td>\n",
       "      <td>Municipio</td>\n",
       "    </tr>\n",
       "  </tbody>\n",
       "</table>\n",
       "<p>5 rows × 29 columns</p>\n",
       "</div>"
      ],
      "text/plain": [
       "   tipo                                                url  \\\n",
       "0     0  https://www.fincaraiz.com.co/casa-campestre-en...   \n",
       "1     0  https://www.fincaraiz.com.co/casa-campestre-en...   \n",
       "2     1  https://www.fincaraiz.com.co/vivari-de-san-nic...   \n",
       "3     1  https://www.fincaraiz.com.co/vivari-de-san-nic...   \n",
       "4     1  https://www.fincaraiz.com.co/altos-de-santana/...   \n",
       "\n",
       "                                              titulo      precio     area  \\\n",
       "0  Casa Campestre en Venta Rionegro Vereda Guayabito  1380000000  32000.0   \n",
       "1  Casa Campestre en Venta Rionegro Vereda Guayabito  1380000000  32000.0   \n",
       "2       VIVARI DE SAN NICOLAS San Nicolás - Rionegro   496122600  91972.0   \n",
       "3       VIVARI DE SAN NICOLAS San Nicolás - Rionegro   496122600  91972.0   \n",
       "4     ALTOS DE SANTANA Oriente Antioqueño - Rionegro   360002000  73372.0   \n",
       "\n",
       "   habitaciones  banos  garajes  \\\n",
       "0           5.0    6.0        2   \n",
       "1           5.0    6.0        2   \n",
       "2           3.0    3.0        1   \n",
       "3           3.0    3.0        1   \n",
       "4           3.0    3.0        0   \n",
       "\n",
       "                                         descripcion  balcon  ...  \\\n",
       "0  Propiedad moderna con muy buenos acabados. Her...     1.0  ...   \n",
       "1  Propiedad moderna con muy buenos acabados. Her...     1.0  ...   \n",
       "2  6234794 Vivari San Nicolás, es un conjunto res...     1.0  ...   \n",
       "3  6234794 Vivari San Nicolás, es un conjunto res...     1.0  ...   \n",
       "4  6351568 Proyecto de apartamentos de 2 y 3 habi...     0.0  ...   \n",
       "\n",
       "   parqueadero visitantes  colegios / universidades  parques cercanos  \\\n",
       "0                     0.0                       0.0               0.0   \n",
       "1                     0.0                       0.0               0.0   \n",
       "2                     0.0                       0.0               0.0   \n",
       "3                     0.0                       0.0               0.0   \n",
       "4                     0.0                       1.0               0.0   \n",
       "\n",
       "   zona residencial  closet  nombre municipio  codigo departamento  \\\n",
       "0               0.0     0.0          RIONEGRO                    5   \n",
       "1               0.0     0.0          RIONEGRO                   68   \n",
       "2               0.0     0.0          RIONEGRO                    5   \n",
       "3               0.0     0.0          RIONEGRO                   68   \n",
       "4               0.0     0.0          RIONEGRO                    5   \n",
       "\n",
       "   codigo municipio  nombre departamento  \\\n",
       "0            5615.0            ANTIOQUIA   \n",
       "1           68615.0            SANTANDER   \n",
       "2            5615.0            ANTIOQUIA   \n",
       "3           68615.0            SANTANDER   \n",
       "4            5615.0            ANTIOQUIA   \n",
       "\n",
       "   tipo: municipio / isla / area no municipalizada  \n",
       "0                                        Municipio  \n",
       "1                                        Municipio  \n",
       "2                                        Municipio  \n",
       "3                                        Municipio  \n",
       "4                                        Municipio  \n",
       "\n",
       "[5 rows x 29 columns]"
      ]
     },
     "execution_count": 9,
     "metadata": {},
     "output_type": "execute_result"
    }
   ],
   "source": [
    "dfp=pd.read_csv(r'C:\\Users\\Juan Guzman\\pviviendas\\Data\\dfclean')\n",
    "dfp.head()"
   ]
  },
  {
   "cell_type": "code",
   "execution_count": 3,
   "metadata": {},
   "outputs": [
    {
     "name": "stdout",
     "output_type": "stream",
     "text": [
      "<class 'pandas.core.frame.DataFrame'>\n",
      "RangeIndex: 3480 entries, 0 to 3479\n",
      "Data columns (total 29 columns):\n",
      " #   Column                                           Non-Null Count  Dtype  \n",
      "---  ------                                           --------------  -----  \n",
      " 0   tipo                                             3480 non-null   object \n",
      " 1   url                                              3480 non-null   object \n",
      " 2   titulo                                           3480 non-null   object \n",
      " 3   precio                                           3480 non-null   int64  \n",
      " 4   area                                             3480 non-null   float64\n",
      " 5   habitaciones                                     3480 non-null   float64\n",
      " 6   banos                                            3480 non-null   float64\n",
      " 7   garajes                                          3480 non-null   int64  \n",
      " 8   descripcion                                      3480 non-null   object \n",
      " 9   balcon                                           3480 non-null   float64\n",
      " 10  trans. publico cercano                           3480 non-null   float64\n",
      " 11  estrato                                          3480 non-null   float64\n",
      " 12  antiguedad                                       3480 non-null   float64\n",
      " 13  cocina integral                                  3480 non-null   float64\n",
      " 14  bano auxiliar                                    3480 non-null   float64\n",
      " 15  zona de lavanderia                               3480 non-null   float64\n",
      " 16  zonas verdes                                     3480 non-null   float64\n",
      " 17  supermercados / c.comerciales                    3480 non-null   float64\n",
      " 18  instalacion de gas                               3480 non-null   float64\n",
      " 19  parqueadero visitantes                           3480 non-null   float64\n",
      " 20  colegios / universidades                         3480 non-null   float64\n",
      " 21  parques cercanos                                 3480 non-null   float64\n",
      " 22  zona residencial                                 3480 non-null   float64\n",
      " 23  closet                                           3480 non-null   float64\n",
      " 24  nombre municipio                                 3480 non-null   object \n",
      " 25  codigo departamento                              3480 non-null   int64  \n",
      " 26  codigo municipio                                 3480 non-null   float64\n",
      " 27  nombre departamento                              3480 non-null   object \n",
      " 28  tipo: municipio / isla / area no municipalizada  3480 non-null   object \n",
      "dtypes: float64(19), int64(3), object(7)\n",
      "memory usage: 788.6+ KB\n"
     ]
    }
   ],
   "source": [
    "dfp.info()"
   ]
  }
 ],
 "metadata": {
  "kernelspec": {
   "display_name": "base",
   "language": "python",
   "name": "python3"
  },
  "language_info": {
   "codemirror_mode": {
    "name": "ipython",
    "version": 3
   },
   "file_extension": ".py",
   "mimetype": "text/x-python",
   "name": "python",
   "nbconvert_exporter": "python",
   "pygments_lexer": "ipython3",
   "version": "3.9.13"
  },
  "orig_nbformat": 4
 },
 "nbformat": 4,
 "nbformat_minor": 2
}
