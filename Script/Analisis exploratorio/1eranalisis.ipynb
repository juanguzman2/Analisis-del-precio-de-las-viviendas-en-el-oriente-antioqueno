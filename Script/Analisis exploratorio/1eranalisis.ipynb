{
 "cells": [
  {
   "attachments": {},
   "cell_type": "markdown",
   "metadata": {},
   "source": [
    "# se dara un primer vistaso al comportamiento de las varibales"
   ]
  },
  {
   "cell_type": "code",
   "execution_count": 1,
   "metadata": {},
   "outputs": [],
   "source": [
    "import matplotlib.pyplot as plt\n",
    "import numpy as np\n",
    "import pandas as pd\n",
    "import seaborn as sns"
   ]
  },
  {
   "attachments": {},
   "cell_type": "markdown",
   "metadata": {},
   "source": [
    "# datos"
   ]
  },
  {
   "attachments": {},
   "cell_type": "markdown",
   "metadata": {},
   "source": [
    "## explicacion base de datos"
   ]
  },
  {
   "cell_type": "code",
   "execution_count": 4,
   "metadata": {},
   "outputs": [
    {
     "data": {
      "text/plain": [
       "Index(['tipo', 'url', 'titulo', 'precio', 'area', 'habitaciones', 'banos',\n",
       "       'garajes', 'descripcion', 'balcon', 'trans. publico cercano', 'estrato',\n",
       "       'antiguedad', 'cocina integral', 'bano auxiliar', 'zona de lavanderia',\n",
       "       'zonas verdes', 'supermercados / c.comerciales', 'instalacion de gas',\n",
       "       'parqueadero visitantes', 'colegios / universidades',\n",
       "       'parques cercanos', 'zona residencial', 'closet', 'nombre municipio',\n",
       "       'codigo departamento', 'codigo municipio', 'nombre departamento',\n",
       "       'tipo: municipio / isla / area no municipalizada'],\n",
       "      dtype='object')"
      ]
     },
     "execution_count": 4,
     "metadata": {},
     "output_type": "execute_result"
    }
   ],
   "source": [
    "dfp.columns"
   ]
  },
  {
   "attachments": {},
   "cell_type": "markdown",
   "metadata": {},
   "source": [
    "el dataframe consta de 3480 filas y 29 columnas, las cuales son\n",
    "* tipo: indica si la vivineda es usada o nueva, donde usada es igual a 0 y nueva igual a 1. es una variable categorica\n",
    "* url: es la direccion a la pagina, no es relevante para el estudio, se pone en caso de que el usuario la quiera consultar\n",
    "* titulo: corresponde al anucnio de venta de la vivienda\n",
    "* precio: representa el valor monetario de la vivienda\n",
    "* area: mide el area de la vivienda en metros cuadrados\n",
    "* Habitaciones: Numero de habitaciones/ cuartos de una casa\n",
    "* banos: numero de baños de la casa\n",
    "* garajes: numero de garajes\n",
    "* descripcion: descripcion de venta de la vivienda\n",
    "* balcon: especifica si la vivienda posee un balco . donde 0 es no y 1 es si\n",
    "* trans. publico cercano : si la vivienda tiene acceso a transporte publico . donde 0 es no y 1 es si\n",
    "* estrato: el estrato va de 1 a 5 , las casas campestres y las que no tenian registro se les asigno el estrato 3\n",
    "* antiguedad: se codificaron los valores de la siguiente manera\n",
    "    * \"Menos de 1 año\": 0\n",
    "    * \"1 a 8 años\": 1\n",
    "    * \"9 a 15 años\": 2\n",
    "    * \"16 a 30 años\": 3\n",
    "    * \"Más de 30 años\": 4\n",
    "* cocina integral: indica si la vivienda posee cocina integral. donde 0 es no y 1 es si\n",
    "* bano auxiliar: indica si la vivienda posee baño auxiliar. donde 0 es no y 1 es si\n",
    "* zona de lavanderia: \n",
    "* zonas verdes\n",
    "* supermercados / c.comerciales\n",
    "* instalacion de gas\n",
    "* parqueadero visitantes\n",
    "* colegios / universidades\n",
    "* parques cercanos\n",
    "* zona residencial\n",
    "* closet\n",
    "* nombre municipio \n",
    "* codigo departamento\n",
    "* codigo municipio\n",
    "* nombre departamento\n",
    "* tipo: municipio / isla / area no municipalizada"
   ]
  },
  {
   "cell_type": "code",
   "execution_count": 37,
   "metadata": {},
   "outputs": [
    {
     "data": {
      "text/plain": [
       "(3337, 29)"
      ]
     },
     "execution_count": 37,
     "metadata": {},
     "output_type": "execute_result"
    }
   ],
   "source": [
    "dfp.shape"
   ]
  },
  {
   "cell_type": "code",
   "execution_count": 36,
   "metadata": {},
   "outputs": [
    {
     "data": {
      "text/plain": [
       "ANTIOQUIA          1929\n",
       "SANTANDER          1215\n",
       "RISARALDA           154\n",
       "VALLE DEL CAUCA      10\n",
       "TOLIMA                9\n",
       "BOYACÁ                6\n",
       "CALDAS                4\n",
       "NARIÑO                3\n",
       "HUILA                 3\n",
       "SUCRE                 1\n",
       "CUNDINAMARCA          1\n",
       "ATLÁNTICO             1\n",
       "CAUCA                 1\n",
       "Name: nombre departamento, dtype: int64"
      ]
     },
     "execution_count": 36,
     "metadata": {},
     "output_type": "execute_result"
    }
   ],
   "source": [
    "dfp['nombre departamento'].value_counts()"
   ]
  },
  {
   "cell_type": "code",
   "execution_count": 41,
   "metadata": {},
   "outputs": [
    {
     "data": {
      "text/plain": [
       "0       Casa Campestre en Venta Rionegro Vereda Guayabito\n",
       "1       Casa Campestre en Venta Rionegro Vereda Guayabito\n",
       "2            VIVARI DE SAN NICOLAS San Nicolás - Rionegro\n",
       "3            VIVARI DE SAN NICOLAS San Nicolás - Rionegro\n",
       "4          ALTOS DE SANTANA Oriente Antioqueño - Rionegro\n",
       "                              ...                        \n",
       "3332                      Casa en Venta Rionegro Piamonte\n",
       "3333    Casa en Venta El Carmen de Viboral Lino de J a...\n",
       "3334      Casa Lote en Venta Marinilla dulces de colombia\n",
       "3335                  Casa en Venta Llano Grande Colombia\n",
       "3336    Apartamento en Venta El Carmen de Viboral quin...\n",
       "Name: titulo, Length: 3337, dtype: object"
      ]
     },
     "execution_count": 41,
     "metadata": {},
     "output_type": "execute_result"
    }
   ],
   "source": [
    "dfp['titulo']"
   ]
  },
  {
   "cell_type": "code",
   "execution_count": 61,
   "metadata": {},
   "outputs": [
    {
     "data": {
      "text/plain": [
       "BUENAVISTA          4\n",
       "VILLANUEVA          4\n",
       "LA UNIÓN            4\n",
       "GRANADA             3\n",
       "SUCRE               3\n",
       "                   ..\n",
       "PIAMONTE            1\n",
       "PIENDAMÓ - TUNÍA    1\n",
       "PUERTO TEJADA       1\n",
       "PURACÉ              1\n",
       "CUMARIBO            1\n",
       "Name: Nombre Municipio, Length: 1036, dtype: int64"
      ]
     },
     "execution_count": 61,
     "metadata": {},
     "output_type": "execute_result"
    }
   ],
   "source": [
    "dfubi['Nombre Municipio'].value_counts()"
   ]
  },
  {
   "cell_type": "code",
   "execution_count": 9,
   "metadata": {},
   "outputs": [
    {
     "data": {
      "text/plain": [
       "0         5\n",
       "1         5\n",
       "2       NaN\n",
       "3       NaN\n",
       "4       NaN\n",
       "       ... \n",
       "3332      4\n",
       "3333      2\n",
       "3334      4\n",
       "3335      6\n",
       "3336      2\n",
       "Name: estrato, Length: 3337, dtype: object"
      ]
     },
     "execution_count": 9,
     "metadata": {},
     "output_type": "execute_result"
    }
   ],
   "source": [
    "dfp['estrato']"
   ]
  },
  {
   "cell_type": "code",
   "execution_count": null,
   "metadata": {},
   "outputs": [],
   "source": [
    "# !git clone git@github.com:juanguzman2/Precio-de-viviendas-en-colmbia.git"
   ]
  },
  {
   "cell_type": "code",
   "execution_count": 60,
   "metadata": {},
   "outputs": [
    {
     "data": {
      "text/html": [
       "<div>\n",
       "<style scoped>\n",
       "    .dataframe tbody tr th:only-of-type {\n",
       "        vertical-align: middle;\n",
       "    }\n",
       "\n",
       "    .dataframe tbody tr th {\n",
       "        vertical-align: top;\n",
       "    }\n",
       "\n",
       "    .dataframe thead th {\n",
       "        text-align: right;\n",
       "    }\n",
       "</style>\n",
       "<table border=\"1\" class=\"dataframe\">\n",
       "  <thead>\n",
       "    <tr style=\"text-align: right;\">\n",
       "      <th></th>\n",
       "      <th>tipo</th>\n",
       "      <th>url</th>\n",
       "      <th>titulo</th>\n",
       "      <th>precio</th>\n",
       "      <th>area</th>\n",
       "      <th>habitaciones</th>\n",
       "      <th>banos</th>\n",
       "      <th>garajes</th>\n",
       "      <th>descripcion</th>\n",
       "      <th>balcon</th>\n",
       "      <th>...</th>\n",
       "      <th>parqueadero visitantes</th>\n",
       "      <th>colegios / universidades</th>\n",
       "      <th>parques cercanos</th>\n",
       "      <th>zona residencial</th>\n",
       "      <th>closet</th>\n",
       "      <th>nombre municipio</th>\n",
       "      <th>codigo departamento</th>\n",
       "      <th>codigo municipio</th>\n",
       "      <th>nombre departamento</th>\n",
       "      <th>tipo: municipio / isla / area no municipalizada</th>\n",
       "    </tr>\n",
       "  </thead>\n",
       "  <tbody>\n",
       "    <tr>\n",
       "      <th>0</th>\n",
       "      <td>0</td>\n",
       "      <td>https://www.fincaraiz.com.co/casa-campestre-en...</td>\n",
       "      <td>Casa Campestre en Venta Rionegro Vereda Guayabito</td>\n",
       "      <td>1380000000</td>\n",
       "      <td>32000.0</td>\n",
       "      <td>5.0</td>\n",
       "      <td>6.0</td>\n",
       "      <td>2</td>\n",
       "      <td>Propiedad moderna con muy buenos acabados. Her...</td>\n",
       "      <td>1.0</td>\n",
       "      <td>...</td>\n",
       "      <td>0.0</td>\n",
       "      <td>0.0</td>\n",
       "      <td>0.0</td>\n",
       "      <td>0.0</td>\n",
       "      <td>0.0</td>\n",
       "      <td>RIONEGRO</td>\n",
       "      <td>5</td>\n",
       "      <td>5615.0</td>\n",
       "      <td>ANTIOQUIA</td>\n",
       "      <td>Municipio</td>\n",
       "    </tr>\n",
       "    <tr>\n",
       "      <th>1</th>\n",
       "      <td>1</td>\n",
       "      <td>https://www.fincaraiz.com.co/vivari-de-san-nic...</td>\n",
       "      <td>VIVARI DE SAN NICOLAS San Nicolás - Rionegro</td>\n",
       "      <td>496122600</td>\n",
       "      <td>91972.0</td>\n",
       "      <td>3.0</td>\n",
       "      <td>3.0</td>\n",
       "      <td>1</td>\n",
       "      <td>6234794 Vivari San Nicolás, es un conjunto res...</td>\n",
       "      <td>1.0</td>\n",
       "      <td>...</td>\n",
       "      <td>0.0</td>\n",
       "      <td>0.0</td>\n",
       "      <td>0.0</td>\n",
       "      <td>0.0</td>\n",
       "      <td>0.0</td>\n",
       "      <td>RIONEGRO</td>\n",
       "      <td>5</td>\n",
       "      <td>5615.0</td>\n",
       "      <td>ANTIOQUIA</td>\n",
       "      <td>Municipio</td>\n",
       "    </tr>\n",
       "    <tr>\n",
       "      <th>2</th>\n",
       "      <td>1</td>\n",
       "      <td>https://www.fincaraiz.com.co/altos-de-santana/...</td>\n",
       "      <td>ALTOS DE SANTANA Oriente Antioqueño - Rionegro</td>\n",
       "      <td>360002000</td>\n",
       "      <td>73372.0</td>\n",
       "      <td>3.0</td>\n",
       "      <td>3.0</td>\n",
       "      <td>0</td>\n",
       "      <td>6351568 Proyecto de apartamentos de 2 y 3 habi...</td>\n",
       "      <td>0.0</td>\n",
       "      <td>...</td>\n",
       "      <td>0.0</td>\n",
       "      <td>1.0</td>\n",
       "      <td>0.0</td>\n",
       "      <td>0.0</td>\n",
       "      <td>0.0</td>\n",
       "      <td>RIONEGRO</td>\n",
       "      <td>5</td>\n",
       "      <td>5615.0</td>\n",
       "      <td>ANTIOQUIA</td>\n",
       "      <td>Municipio</td>\n",
       "    </tr>\n",
       "    <tr>\n",
       "      <th>3</th>\n",
       "      <td>0</td>\n",
       "      <td>https://www.fincaraiz.com.co/casa-en-venta/rio...</td>\n",
       "      <td>Casa en Venta Rionegro Llano Grande</td>\n",
       "      <td>1350000000</td>\n",
       "      <td>28200.0</td>\n",
       "      <td>4.0</td>\n",
       "      <td>5.0</td>\n",
       "      <td>4</td>\n",
       "      <td>Casa en  venta en exclusiva unidad cerrada en ...</td>\n",
       "      <td>1.0</td>\n",
       "      <td>...</td>\n",
       "      <td>0.0</td>\n",
       "      <td>1.0</td>\n",
       "      <td>0.0</td>\n",
       "      <td>1.0</td>\n",
       "      <td>1.0</td>\n",
       "      <td>RIONEGRO</td>\n",
       "      <td>5</td>\n",
       "      <td>5615.0</td>\n",
       "      <td>ANTIOQUIA</td>\n",
       "      <td>Municipio</td>\n",
       "    </tr>\n",
       "    <tr>\n",
       "      <th>4</th>\n",
       "      <td>0</td>\n",
       "      <td>https://www.fincaraiz.com.co/casa-en-venta/rio...</td>\n",
       "      <td>Casa en Venta Rionegro El Porvenir</td>\n",
       "      <td>950000000</td>\n",
       "      <td>23000.0</td>\n",
       "      <td>3.0</td>\n",
       "      <td>3.0</td>\n",
       "      <td>2</td>\n",
       "      <td>Hermosa casa de 3 niveles en Venta en Lotus Ex...</td>\n",
       "      <td>0.0</td>\n",
       "      <td>...</td>\n",
       "      <td>0.0</td>\n",
       "      <td>0.0</td>\n",
       "      <td>0.0</td>\n",
       "      <td>0.0</td>\n",
       "      <td>0.0</td>\n",
       "      <td>RIONEGRO</td>\n",
       "      <td>5</td>\n",
       "      <td>5615.0</td>\n",
       "      <td>ANTIOQUIA</td>\n",
       "      <td>Municipio</td>\n",
       "    </tr>\n",
       "  </tbody>\n",
       "</table>\n",
       "<p>5 rows × 29 columns</p>\n",
       "</div>"
      ],
      "text/plain": [
       "   tipo                                                url  \\\n",
       "0     0  https://www.fincaraiz.com.co/casa-campestre-en...   \n",
       "1     1  https://www.fincaraiz.com.co/vivari-de-san-nic...   \n",
       "2     1  https://www.fincaraiz.com.co/altos-de-santana/...   \n",
       "3     0  https://www.fincaraiz.com.co/casa-en-venta/rio...   \n",
       "4     0  https://www.fincaraiz.com.co/casa-en-venta/rio...   \n",
       "\n",
       "                                              titulo      precio     area  \\\n",
       "0  Casa Campestre en Venta Rionegro Vereda Guayabito  1380000000  32000.0   \n",
       "1       VIVARI DE SAN NICOLAS San Nicolás - Rionegro   496122600  91972.0   \n",
       "2     ALTOS DE SANTANA Oriente Antioqueño - Rionegro   360002000  73372.0   \n",
       "3                Casa en Venta Rionegro Llano Grande  1350000000  28200.0   \n",
       "4                 Casa en Venta Rionegro El Porvenir   950000000  23000.0   \n",
       "\n",
       "   habitaciones  banos  garajes  \\\n",
       "0           5.0    6.0        2   \n",
       "1           3.0    3.0        1   \n",
       "2           3.0    3.0        0   \n",
       "3           4.0    5.0        4   \n",
       "4           3.0    3.0        2   \n",
       "\n",
       "                                         descripcion  balcon  ...  \\\n",
       "0  Propiedad moderna con muy buenos acabados. Her...     1.0  ...   \n",
       "1  6234794 Vivari San Nicolás, es un conjunto res...     1.0  ...   \n",
       "2  6351568 Proyecto de apartamentos de 2 y 3 habi...     0.0  ...   \n",
       "3  Casa en  venta en exclusiva unidad cerrada en ...     1.0  ...   \n",
       "4  Hermosa casa de 3 niveles en Venta en Lotus Ex...     0.0  ...   \n",
       "\n",
       "   parqueadero visitantes  colegios / universidades  parques cercanos  \\\n",
       "0                     0.0                       0.0               0.0   \n",
       "1                     0.0                       0.0               0.0   \n",
       "2                     0.0                       1.0               0.0   \n",
       "3                     0.0                       1.0               0.0   \n",
       "4                     0.0                       0.0               0.0   \n",
       "\n",
       "   zona residencial  closet  nombre municipio  codigo departamento  \\\n",
       "0               0.0     0.0          RIONEGRO                    5   \n",
       "1               0.0     0.0          RIONEGRO                    5   \n",
       "2               0.0     0.0          RIONEGRO                    5   \n",
       "3               1.0     1.0          RIONEGRO                    5   \n",
       "4               0.0     0.0          RIONEGRO                    5   \n",
       "\n",
       "   codigo municipio  nombre departamento  \\\n",
       "0            5615.0            ANTIOQUIA   \n",
       "1            5615.0            ANTIOQUIA   \n",
       "2            5615.0            ANTIOQUIA   \n",
       "3            5615.0            ANTIOQUIA   \n",
       "4            5615.0            ANTIOQUIA   \n",
       "\n",
       "   tipo: municipio / isla / area no municipalizada  \n",
       "0                                        Municipio  \n",
       "1                                        Municipio  \n",
       "2                                        Municipio  \n",
       "3                                        Municipio  \n",
       "4                                        Municipio  \n",
       "\n",
       "[5 rows x 29 columns]"
      ]
     },
     "execution_count": 60,
     "metadata": {},
     "output_type": "execute_result"
    }
   ],
   "source": [
    "dfp=pd.read_csv(r'C:\\Users\\Juan Guzman\\pviviendas\\Data\\dfclean')\n",
    "dfp.head()"
   ]
  },
  {
   "cell_type": "code",
   "execution_count": 62,
   "metadata": {},
   "outputs": [
    {
     "name": "stdout",
     "output_type": "stream",
     "text": [
      "<class 'pandas.core.frame.DataFrame'>\n",
      "RangeIndex: 2053 entries, 0 to 2052\n",
      "Data columns (total 29 columns):\n",
      " #   Column                                           Non-Null Count  Dtype  \n",
      "---  ------                                           --------------  -----  \n",
      " 0   tipo                                             2053 non-null   int64  \n",
      " 1   url                                              2053 non-null   object \n",
      " 2   titulo                                           2053 non-null   object \n",
      " 3   precio                                           2053 non-null   int64  \n",
      " 4   area                                             2053 non-null   float64\n",
      " 5   habitaciones                                     2053 non-null   float64\n",
      " 6   banos                                            2053 non-null   float64\n",
      " 7   garajes                                          2053 non-null   int64  \n",
      " 8   descripcion                                      2053 non-null   object \n",
      " 9   balcon                                           2053 non-null   float64\n",
      " 10  trans. publico cercano                           2053 non-null   float64\n",
      " 11  estrato                                          2053 non-null   float64\n",
      " 12  antiguedad                                       2053 non-null   float64\n",
      " 13  cocina integral                                  2053 non-null   float64\n",
      " 14  bano auxiliar                                    2053 non-null   float64\n",
      " 15  zona de lavanderia                               2053 non-null   float64\n",
      " 16  zonas verdes                                     2053 non-null   float64\n",
      " 17  supermercados / c.comerciales                    2053 non-null   float64\n",
      " 18  instalacion de gas                               2053 non-null   float64\n",
      " 19  parqueadero visitantes                           2053 non-null   float64\n",
      " 20  colegios / universidades                         2053 non-null   float64\n",
      " 21  parques cercanos                                 2053 non-null   float64\n",
      " 22  zona residencial                                 2053 non-null   float64\n",
      " 23  closet                                           2053 non-null   float64\n",
      " 24  nombre municipio                                 2053 non-null   object \n",
      " 25  codigo departamento                              2053 non-null   int64  \n",
      " 26  codigo municipio                                 2053 non-null   float64\n",
      " 27  nombre departamento                              2053 non-null   object \n",
      " 28  tipo: municipio / isla / area no municipalizada  2053 non-null   object \n",
      "dtypes: float64(19), int64(4), object(6)\n",
      "memory usage: 465.3+ KB\n"
     ]
    }
   ],
   "source": [
    "dfp.info()"
   ]
  }
 ],
 "metadata": {
  "kernelspec": {
   "display_name": "base",
   "language": "python",
   "name": "python3"
  },
  "language_info": {
   "codemirror_mode": {
    "name": "ipython",
    "version": 3
   },
   "file_extension": ".py",
   "mimetype": "text/x-python",
   "name": "python",
   "nbconvert_exporter": "python",
   "pygments_lexer": "ipython3",
   "version": "3.9.13"
  },
  "orig_nbformat": 4
 },
 "nbformat": 4,
 "nbformat_minor": 2
}
