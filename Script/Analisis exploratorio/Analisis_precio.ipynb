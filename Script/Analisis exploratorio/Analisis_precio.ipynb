{
 "cells": [
  {
   "attachments": {},
   "cell_type": "markdown",
   "metadata": {},
   "source": [
    "# Analisis explroatorio de los datos"
   ]
  },
  {
   "attachments": {},
   "cell_type": "markdown",
   "metadata": {},
   "source": [
    "En este script nos centraremos en analizar la variable precio, tanto su comportamiento como relacion con las demas variables"
   ]
  },
  {
   "cell_type": "code",
   "execution_count": 29,
   "metadata": {},
   "outputs": [],
   "source": [
    "import matplotlib.pyplot as plt\n",
    "import numpy as np\n",
    "import pandas as pd\n",
    "import seaborn as sns\n",
    "from scipy import stats\n"
   ]
  },
  {
   "attachments": {},
   "cell_type": "markdown",
   "metadata": {},
   "source": [
    "# Datos"
   ]
  },
  {
   "cell_type": "code",
   "execution_count": 30,
   "metadata": {},
   "outputs": [],
   "source": [
    "# !git clone git@github.com:juanguzman2/Precio-de-viviendas-en-colmbia.git"
   ]
  },
  {
   "cell_type": "code",
   "execution_count": 31,
   "metadata": {},
   "outputs": [
    {
     "data": {
      "text/html": [
       "<div>\n",
       "<style scoped>\n",
       "    .dataframe tbody tr th:only-of-type {\n",
       "        vertical-align: middle;\n",
       "    }\n",
       "\n",
       "    .dataframe tbody tr th {\n",
       "        vertical-align: top;\n",
       "    }\n",
       "\n",
       "    .dataframe thead th {\n",
       "        text-align: right;\n",
       "    }\n",
       "</style>\n",
       "<table border=\"1\" class=\"dataframe\">\n",
       "  <thead>\n",
       "    <tr style=\"text-align: right;\">\n",
       "      <th></th>\n",
       "      <th>precio</th>\n",
       "      <th>area</th>\n",
       "      <th>habitaciones</th>\n",
       "      <th>banos</th>\n",
       "      <th>garajes</th>\n",
       "      <th>balcon</th>\n",
       "      <th>trasn. publico</th>\n",
       "      <th>estrato</th>\n",
       "      <th>antiguedad</th>\n",
       "      <th>cocina</th>\n",
       "      <th>...</th>\n",
       "      <th>zonas verdes</th>\n",
       "      <th>supermercado o cc</th>\n",
       "      <th>instalacion de gas</th>\n",
       "      <th>parqueadero visitantes</th>\n",
       "      <th>colegios / universidades</th>\n",
       "      <th>parques cercanos</th>\n",
       "      <th>zona residencial</th>\n",
       "      <th>closet</th>\n",
       "      <th>municipio</th>\n",
       "      <th>tipo_propiedad</th>\n",
       "    </tr>\n",
       "  </thead>\n",
       "  <tbody>\n",
       "    <tr>\n",
       "      <th>0</th>\n",
       "      <td>1380000000</td>\n",
       "      <td>320.00</td>\n",
       "      <td>5</td>\n",
       "      <td>6.0</td>\n",
       "      <td>2</td>\n",
       "      <td>1.0</td>\n",
       "      <td>1.0</td>\n",
       "      <td>5.0</td>\n",
       "      <td>1.0</td>\n",
       "      <td>0.0</td>\n",
       "      <td>...</td>\n",
       "      <td>0.0</td>\n",
       "      <td>0.0</td>\n",
       "      <td>0.0</td>\n",
       "      <td>0.0</td>\n",
       "      <td>0.0</td>\n",
       "      <td>0.0</td>\n",
       "      <td>0.0</td>\n",
       "      <td>0.0</td>\n",
       "      <td>rionegro</td>\n",
       "      <td>casa</td>\n",
       "    </tr>\n",
       "    <tr>\n",
       "      <th>1</th>\n",
       "      <td>496122600</td>\n",
       "      <td>91.97</td>\n",
       "      <td>3</td>\n",
       "      <td>3.0</td>\n",
       "      <td>1</td>\n",
       "      <td>1.0</td>\n",
       "      <td>1.0</td>\n",
       "      <td>3.0</td>\n",
       "      <td>0.0</td>\n",
       "      <td>0.0</td>\n",
       "      <td>...</td>\n",
       "      <td>1.0</td>\n",
       "      <td>1.0</td>\n",
       "      <td>0.0</td>\n",
       "      <td>0.0</td>\n",
       "      <td>0.0</td>\n",
       "      <td>0.0</td>\n",
       "      <td>0.0</td>\n",
       "      <td>0.0</td>\n",
       "      <td>rionegro</td>\n",
       "      <td>apartamento</td>\n",
       "    </tr>\n",
       "    <tr>\n",
       "      <th>2</th>\n",
       "      <td>570000000</td>\n",
       "      <td>150.00</td>\n",
       "      <td>3</td>\n",
       "      <td>3.0</td>\n",
       "      <td>1</td>\n",
       "      <td>1.0</td>\n",
       "      <td>1.0</td>\n",
       "      <td>5.0</td>\n",
       "      <td>1.0</td>\n",
       "      <td>1.0</td>\n",
       "      <td>...</td>\n",
       "      <td>1.0</td>\n",
       "      <td>1.0</td>\n",
       "      <td>1.0</td>\n",
       "      <td>1.0</td>\n",
       "      <td>1.0</td>\n",
       "      <td>1.0</td>\n",
       "      <td>1.0</td>\n",
       "      <td>0.0</td>\n",
       "      <td>san antonio de pereira</td>\n",
       "      <td>casa</td>\n",
       "    </tr>\n",
       "    <tr>\n",
       "      <th>3</th>\n",
       "      <td>290000000</td>\n",
       "      <td>106.00</td>\n",
       "      <td>3</td>\n",
       "      <td>3.0</td>\n",
       "      <td>1</td>\n",
       "      <td>0.0</td>\n",
       "      <td>0.0</td>\n",
       "      <td>4.0</td>\n",
       "      <td>1.0</td>\n",
       "      <td>0.0</td>\n",
       "      <td>...</td>\n",
       "      <td>0.0</td>\n",
       "      <td>0.0</td>\n",
       "      <td>0.0</td>\n",
       "      <td>0.0</td>\n",
       "      <td>0.0</td>\n",
       "      <td>0.0</td>\n",
       "      <td>0.0</td>\n",
       "      <td>0.0</td>\n",
       "      <td>marinilla</td>\n",
       "      <td>casa</td>\n",
       "    </tr>\n",
       "    <tr>\n",
       "      <th>4</th>\n",
       "      <td>360002000</td>\n",
       "      <td>73.37</td>\n",
       "      <td>3</td>\n",
       "      <td>3.0</td>\n",
       "      <td>0</td>\n",
       "      <td>0.0</td>\n",
       "      <td>0.0</td>\n",
       "      <td>3.0</td>\n",
       "      <td>0.0</td>\n",
       "      <td>0.0</td>\n",
       "      <td>...</td>\n",
       "      <td>0.0</td>\n",
       "      <td>0.0</td>\n",
       "      <td>0.0</td>\n",
       "      <td>0.0</td>\n",
       "      <td>1.0</td>\n",
       "      <td>0.0</td>\n",
       "      <td>0.0</td>\n",
       "      <td>0.0</td>\n",
       "      <td>rionegro</td>\n",
       "      <td>apartamento</td>\n",
       "    </tr>\n",
       "  </tbody>\n",
       "</table>\n",
       "<p>5 rows × 22 columns</p>\n",
       "</div>"
      ],
      "text/plain": [
       "       precio    area  habitaciones  banos  garajes  balcon  trasn. publico  \\\n",
       "0  1380000000  320.00             5    6.0        2     1.0             1.0   \n",
       "1   496122600   91.97             3    3.0        1     1.0             1.0   \n",
       "2   570000000  150.00             3    3.0        1     1.0             1.0   \n",
       "3   290000000  106.00             3    3.0        1     0.0             0.0   \n",
       "4   360002000   73.37             3    3.0        0     0.0             0.0   \n",
       "\n",
       "   estrato  antiguedad  cocina  ...  zonas verdes  supermercado o cc  \\\n",
       "0      5.0         1.0     0.0  ...           0.0                0.0   \n",
       "1      3.0         0.0     0.0  ...           1.0                1.0   \n",
       "2      5.0         1.0     1.0  ...           1.0                1.0   \n",
       "3      4.0         1.0     0.0  ...           0.0                0.0   \n",
       "4      3.0         0.0     0.0  ...           0.0                0.0   \n",
       "\n",
       "   instalacion de gas  parqueadero visitantes  colegios / universidades  \\\n",
       "0                 0.0                     0.0                       0.0   \n",
       "1                 0.0                     0.0                       0.0   \n",
       "2                 1.0                     1.0                       1.0   \n",
       "3                 0.0                     0.0                       0.0   \n",
       "4                 0.0                     0.0                       1.0   \n",
       "\n",
       "   parques cercanos  zona residencial  closet               municipio  \\\n",
       "0               0.0               0.0     0.0                rionegro   \n",
       "1               0.0               0.0     0.0                rionegro   \n",
       "2               1.0               1.0     0.0  san antonio de pereira   \n",
       "3               0.0               0.0     0.0               marinilla   \n",
       "4               0.0               0.0     0.0                rionegro   \n",
       "\n",
       "   tipo_propiedad  \n",
       "0            casa  \n",
       "1     apartamento  \n",
       "2            casa  \n",
       "3            casa  \n",
       "4     apartamento  \n",
       "\n",
       "[5 rows x 22 columns]"
      ]
     },
     "execution_count": 31,
     "metadata": {},
     "output_type": "execute_result"
    }
   ],
   "source": [
    "dfpropiedades=pd.read_csv(r'C:\\Users\\Juan Guzman\\pviviendas\\Data\\dfanalisis')\n",
    "dfpropiedades.head()"
   ]
  },
  {
   "cell_type": "code",
   "execution_count": 32,
   "metadata": {},
   "outputs": [
    {
     "name": "stdout",
     "output_type": "stream",
     "text": [
      "<class 'pandas.core.frame.DataFrame'>\n",
      "RangeIndex: 2144 entries, 0 to 2143\n",
      "Data columns (total 22 columns):\n",
      " #   Column                    Non-Null Count  Dtype  \n",
      "---  ------                    --------------  -----  \n",
      " 0   precio                    2144 non-null   int64  \n",
      " 1   area                      2144 non-null   float64\n",
      " 2   habitaciones              2144 non-null   int64  \n",
      " 3   banos                     2144 non-null   float64\n",
      " 4   garajes                   2144 non-null   int64  \n",
      " 5   balcon                    2144 non-null   float64\n",
      " 6   trasn. publico            2144 non-null   float64\n",
      " 7   estrato                   2144 non-null   float64\n",
      " 8   antiguedad                2144 non-null   float64\n",
      " 9   cocina                    2144 non-null   float64\n",
      " 10  bano aux                  2144 non-null   float64\n",
      " 11  zona lavanderia           2144 non-null   float64\n",
      " 12  zonas verdes              2144 non-null   float64\n",
      " 13  supermercado o cc         2144 non-null   float64\n",
      " 14  instalacion de gas        2144 non-null   float64\n",
      " 15  parqueadero visitantes    2144 non-null   float64\n",
      " 16  colegios / universidades  2144 non-null   float64\n",
      " 17  parques cercanos          2144 non-null   float64\n",
      " 18  zona residencial          2144 non-null   float64\n",
      " 19  closet                    2144 non-null   float64\n",
      " 20  municipio                 2144 non-null   object \n",
      " 21  tipo_propiedad            2144 non-null   object \n",
      "dtypes: float64(17), int64(3), object(2)\n",
      "memory usage: 368.6+ KB\n"
     ]
    }
   ],
   "source": [
    "dfpropiedades.info()"
   ]
  },
  {
   "attachments": {},
   "cell_type": "markdown",
   "metadata": {},
   "source": [
    "# Analisis univariado"
   ]
  },
  {
   "cell_type": "code",
   "execution_count": 33,
   "metadata": {},
   "outputs": [
    {
     "data": {
      "text/plain": [
       "count    2.144000e+03\n",
       "mean     6.420125e+08\n",
       "std      5.008978e+08\n",
       "min      1.490000e+08\n",
       "25%      3.100000e+08\n",
       "50%      4.400000e+08\n",
       "75%      7.800000e+08\n",
       "max      2.300000e+09\n",
       "Name: precio, dtype: float64"
      ]
     },
     "execution_count": 33,
     "metadata": {},
     "output_type": "execute_result"
    }
   ],
   "source": [
    "dfpropiedades['precio'].describe()"
   ]
  },
  {
   "cell_type": "code",
   "execution_count": 34,
   "metadata": {},
   "outputs": [
    {
     "data": {
      "text/plain": [
       "<seaborn.axisgrid.FacetGrid at 0x230e1a8ffd0>"
      ]
     },
     "execution_count": 34,
     "metadata": {},
     "output_type": "execute_result"
    },
    {
     "data": {
      "image/png": "[encoded data removed]",
      "text/plain": [
       "<Figure size 500x500 with 1 Axes>"
      ]
     },
     "metadata": {},
     "output_type": "display_data"
    }
   ],
   "source": [
    "# distribucion de la variable precio\n",
    "sns.displot(dfpropiedades['precio'],bins=50)"
   ]
  },
  {
   "attachments": {},
   "cell_type": "markdown",
   "metadata": {},
   "source": [
    "Se puede observar un sesgo hacia la izquierda de los datos, es decir, la concentracion de datos de precios de viviendas se concentra en los precios mas bajos, es mas difcil encontrar viviendas con precios altos "
   ]
  },
  {
   "cell_type": "code",
   "execution_count": 35,
   "metadata": {},
   "outputs": [
    {
     "data": {
      "text/plain": [
       "14     2300000000\n",
       "31     2300000000\n",
       "92     2300000000\n",
       "261    2300000000\n",
       "504    2300000000\n",
       "Name: precio, dtype: int64"
      ]
     },
     "execution_count": 35,
     "metadata": {},
     "output_type": "execute_result"
    }
   ],
   "source": [
    "# precio de las 5 viviendas mas costosas\n",
    "dfpropiedades['precio'].nlargest(5)"
   ]
  },
  {
   "cell_type": "code",
   "execution_count": 36,
   "metadata": {},
   "outputs": [
    {
     "data": {
      "text/plain": [
       "1946    149000000\n",
       "1006    150000000\n",
       "1818    150000000\n",
       "1855    150000000\n",
       "1860    150000000\n",
       "Name: precio, dtype: int64"
      ]
     },
     "execution_count": 36,
     "metadata": {},
     "output_type": "execute_result"
    }
   ],
   "source": [
    "# precio de las 5 viviendas mas economicas\n",
    "dfpropiedades['precio'].nsmallest(5)"
   ]
  },
  {
   "attachments": {},
   "cell_type": "markdown",
   "metadata": {},
   "source": [
    "Se puede observar un sesgo hacia la izquierda de los datos, es decir, la concentracion de datos del area de las viviendas se concentra en las areas mas bajos, es mas difcil encontrar viviendas con grandes extensidades de terreno.\n",
    "De aqui se puede deducir que hay un auge en la venta de apartamentos"
   ]
  },
  {
   "attachments": {},
   "cell_type": "markdown",
   "metadata": {},
   "source": [
    "## Analisis bivariado"
   ]
  },
  {
   "attachments": {},
   "cell_type": "markdown",
   "metadata": {},
   "source": [
    "Se encontrara la relacion de la variable precio con las demas variables"
   ]
  }
 ],
 "metadata": {
  "kernelspec": {
   "display_name": "base",
   "language": "python",
   "name": "python3"
  },
  "language_info": {
   "codemirror_mode": {
    "name": "ipython",
    "version": 3
   },
   "file_extension": ".py",
   "mimetype": "text/x-python",
   "name": "python",
   "nbconvert_exporter": "python",
   "pygments_lexer": "ipython3",
   "version": "3.9.13"
  },
  "orig_nbformat": 4,
  "vscode": {
   "interpreter": {
    "hash": "3383eef6cf5dadfe9a0000af274ebd1f54185d2acf00686d392cb21533caf17d"
   }
  }
 },
 "nbformat": 4,
 "nbformat_minor": 2
}
