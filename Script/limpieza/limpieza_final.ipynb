{
 "cells": [
  {
   "cell_type": "code",
   "execution_count": 273,
   "metadata": {},
   "outputs": [],
   "source": [
    "import matplotlib.pyplot as plt\n",
    "import numpy as np\n",
    "import pandas as pd\n",
    "import seaborn as sns\n",
    "from unidecode import unidecode\n",
    "import re\n",
    "from scipy import stats"
   ]
  },
  {
   "cell_type": "code",
   "execution_count": 274,
   "metadata": {},
   "outputs": [],
   "source": [
    "# !git clone git@github.com:juanguzman2/Precio-de-viviendas-en-colmbia.git"
   ]
  },
  {
   "attachments": {},
   "cell_type": "markdown",
   "metadata": {},
   "source": [
    "# Datos"
   ]
  },
  {
   "cell_type": "code",
   "execution_count": 319,
   "metadata": {},
   "outputs": [
    {
     "data": {
      "text/html": [
       "<div>\n",
       "<style scoped>\n",
       "    .dataframe tbody tr th:only-of-type {\n",
       "        vertical-align: middle;\n",
       "    }\n",
       "\n",
       "    .dataframe tbody tr th {\n",
       "        vertical-align: top;\n",
       "    }\n",
       "\n",
       "    .dataframe thead th {\n",
       "        text-align: right;\n",
       "    }\n",
       "</style>\n",
       "<table border=\"1\" class=\"dataframe\">\n",
       "  <thead>\n",
       "    <tr style=\"text-align: right;\">\n",
       "      <th></th>\n",
       "      <th>tipo</th>\n",
       "      <th>url</th>\n",
       "      <th>titulo</th>\n",
       "      <th>precio</th>\n",
       "      <th>area</th>\n",
       "      <th>habitaciones</th>\n",
       "      <th>banos</th>\n",
       "      <th>garajes</th>\n",
       "      <th>descripcion</th>\n",
       "      <th>Balcón</th>\n",
       "      <th>...</th>\n",
       "      <th>Zonas Verdes</th>\n",
       "      <th>Supermercados / C.Comerciales</th>\n",
       "      <th>Instalación de gas</th>\n",
       "      <th>Parqueadero Visitantes</th>\n",
       "      <th>Colegios / Universidades</th>\n",
       "      <th>Parques cercanos</th>\n",
       "      <th>Zona Residencial</th>\n",
       "      <th>Closet</th>\n",
       "      <th>municipio</th>\n",
       "      <th>tipo_propiedad</th>\n",
       "    </tr>\n",
       "  </thead>\n",
       "  <tbody>\n",
       "    <tr>\n",
       "      <th>0</th>\n",
       "      <td>Usada</td>\n",
       "      <td>https://www.fincaraiz.com.co/casa-campestre-en...</td>\n",
       "      <td>Casa Campestre en Venta Rionegro Vereda Guayabito</td>\n",
       "      <td>$ 1.380.000.000</td>\n",
       "      <td>320,00 m²</td>\n",
       "      <td>5</td>\n",
       "      <td>6</td>\n",
       "      <td>2</td>\n",
       "      <td>Propiedad moderna con muy buenos acabados. Her...</td>\n",
       "      <td>1.0</td>\n",
       "      <td>...</td>\n",
       "      <td>NaN</td>\n",
       "      <td>NaN</td>\n",
       "      <td>NaN</td>\n",
       "      <td>NaN</td>\n",
       "      <td>NaN</td>\n",
       "      <td>NaN</td>\n",
       "      <td>NaN</td>\n",
       "      <td>NaN</td>\n",
       "      <td>rionegro</td>\n",
       "      <td>casa</td>\n",
       "    </tr>\n",
       "  </tbody>\n",
       "</table>\n",
       "<p>1 rows × 29 columns</p>\n",
       "</div>"
      ],
      "text/plain": [
       "    tipo                                                url  \\\n",
       "0  Usada  https://www.fincaraiz.com.co/casa-campestre-en...   \n",
       "\n",
       "                                              titulo           precio  \\\n",
       "0  Casa Campestre en Venta Rionegro Vereda Guayabito  $ 1.380.000.000   \n",
       "\n",
       "        area habitaciones banos garajes  \\\n",
       "0  320,00 m²            5     6       2   \n",
       "\n",
       "                                         descripcion  Balcón  ...  \\\n",
       "0  Propiedad moderna con muy buenos acabados. Her...     1.0  ...   \n",
       "\n",
       "   Zonas Verdes Supermercados / C.Comerciales Instalación de gas  \\\n",
       "0           NaN                           NaN                NaN   \n",
       "\n",
       "  Parqueadero Visitantes Colegios / Universidades Parques cercanos  \\\n",
       "0                    NaN                      NaN              NaN   \n",
       "\n",
       "   Zona Residencial  Closet  municipio  tipo_propiedad  \n",
       "0               NaN     NaN   rionegro            casa  \n",
       "\n",
       "[1 rows x 29 columns]"
      ]
     },
     "execution_count": 319,
     "metadata": {},
     "output_type": "execute_result"
    }
   ],
   "source": [
    "dfpropiedades=pd.read_csv(r'C:\\Users\\Juan Guzman\\pviviendas\\Data\\dfclean1')\n",
    "dfpropiedades.head(1)"
   ]
  },
  {
   "attachments": {},
   "cell_type": "markdown",
   "metadata": {},
   "source": [
    "# Limpieza de los Nan "
   ]
  },
  {
   "cell_type": "code",
   "execution_count": 276,
   "metadata": {},
   "outputs": [],
   "source": [
    "def graf_num_nan(df):\n",
    "        dfNan = df.isnull().pipe( # ejecutar varias operaciones en el DataFrame, \"pipe\" que se encarga de pasar la salida de una función como entrada de la siguiente\n",
    "                lambda df: (\n",
    "                            df.sum() # Suma el número de valores faltantes en cada columna del DataFrame\n",
    "                            .reset_index(name=\"numero_Nan\") # Reinicia el índice del DataFrame resultante y se le asigna nombre\n",
    "                            .rename(columns={'index':'variable'}) # se cambia el nombre de index a variable\n",
    "                            .assign ( # agrega columnas al df\n",
    "                                    observaciones = len(df), # numero total de registros en el df original\n",
    "                                    pct_missing = lambda df1 : df1.numero_Nan / df1.observaciones * 100, # porcentaje Nan en cada variable\n",
    "                                    )\n",
    "                            )\n",
    "\n",
    "                    )\n",
    "        plt.figure(figsize=(20,7))\n",
    "        dfgnan = dfNan.sort_values('numero_Nan') # almacenar el resumen del nan de las variables en el df dfgnan\n",
    "        plot_range = range(1, len(dfgnan.index) + 1) # establece la posicion de cada variable en el grafico\n",
    "        plt.hlines(y=plot_range, xmin=0, xmax=dfgnan.numero_Nan, colors='gray') # traza lineas horizontales en el grafico\n",
    "        plt.plot(dfgnan.numero_Nan, plot_range, \"o\", color='black') # pone \"o\" en el eje x\n",
    "        # plt.yticks(plot_range, dfgnan.variable) #  etiquetar los puntos en el eje y con los nombres de las variables\n",
    "        plt.grid(axis=\"y\") # agregar un gráfico de cuadrícula en el eje y\n",
    "        plt.xlabel(\"numero de Nan\")\n",
    "        plt.ylabel(\"Variable en orden ascendente en razon al numero de Nan\")\n",
    "\n",
    "\n",
    "        return dfNan"
   ]
  },
  {
   "cell_type": "code",
   "execution_count": 277,
   "metadata": {},
   "outputs": [
    {
     "data": {
      "text/html": [
       "<div>\n",
       "<style scoped>\n",
       "    .dataframe tbody tr th:only-of-type {\n",
       "        vertical-align: middle;\n",
       "    }\n",
       "\n",
       "    .dataframe tbody tr th {\n",
       "        vertical-align: top;\n",
       "    }\n",
       "\n",
       "    .dataframe thead th {\n",
       "        text-align: right;\n",
       "    }\n",
       "</style>\n",
       "<table border=\"1\" class=\"dataframe\">\n",
       "  <thead>\n",
       "    <tr style=\"text-align: right;\">\n",
       "      <th></th>\n",
       "      <th>variable</th>\n",
       "      <th>numero_Nan</th>\n",
       "      <th>observaciones</th>\n",
       "      <th>pct_missing</th>\n",
       "    </tr>\n",
       "  </thead>\n",
       "  <tbody>\n",
       "    <tr>\n",
       "      <th>0</th>\n",
       "      <td>tipo</td>\n",
       "      <td>0</td>\n",
       "      <td>2715</td>\n",
       "      <td>0.000000</td>\n",
       "    </tr>\n",
       "    <tr>\n",
       "      <th>1</th>\n",
       "      <td>url</td>\n",
       "      <td>0</td>\n",
       "      <td>2715</td>\n",
       "      <td>0.000000</td>\n",
       "    </tr>\n",
       "    <tr>\n",
       "      <th>2</th>\n",
       "      <td>titulo</td>\n",
       "      <td>0</td>\n",
       "      <td>2715</td>\n",
       "      <td>0.000000</td>\n",
       "    </tr>\n",
       "    <tr>\n",
       "      <th>3</th>\n",
       "      <td>precio</td>\n",
       "      <td>0</td>\n",
       "      <td>2715</td>\n",
       "      <td>0.000000</td>\n",
       "    </tr>\n",
       "    <tr>\n",
       "      <th>4</th>\n",
       "      <td>area</td>\n",
       "      <td>0</td>\n",
       "      <td>2715</td>\n",
       "      <td>0.000000</td>\n",
       "    </tr>\n",
       "    <tr>\n",
       "      <th>5</th>\n",
       "      <td>habitaciones</td>\n",
       "      <td>0</td>\n",
       "      <td>2715</td>\n",
       "      <td>0.000000</td>\n",
       "    </tr>\n",
       "    <tr>\n",
       "      <th>6</th>\n",
       "      <td>banos</td>\n",
       "      <td>0</td>\n",
       "      <td>2715</td>\n",
       "      <td>0.000000</td>\n",
       "    </tr>\n",
       "    <tr>\n",
       "      <th>7</th>\n",
       "      <td>garajes</td>\n",
       "      <td>0</td>\n",
       "      <td>2715</td>\n",
       "      <td>0.000000</td>\n",
       "    </tr>\n",
       "    <tr>\n",
       "      <th>8</th>\n",
       "      <td>descripcion</td>\n",
       "      <td>0</td>\n",
       "      <td>2715</td>\n",
       "      <td>0.000000</td>\n",
       "    </tr>\n",
       "    <tr>\n",
       "      <th>9</th>\n",
       "      <td>Balcón</td>\n",
       "      <td>1314</td>\n",
       "      <td>2715</td>\n",
       "      <td>48.397790</td>\n",
       "    </tr>\n",
       "    <tr>\n",
       "      <th>10</th>\n",
       "      <td>Trans. Público cercano</td>\n",
       "      <td>1111</td>\n",
       "      <td>2715</td>\n",
       "      <td>40.920810</td>\n",
       "    </tr>\n",
       "    <tr>\n",
       "      <th>11</th>\n",
       "      <td>caractint</td>\n",
       "      <td>0</td>\n",
       "      <td>2715</td>\n",
       "      <td>0.000000</td>\n",
       "    </tr>\n",
       "    <tr>\n",
       "      <th>12</th>\n",
       "      <td>caractext</td>\n",
       "      <td>0</td>\n",
       "      <td>2715</td>\n",
       "      <td>0.000000</td>\n",
       "    </tr>\n",
       "    <tr>\n",
       "      <th>13</th>\n",
       "      <td>caractsec</td>\n",
       "      <td>0</td>\n",
       "      <td>2715</td>\n",
       "      <td>0.000000</td>\n",
       "    </tr>\n",
       "    <tr>\n",
       "      <th>14</th>\n",
       "      <td>estrato</td>\n",
       "      <td>80</td>\n",
       "      <td>2715</td>\n",
       "      <td>2.946593</td>\n",
       "    </tr>\n",
       "    <tr>\n",
       "      <th>15</th>\n",
       "      <td>antiguedad</td>\n",
       "      <td>527</td>\n",
       "      <td>2715</td>\n",
       "      <td>19.410681</td>\n",
       "    </tr>\n",
       "    <tr>\n",
       "      <th>16</th>\n",
       "      <td>Cocina Integral</td>\n",
       "      <td>922</td>\n",
       "      <td>2715</td>\n",
       "      <td>33.959484</td>\n",
       "    </tr>\n",
       "    <tr>\n",
       "      <th>17</th>\n",
       "      <td>Baño Auxiliar</td>\n",
       "      <td>1533</td>\n",
       "      <td>2715</td>\n",
       "      <td>56.464088</td>\n",
       "    </tr>\n",
       "    <tr>\n",
       "      <th>18</th>\n",
       "      <td>Zona de lavandería</td>\n",
       "      <td>1341</td>\n",
       "      <td>2715</td>\n",
       "      <td>49.392265</td>\n",
       "    </tr>\n",
       "    <tr>\n",
       "      <th>19</th>\n",
       "      <td>Zonas Verdes</td>\n",
       "      <td>1547</td>\n",
       "      <td>2715</td>\n",
       "      <td>56.979742</td>\n",
       "    </tr>\n",
       "    <tr>\n",
       "      <th>20</th>\n",
       "      <td>Supermercados / C.Comerciales</td>\n",
       "      <td>1692</td>\n",
       "      <td>2715</td>\n",
       "      <td>62.320442</td>\n",
       "    </tr>\n",
       "    <tr>\n",
       "      <th>21</th>\n",
       "      <td>Instalación de gas</td>\n",
       "      <td>1614</td>\n",
       "      <td>2715</td>\n",
       "      <td>59.447514</td>\n",
       "    </tr>\n",
       "    <tr>\n",
       "      <th>22</th>\n",
       "      <td>Parqueadero Visitantes</td>\n",
       "      <td>1854</td>\n",
       "      <td>2715</td>\n",
       "      <td>68.287293</td>\n",
       "    </tr>\n",
       "    <tr>\n",
       "      <th>23</th>\n",
       "      <td>Colegios / Universidades</td>\n",
       "      <td>1756</td>\n",
       "      <td>2715</td>\n",
       "      <td>64.677716</td>\n",
       "    </tr>\n",
       "    <tr>\n",
       "      <th>24</th>\n",
       "      <td>Parques cercanos</td>\n",
       "      <td>1573</td>\n",
       "      <td>2715</td>\n",
       "      <td>57.937385</td>\n",
       "    </tr>\n",
       "    <tr>\n",
       "      <th>25</th>\n",
       "      <td>Zona Residencial</td>\n",
       "      <td>1370</td>\n",
       "      <td>2715</td>\n",
       "      <td>50.460405</td>\n",
       "    </tr>\n",
       "    <tr>\n",
       "      <th>26</th>\n",
       "      <td>Closet</td>\n",
       "      <td>1816</td>\n",
       "      <td>2715</td>\n",
       "      <td>66.887661</td>\n",
       "    </tr>\n",
       "    <tr>\n",
       "      <th>27</th>\n",
       "      <td>municipio</td>\n",
       "      <td>0</td>\n",
       "      <td>2715</td>\n",
       "      <td>0.000000</td>\n",
       "    </tr>\n",
       "    <tr>\n",
       "      <th>28</th>\n",
       "      <td>tipo_propiedad</td>\n",
       "      <td>0</td>\n",
       "      <td>2715</td>\n",
       "      <td>0.000000</td>\n",
       "    </tr>\n",
       "  </tbody>\n",
       "</table>\n",
       "</div>"
      ],
      "text/plain": [
       "                         variable  numero_Nan  observaciones  pct_missing\n",
       "0                            tipo           0           2715     0.000000\n",
       "1                             url           0           2715     0.000000\n",
       "2                          titulo           0           2715     0.000000\n",
       "3                          precio           0           2715     0.000000\n",
       "4                            area           0           2715     0.000000\n",
       "5                    habitaciones           0           2715     0.000000\n",
       "6                           banos           0           2715     0.000000\n",
       "7                         garajes           0           2715     0.000000\n",
       "8                     descripcion           0           2715     0.000000\n",
       "9                          Balcón        1314           2715    48.397790\n",
       "10         Trans. Público cercano        1111           2715    40.920810\n",
       "11                      caractint           0           2715     0.000000\n",
       "12                      caractext           0           2715     0.000000\n",
       "13                      caractsec           0           2715     0.000000\n",
       "14                        estrato          80           2715     2.946593\n",
       "15                     antiguedad         527           2715    19.410681\n",
       "16                Cocina Integral         922           2715    33.959484\n",
       "17                  Baño Auxiliar        1533           2715    56.464088\n",
       "18             Zona de lavandería        1341           2715    49.392265\n",
       "19                   Zonas Verdes        1547           2715    56.979742\n",
       "20  Supermercados / C.Comerciales        1692           2715    62.320442\n",
       "21             Instalación de gas        1614           2715    59.447514\n",
       "22         Parqueadero Visitantes        1854           2715    68.287293\n",
       "23       Colegios / Universidades        1756           2715    64.677716\n",
       "24               Parques cercanos        1573           2715    57.937385\n",
       "25               Zona Residencial        1370           2715    50.460405\n",
       "26                         Closet        1816           2715    66.887661\n",
       "27                      municipio           0           2715     0.000000\n",
       "28                 tipo_propiedad           0           2715     0.000000"
      ]
     },
     "execution_count": 277,
     "metadata": {},
     "output_type": "execute_result"
    },
    {
     "data": {
      "image/png": "[encoded data removed]",
      "text/plain": [
       "<Figure size 2000x700 with 1 Axes>"
      ]
     },
     "metadata": {},
     "output_type": "display_data"
    }
   ],
   "source": [
    "graf_num_nan(dfpropiedades)\n"
   ]
  },
  {
   "attachments": {},
   "cell_type": "markdown",
   "metadata": {},
   "source": [
    "Para todas las columnas excepto \n",
    "estrato y antiguedad se reemplazaran por 0"
   ]
  },
  {
   "cell_type": "code",
   "execution_count": 278,
   "metadata": {},
   "outputs": [],
   "source": [
    "exclude_cols = ['antiguedad', 'estrato']\n",
    "\n",
    "# reemplazar los valores NaN en las columnas no seleccionadas\n",
    "cols_to_replace = dfpropiedades.columns[~dfpropiedades.columns.isin(exclude_cols)]\n",
    "dfpropiedades[cols_to_replace] = dfpropiedades[cols_to_replace].fillna(0)"
   ]
  },
  {
   "cell_type": "code",
   "execution_count": 279,
   "metadata": {},
   "outputs": [
    {
     "data": {
      "text/html": [
       "<div>\n",
       "<style scoped>\n",
       "    .dataframe tbody tr th:only-of-type {\n",
       "        vertical-align: middle;\n",
       "    }\n",
       "\n",
       "    .dataframe tbody tr th {\n",
       "        vertical-align: top;\n",
       "    }\n",
       "\n",
       "    .dataframe thead th {\n",
       "        text-align: right;\n",
       "    }\n",
       "</style>\n",
       "<table border=\"1\" class=\"dataframe\">\n",
       "  <thead>\n",
       "    <tr style=\"text-align: right;\">\n",
       "      <th></th>\n",
       "      <th>variable</th>\n",
       "      <th>numero_Nan</th>\n",
       "      <th>observaciones</th>\n",
       "      <th>pct_missing</th>\n",
       "    </tr>\n",
       "  </thead>\n",
       "  <tbody>\n",
       "    <tr>\n",
       "      <th>0</th>\n",
       "      <td>tipo</td>\n",
       "      <td>0</td>\n",
       "      <td>2715</td>\n",
       "      <td>0.000000</td>\n",
       "    </tr>\n",
       "    <tr>\n",
       "      <th>1</th>\n",
       "      <td>url</td>\n",
       "      <td>0</td>\n",
       "      <td>2715</td>\n",
       "      <td>0.000000</td>\n",
       "    </tr>\n",
       "    <tr>\n",
       "      <th>2</th>\n",
       "      <td>titulo</td>\n",
       "      <td>0</td>\n",
       "      <td>2715</td>\n",
       "      <td>0.000000</td>\n",
       "    </tr>\n",
       "    <tr>\n",
       "      <th>3</th>\n",
       "      <td>precio</td>\n",
       "      <td>0</td>\n",
       "      <td>2715</td>\n",
       "      <td>0.000000</td>\n",
       "    </tr>\n",
       "    <tr>\n",
       "      <th>4</th>\n",
       "      <td>area</td>\n",
       "      <td>0</td>\n",
       "      <td>2715</td>\n",
       "      <td>0.000000</td>\n",
       "    </tr>\n",
       "    <tr>\n",
       "      <th>5</th>\n",
       "      <td>habitaciones</td>\n",
       "      <td>0</td>\n",
       "      <td>2715</td>\n",
       "      <td>0.000000</td>\n",
       "    </tr>\n",
       "    <tr>\n",
       "      <th>6</th>\n",
       "      <td>banos</td>\n",
       "      <td>0</td>\n",
       "      <td>2715</td>\n",
       "      <td>0.000000</td>\n",
       "    </tr>\n",
       "    <tr>\n",
       "      <th>7</th>\n",
       "      <td>garajes</td>\n",
       "      <td>0</td>\n",
       "      <td>2715</td>\n",
       "      <td>0.000000</td>\n",
       "    </tr>\n",
       "    <tr>\n",
       "      <th>8</th>\n",
       "      <td>descripcion</td>\n",
       "      <td>0</td>\n",
       "      <td>2715</td>\n",
       "      <td>0.000000</td>\n",
       "    </tr>\n",
       "    <tr>\n",
       "      <th>9</th>\n",
       "      <td>Balcón</td>\n",
       "      <td>0</td>\n",
       "      <td>2715</td>\n",
       "      <td>0.000000</td>\n",
       "    </tr>\n",
       "    <tr>\n",
       "      <th>10</th>\n",
       "      <td>Trans. Público cercano</td>\n",
       "      <td>0</td>\n",
       "      <td>2715</td>\n",
       "      <td>0.000000</td>\n",
       "    </tr>\n",
       "    <tr>\n",
       "      <th>11</th>\n",
       "      <td>caractint</td>\n",
       "      <td>0</td>\n",
       "      <td>2715</td>\n",
       "      <td>0.000000</td>\n",
       "    </tr>\n",
       "    <tr>\n",
       "      <th>12</th>\n",
       "      <td>caractext</td>\n",
       "      <td>0</td>\n",
       "      <td>2715</td>\n",
       "      <td>0.000000</td>\n",
       "    </tr>\n",
       "    <tr>\n",
       "      <th>13</th>\n",
       "      <td>caractsec</td>\n",
       "      <td>0</td>\n",
       "      <td>2715</td>\n",
       "      <td>0.000000</td>\n",
       "    </tr>\n",
       "    <tr>\n",
       "      <th>14</th>\n",
       "      <td>estrato</td>\n",
       "      <td>80</td>\n",
       "      <td>2715</td>\n",
       "      <td>2.946593</td>\n",
       "    </tr>\n",
       "    <tr>\n",
       "      <th>15</th>\n",
       "      <td>antiguedad</td>\n",
       "      <td>527</td>\n",
       "      <td>2715</td>\n",
       "      <td>19.410681</td>\n",
       "    </tr>\n",
       "    <tr>\n",
       "      <th>16</th>\n",
       "      <td>Cocina Integral</td>\n",
       "      <td>0</td>\n",
       "      <td>2715</td>\n",
       "      <td>0.000000</td>\n",
       "    </tr>\n",
       "    <tr>\n",
       "      <th>17</th>\n",
       "      <td>Baño Auxiliar</td>\n",
       "      <td>0</td>\n",
       "      <td>2715</td>\n",
       "      <td>0.000000</td>\n",
       "    </tr>\n",
       "    <tr>\n",
       "      <th>18</th>\n",
       "      <td>Zona de lavandería</td>\n",
       "      <td>0</td>\n",
       "      <td>2715</td>\n",
       "      <td>0.000000</td>\n",
       "    </tr>\n",
       "    <tr>\n",
       "      <th>19</th>\n",
       "      <td>Zonas Verdes</td>\n",
       "      <td>0</td>\n",
       "      <td>2715</td>\n",
       "      <td>0.000000</td>\n",
       "    </tr>\n",
       "    <tr>\n",
       "      <th>20</th>\n",
       "      <td>Supermercados / C.Comerciales</td>\n",
       "      <td>0</td>\n",
       "      <td>2715</td>\n",
       "      <td>0.000000</td>\n",
       "    </tr>\n",
       "    <tr>\n",
       "      <th>21</th>\n",
       "      <td>Instalación de gas</td>\n",
       "      <td>0</td>\n",
       "      <td>2715</td>\n",
       "      <td>0.000000</td>\n",
       "    </tr>\n",
       "    <tr>\n",
       "      <th>22</th>\n",
       "      <td>Parqueadero Visitantes</td>\n",
       "      <td>0</td>\n",
       "      <td>2715</td>\n",
       "      <td>0.000000</td>\n",
       "    </tr>\n",
       "    <tr>\n",
       "      <th>23</th>\n",
       "      <td>Colegios / Universidades</td>\n",
       "      <td>0</td>\n",
       "      <td>2715</td>\n",
       "      <td>0.000000</td>\n",
       "    </tr>\n",
       "    <tr>\n",
       "      <th>24</th>\n",
       "      <td>Parques cercanos</td>\n",
       "      <td>0</td>\n",
       "      <td>2715</td>\n",
       "      <td>0.000000</td>\n",
       "    </tr>\n",
       "    <tr>\n",
       "      <th>25</th>\n",
       "      <td>Zona Residencial</td>\n",
       "      <td>0</td>\n",
       "      <td>2715</td>\n",
       "      <td>0.000000</td>\n",
       "    </tr>\n",
       "    <tr>\n",
       "      <th>26</th>\n",
       "      <td>Closet</td>\n",
       "      <td>0</td>\n",
       "      <td>2715</td>\n",
       "      <td>0.000000</td>\n",
       "    </tr>\n",
       "    <tr>\n",
       "      <th>27</th>\n",
       "      <td>municipio</td>\n",
       "      <td>0</td>\n",
       "      <td>2715</td>\n",
       "      <td>0.000000</td>\n",
       "    </tr>\n",
       "    <tr>\n",
       "      <th>28</th>\n",
       "      <td>tipo_propiedad</td>\n",
       "      <td>0</td>\n",
       "      <td>2715</td>\n",
       "      <td>0.000000</td>\n",
       "    </tr>\n",
       "  </tbody>\n",
       "</table>\n",
       "</div>"
      ],
      "text/plain": [
       "                         variable  numero_Nan  observaciones  pct_missing\n",
       "0                            tipo           0           2715     0.000000\n",
       "1                             url           0           2715     0.000000\n",
       "2                          titulo           0           2715     0.000000\n",
       "3                          precio           0           2715     0.000000\n",
       "4                            area           0           2715     0.000000\n",
       "5                    habitaciones           0           2715     0.000000\n",
       "6                           banos           0           2715     0.000000\n",
       "7                         garajes           0           2715     0.000000\n",
       "8                     descripcion           0           2715     0.000000\n",
       "9                          Balcón           0           2715     0.000000\n",
       "10         Trans. Público cercano           0           2715     0.000000\n",
       "11                      caractint           0           2715     0.000000\n",
       "12                      caractext           0           2715     0.000000\n",
       "13                      caractsec           0           2715     0.000000\n",
       "14                        estrato          80           2715     2.946593\n",
       "15                     antiguedad         527           2715    19.410681\n",
       "16                Cocina Integral           0           2715     0.000000\n",
       "17                  Baño Auxiliar           0           2715     0.000000\n",
       "18             Zona de lavandería           0           2715     0.000000\n",
       "19                   Zonas Verdes           0           2715     0.000000\n",
       "20  Supermercados / C.Comerciales           0           2715     0.000000\n",
       "21             Instalación de gas           0           2715     0.000000\n",
       "22         Parqueadero Visitantes           0           2715     0.000000\n",
       "23       Colegios / Universidades           0           2715     0.000000\n",
       "24               Parques cercanos           0           2715     0.000000\n",
       "25               Zona Residencial           0           2715     0.000000\n",
       "26                         Closet           0           2715     0.000000\n",
       "27                      municipio           0           2715     0.000000\n",
       "28                 tipo_propiedad           0           2715     0.000000"
      ]
     },
     "execution_count": 279,
     "metadata": {},
     "output_type": "execute_result"
    },
    {
     "data": {
      "image/png": "[encoded data removed]",
      "text/plain": [
       "<Figure size 2000x700 with 1 Axes>"
      ]
     },
     "metadata": {},
     "output_type": "display_data"
    }
   ],
   "source": [
    "graf_num_nan(dfpropiedades)"
   ]
  },
  {
   "attachments": {},
   "cell_type": "markdown",
   "metadata": {},
   "source": [
    "# Renombramiento de columnas"
   ]
  },
  {
   "attachments": {},
   "cell_type": "markdown",
   "metadata": {},
   "source": [
    "Se procede a renombrar las columnas para facilitar la codificacion"
   ]
  },
  {
   "cell_type": "code",
   "execution_count": 280,
   "metadata": {},
   "outputs": [],
   "source": [
    "dfpropiedades.columns=dfpropiedades.columns.map(str.lower)\n",
    "dfpropiedades.columns = [unidecode(i) for i in dfpropiedades.columns]"
   ]
  },
  {
   "attachments": {},
   "cell_type": "markdown",
   "metadata": {},
   "source": [
    "# Arreglo de variables\n"
   ]
  },
  {
   "attachments": {},
   "cell_type": "markdown",
   "metadata": {},
   "source": [
    "Se procedera a analizar las variables y determinar que transformaciones son necesarias con el fin de realizar un mejor analisis"
   ]
  },
  {
   "attachments": {},
   "cell_type": "markdown",
   "metadata": {},
   "source": [
    "### Variable tipo"
   ]
  },
  {
   "attachments": {},
   "cell_type": "markdown",
   "metadata": {},
   "source": [
    "para la variables tipo que comprende entre usada y nueva se pasara a numero en dode usada es 0 y nueva es 1"
   ]
  },
  {
   "cell_type": "code",
   "execution_count": 281,
   "metadata": {},
   "outputs": [
    {
     "data": {
      "text/plain": [
       "array([0, 1], dtype=int64)"
      ]
     },
     "execution_count": 281,
     "metadata": {},
     "output_type": "execute_result"
    }
   ],
   "source": [
    "dfpropiedades['tipo'] = dfpropiedades['tipo'].apply(lambda x: 0 if x == 'Usada' else 1)\n",
    "dfpropiedades['tipo'].unique()"
   ]
  },
  {
   "attachments": {},
   "cell_type": "markdown",
   "metadata": {},
   "source": [
    "### Variable precio"
   ]
  },
  {
   "attachments": {},
   "cell_type": "markdown",
   "metadata": {},
   "source": [
    "A esta variable se le organizara el formato para que quede en entero y ademas se le organizara la manera en que esta escrita"
   ]
  },
  {
   "cell_type": "code",
   "execution_count": 282,
   "metadata": {},
   "outputs": [
    {
     "data": {
      "text/plain": [
       "'$ 1.380.000.000'"
      ]
     },
     "execution_count": 282,
     "metadata": {},
     "output_type": "execute_result"
    }
   ],
   "source": [
    "dfpropiedades['precio'][0]"
   ]
  },
  {
   "cell_type": "code",
   "execution_count": 283,
   "metadata": {},
   "outputs": [
    {
     "data": {
      "text/plain": [
       "1380000000"
      ]
     },
     "execution_count": 283,
     "metadata": {},
     "output_type": "execute_result"
    }
   ],
   "source": [
    "dfpropiedades['precio'] = dfpropiedades['precio'].apply(lambda x: int(x.replace('$', '').replace(' ', '').replace('.', '')))\n",
    "dfpropiedades['precio'][0]"
   ]
  },
  {
   "attachments": {},
   "cell_type": "markdown",
   "metadata": {},
   "source": [
    "### Variable area"
   ]
  },
  {
   "attachments": {},
   "cell_type": "markdown",
   "metadata": {},
   "source": [
    "Se eliminaran las viviendas que estan en hectareas las cuales son 143 y se pasaran los valores restantes de tipo cadena a tipo flotante"
   ]
  },
  {
   "cell_type": "code",
   "execution_count": 284,
   "metadata": {},
   "outputs": [
    {
     "data": {
      "text/plain": [
       "m     2587\n",
       "Ha     128\n",
       "Name: medida, dtype: int64"
      ]
     },
     "execution_count": 284,
     "metadata": {},
     "output_type": "execute_result"
    }
   ],
   "source": [
    "dfpropiedades['medida'] = dfpropiedades['area'].apply(lambda x: re.findall('[a-zA-Z]+', x)[0]) # se crea una nueva columna para calcular el numero de variables que estan en metros y las que estan en hectareas\n",
    "dfpropiedades['medida'].value_counts()"
   ]
  },
  {
   "cell_type": "code",
   "execution_count": 285,
   "metadata": {},
   "outputs": [],
   "source": [
    "dfpropiedades = dfpropiedades[~dfpropiedades['area'].str.contains('Ha|hA|HA')]"
   ]
  },
  {
   "cell_type": "code",
   "execution_count": 286,
   "metadata": {},
   "outputs": [
    {
     "data": {
      "text/plain": [
       "m    2587\n",
       "Name: medida, dtype: int64"
      ]
     },
     "execution_count": 286,
     "metadata": {},
     "output_type": "execute_result"
    }
   ],
   "source": [
    "dfpropiedades['medida'] = dfpropiedades['area'].apply(lambda x: re.findall('[a-zA-Z]+', x)[0])\n",
    "dfpropiedades['medida'].value_counts()"
   ]
  },
  {
   "cell_type": "code",
   "execution_count": 287,
   "metadata": {},
   "outputs": [],
   "source": [
    "dfpropiedades.drop('medida',axis=1,inplace=True) # se elimina la columna medida"
   ]
  },
  {
   "cell_type": "code",
   "execution_count": 288,
   "metadata": {},
   "outputs": [
    {
     "data": {
      "text/plain": [
       "32000.0"
      ]
     },
     "execution_count": 288,
     "metadata": {},
     "output_type": "execute_result"
    }
   ],
   "source": [
    "dfpropiedades['area'] = dfpropiedades['area'].apply(lambda x: re.sub('[^\\d\\.]', '', x)).astype(float)\n",
    "dfpropiedades['area'][0]"
   ]
  },
  {
   "attachments": {},
   "cell_type": "markdown",
   "metadata": {},
   "source": [
    "### Variable habitacion"
   ]
  },
  {
   "cell_type": "code",
   "execution_count": 289,
   "metadata": {},
   "outputs": [
    {
     "data": {
      "text/plain": [
       "array(['5', '3', '4', '2', '---', '1', '7', '9', '6', 'Sin especificar',\n",
       "       '12', '8', '14', '20', '21', '10', '15'], dtype=object)"
      ]
     },
     "execution_count": 289,
     "metadata": {},
     "output_type": "execute_result"
    }
   ],
   "source": [
    "dfpropiedades.habitaciones.unique()"
   ]
  },
  {
   "cell_type": "code",
   "execution_count": 290,
   "metadata": {},
   "outputs": [
    {
     "data": {
      "text/plain": [
       "array([ 5,  3,  4,  2,  0,  1,  7,  9,  6, 12,  8, 14, 20, 21, 10, 15])"
      ]
     },
     "execution_count": 290,
     "metadata": {},
     "output_type": "execute_result"
    }
   ],
   "source": [
    "dfpropiedades['habitaciones'] = pd.to_numeric(dfpropiedades['habitaciones'].str.extract('(\\d+)')[0], errors='coerce').fillna(0).astype(int)  # errors='coerce'  para que cualquier valor que no se pueda convertir se reemplace con NaN.\n",
    "dfpropiedades['habitaciones'].unique()"
   ]
  },
  {
   "attachments": {},
   "cell_type": "markdown",
   "metadata": {},
   "source": [
    "### Variable baños"
   ]
  },
  {
   "cell_type": "code",
   "execution_count": 291,
   "metadata": {},
   "outputs": [
    {
     "data": {
      "text/plain": [
       "array([ 6.,  3.,  4.,  2.,  1.,  5.,  0.,  7.,  9.,  8., 12., 23., 10.,\n",
       "       11.])"
      ]
     },
     "execution_count": 291,
     "metadata": {},
     "output_type": "execute_result"
    }
   ],
   "source": [
    "dfpropiedades['banos'] = pd.to_numeric(dfpropiedades['banos'].str.extract('(\\d+)')[0], errors='coerce').fillna(0)\n",
    "dfpropiedades['banos'].unique()"
   ]
  },
  {
   "attachments": {},
   "cell_type": "markdown",
   "metadata": {},
   "source": [
    "### Variable garajes"
   ]
  },
  {
   "attachments": {},
   "cell_type": "markdown",
   "metadata": {},
   "source": [
    "en el caso de los garajes hay algunos que tienen ams de 10, para estos les colocaremos como 11 ya que hay zonas con 10"
   ]
  },
  {
   "cell_type": "code",
   "execution_count": 292,
   "metadata": {},
   "outputs": [
    {
     "data": {
      "text/plain": [
       "array(['2', '1', 'Sin especificar', '4', '3', '5', '8', '7', '6', '9',\n",
       "       'Más de 10', '10'], dtype=object)"
      ]
     },
     "execution_count": 292,
     "metadata": {},
     "output_type": "execute_result"
    }
   ],
   "source": [
    "dfpropiedades['garajes'].unique()"
   ]
  },
  {
   "cell_type": "code",
   "execution_count": 293,
   "metadata": {},
   "outputs": [
    {
     "data": {
      "text/plain": [
       "array([ 2,  1,  0,  4,  3,  5,  8,  7,  6,  9, 11, 10], dtype=int64)"
      ]
     },
     "execution_count": 293,
     "metadata": {},
     "output_type": "execute_result"
    }
   ],
   "source": [
    "dfpropiedades['garajes'] = dfpropiedades['garajes'].apply(lambda x: int(x.replace('Más de 10', '11').replace('Sin especificar', '0')))\n",
    "dfpropiedades['garajes'].unique()"
   ]
  },
  {
   "attachments": {},
   "cell_type": "markdown",
   "metadata": {},
   "source": [
    "### Variable estrato"
   ]
  },
  {
   "attachments": {},
   "cell_type": "markdown",
   "metadata": {},
   "source": [
    "Para el estrato campestre (el cual tien 28 registros ) asumiremos que es estrato 3 y para los nan (los cuales son 73) tambien asumiremos lo mismo"
   ]
  },
  {
   "cell_type": "code",
   "execution_count": 294,
   "metadata": {},
   "outputs": [
    {
     "data": {
      "text/plain": [
       "(28, 73)"
      ]
     },
     "execution_count": 294,
     "metadata": {},
     "output_type": "execute_result"
    }
   ],
   "source": [
    "(dfpropiedades['estrato']=='Campestre').sum() , (dfpropiedades['estrato'].isna().sum())"
   ]
  },
  {
   "cell_type": "code",
   "execution_count": 295,
   "metadata": {},
   "outputs": [
    {
     "data": {
      "text/plain": [
       "array([5., 3., 4., 2., 6., 1.])"
      ]
     },
     "execution_count": 295,
     "metadata": {},
     "output_type": "execute_result"
    }
   ],
   "source": [
    "dfpropiedades['estrato'] = dfpropiedades['estrato'].replace('Campestre', '3').astype(float)\n",
    "dfpropiedades['estrato'].fillna(3,inplace=True)\n",
    "dfpropiedades['estrato'].unique()"
   ]
  },
  {
   "attachments": {},
   "cell_type": "markdown",
   "metadata": {},
   "source": [
    "### Variable antiguedad"
   ]
  },
  {
   "attachments": {},
   "cell_type": "markdown",
   "metadata": {},
   "source": [
    "para el caso de antiguedad asumiremos que las casas que estan en el mismo estrato tienden a tener los mismo años de antiguedad, por lo tanto se ordenaran por estrato y se aplicara el ffill de fillna , que cambia los nan de acuerdo a los anteriores\n",
    "Adicionalmente a eso se cambiaran los siguientes valores que facilitaran su estudio y tratamiento.\n",
    "\n",
    "* \"Menos de 1 año\": 0\n",
    "* \"1 a 8 años\": 1\n",
    "* \"9 a 15 años\": 2\n",
    "* \"16 a 30 años\": 3\n",
    "* \"Más de 30 años\": 4"
   ]
  },
  {
   "cell_type": "code",
   "execution_count": 296,
   "metadata": {},
   "outputs": [],
   "source": [
    "# crear una columna de antiguedad ordenada\n",
    "dfpropiedades['antiguedad_ordenada'] = dfpropiedades['antiguedad'].sort_values()\n",
    "# completar los valores NaN con el último valor no nulo\n",
    "dfpropiedades['antiguedad_ordenada'].fillna(method='ffill', inplace=True)\n",
    "# asignar los valores completados a la columna original\n",
    "dfpropiedades['antiguedad'] = dfpropiedades['antiguedad_ordenada']\n",
    "# eliminar la columna auxiliar\n",
    "dfpropiedades.drop('antiguedad_ordenada', axis=1, inplace=True)\n"
   ]
  },
  {
   "cell_type": "code",
   "execution_count": 297,
   "metadata": {},
   "outputs": [
    {
     "data": {
      "text/plain": [
       "array([1., 0., 4., 2., 3.])"
      ]
     },
     "execution_count": 297,
     "metadata": {},
     "output_type": "execute_result"
    }
   ],
   "source": [
    "cambioano = {    \n",
    "    \"Menos de 1 año\": 0,\n",
    "    \"1 a 8 años\": 1,\n",
    "    \"9 a 15 años\": 2,\n",
    "    \"16 a 30 años\": 3,\n",
    "    \"Más de 30 años\": 4\n",
    "}\n",
    "dfpropiedades['antiguedad'] = dfpropiedades['antiguedad'].map(cambioano)\n",
    "dfpropiedades.fillna(0,inplace=True) # esto es porque ya habia un valor de 0, no afecta en nada \n",
    "dfpropiedades['antiguedad'].unique()"
   ]
  },
  {
   "attachments": {},
   "cell_type": "markdown",
   "metadata": {},
   "source": [
    "### Analisis del arreglo de variables"
   ]
  },
  {
   "attachments": {},
   "cell_type": "markdown",
   "metadata": {},
   "source": [
    "Luego de organizar ciertas variables nos queda el siguiente dataframe"
   ]
  },
  {
   "cell_type": "code",
   "execution_count": 298,
   "metadata": {},
   "outputs": [
    {
     "name": "stdout",
     "output_type": "stream",
     "text": [
      "<class 'pandas.core.frame.DataFrame'>\n",
      "Int64Index: 2587 entries, 0 to 2714\n",
      "Data columns (total 29 columns):\n",
      " #   Column                         Non-Null Count  Dtype  \n",
      "---  ------                         --------------  -----  \n",
      " 0   tipo                           2587 non-null   int64  \n",
      " 1   url                            2587 non-null   object \n",
      " 2   titulo                         2587 non-null   object \n",
      " 3   precio                         2587 non-null   int64  \n",
      " 4   area                           2587 non-null   float64\n",
      " 5   habitaciones                   2587 non-null   int32  \n",
      " 6   banos                          2587 non-null   float64\n",
      " 7   garajes                        2587 non-null   int64  \n",
      " 8   descripcion                    2587 non-null   object \n",
      " 9   balcon                         2587 non-null   float64\n",
      " 10  trans. publico cercano         2587 non-null   float64\n",
      " 11  caractint                      2587 non-null   object \n",
      " 12  caractext                      2587 non-null   object \n",
      " 13  caractsec                      2587 non-null   object \n",
      " 14  estrato                        2587 non-null   float64\n",
      " 15  antiguedad                     2587 non-null   float64\n",
      " 16  cocina integral                2587 non-null   float64\n",
      " 17  bano auxiliar                  2587 non-null   float64\n",
      " 18  zona de lavanderia             2587 non-null   float64\n",
      " 19  zonas verdes                   2587 non-null   float64\n",
      " 20  supermercados / c.comerciales  2587 non-null   float64\n",
      " 21  instalacion de gas             2587 non-null   float64\n",
      " 22  parqueadero visitantes         2587 non-null   float64\n",
      " 23  colegios / universidades       2587 non-null   float64\n",
      " 24  parques cercanos               2587 non-null   float64\n",
      " 25  zona residencial               2587 non-null   float64\n",
      " 26  closet                         2587 non-null   float64\n",
      " 27  municipio                      2587 non-null   object \n",
      " 28  tipo_propiedad                 2587 non-null   object \n",
      "dtypes: float64(17), int32(1), int64(3), object(8)\n",
      "memory usage: 660.8+ KB\n"
     ]
    }
   ],
   "source": [
    "dfpropiedades.info()"
   ]
  },
  {
   "cell_type": "code",
   "execution_count": 299,
   "metadata": {},
   "outputs": [
    {
     "data": {
      "text/plain": [
       "0"
      ]
     },
     "execution_count": 299,
     "metadata": {},
     "output_type": "execute_result"
    }
   ],
   "source": [
    "dfpropiedades.isna().sum().sum() # numero de nan en el dataframe"
   ]
  },
  {
   "cell_type": "code",
   "execution_count": 300,
   "metadata": {},
   "outputs": [
    {
     "data": {
      "text/html": [
       "<div>\n",
       "<style scoped>\n",
       "    .dataframe tbody tr th:only-of-type {\n",
       "        vertical-align: middle;\n",
       "    }\n",
       "\n",
       "    .dataframe tbody tr th {\n",
       "        vertical-align: top;\n",
       "    }\n",
       "\n",
       "    .dataframe thead th {\n",
       "        text-align: right;\n",
       "    }\n",
       "</style>\n",
       "<table border=\"1\" class=\"dataframe\">\n",
       "  <thead>\n",
       "    <tr style=\"text-align: right;\">\n",
       "      <th></th>\n",
       "      <th>variable</th>\n",
       "      <th>numero_Nan</th>\n",
       "      <th>observaciones</th>\n",
       "      <th>pct_missing</th>\n",
       "    </tr>\n",
       "  </thead>\n",
       "  <tbody>\n",
       "    <tr>\n",
       "      <th>0</th>\n",
       "      <td>tipo</td>\n",
       "      <td>0</td>\n",
       "      <td>2587</td>\n",
       "      <td>0.0</td>\n",
       "    </tr>\n",
       "    <tr>\n",
       "      <th>1</th>\n",
       "      <td>url</td>\n",
       "      <td>0</td>\n",
       "      <td>2587</td>\n",
       "      <td>0.0</td>\n",
       "    </tr>\n",
       "    <tr>\n",
       "      <th>2</th>\n",
       "      <td>titulo</td>\n",
       "      <td>0</td>\n",
       "      <td>2587</td>\n",
       "      <td>0.0</td>\n",
       "    </tr>\n",
       "    <tr>\n",
       "      <th>3</th>\n",
       "      <td>precio</td>\n",
       "      <td>0</td>\n",
       "      <td>2587</td>\n",
       "      <td>0.0</td>\n",
       "    </tr>\n",
       "    <tr>\n",
       "      <th>4</th>\n",
       "      <td>area</td>\n",
       "      <td>0</td>\n",
       "      <td>2587</td>\n",
       "      <td>0.0</td>\n",
       "    </tr>\n",
       "    <tr>\n",
       "      <th>5</th>\n",
       "      <td>habitaciones</td>\n",
       "      <td>0</td>\n",
       "      <td>2587</td>\n",
       "      <td>0.0</td>\n",
       "    </tr>\n",
       "    <tr>\n",
       "      <th>6</th>\n",
       "      <td>banos</td>\n",
       "      <td>0</td>\n",
       "      <td>2587</td>\n",
       "      <td>0.0</td>\n",
       "    </tr>\n",
       "    <tr>\n",
       "      <th>7</th>\n",
       "      <td>garajes</td>\n",
       "      <td>0</td>\n",
       "      <td>2587</td>\n",
       "      <td>0.0</td>\n",
       "    </tr>\n",
       "    <tr>\n",
       "      <th>8</th>\n",
       "      <td>descripcion</td>\n",
       "      <td>0</td>\n",
       "      <td>2587</td>\n",
       "      <td>0.0</td>\n",
       "    </tr>\n",
       "    <tr>\n",
       "      <th>9</th>\n",
       "      <td>balcon</td>\n",
       "      <td>0</td>\n",
       "      <td>2587</td>\n",
       "      <td>0.0</td>\n",
       "    </tr>\n",
       "    <tr>\n",
       "      <th>10</th>\n",
       "      <td>trans. publico cercano</td>\n",
       "      <td>0</td>\n",
       "      <td>2587</td>\n",
       "      <td>0.0</td>\n",
       "    </tr>\n",
       "    <tr>\n",
       "      <th>11</th>\n",
       "      <td>caractint</td>\n",
       "      <td>0</td>\n",
       "      <td>2587</td>\n",
       "      <td>0.0</td>\n",
       "    </tr>\n",
       "    <tr>\n",
       "      <th>12</th>\n",
       "      <td>caractext</td>\n",
       "      <td>0</td>\n",
       "      <td>2587</td>\n",
       "      <td>0.0</td>\n",
       "    </tr>\n",
       "    <tr>\n",
       "      <th>13</th>\n",
       "      <td>caractsec</td>\n",
       "      <td>0</td>\n",
       "      <td>2587</td>\n",
       "      <td>0.0</td>\n",
       "    </tr>\n",
       "    <tr>\n",
       "      <th>14</th>\n",
       "      <td>estrato</td>\n",
       "      <td>0</td>\n",
       "      <td>2587</td>\n",
       "      <td>0.0</td>\n",
       "    </tr>\n",
       "    <tr>\n",
       "      <th>15</th>\n",
       "      <td>antiguedad</td>\n",
       "      <td>0</td>\n",
       "      <td>2587</td>\n",
       "      <td>0.0</td>\n",
       "    </tr>\n",
       "    <tr>\n",
       "      <th>16</th>\n",
       "      <td>cocina integral</td>\n",
       "      <td>0</td>\n",
       "      <td>2587</td>\n",
       "      <td>0.0</td>\n",
       "    </tr>\n",
       "    <tr>\n",
       "      <th>17</th>\n",
       "      <td>bano auxiliar</td>\n",
       "      <td>0</td>\n",
       "      <td>2587</td>\n",
       "      <td>0.0</td>\n",
       "    </tr>\n",
       "    <tr>\n",
       "      <th>18</th>\n",
       "      <td>zona de lavanderia</td>\n",
       "      <td>0</td>\n",
       "      <td>2587</td>\n",
       "      <td>0.0</td>\n",
       "    </tr>\n",
       "    <tr>\n",
       "      <th>19</th>\n",
       "      <td>zonas verdes</td>\n",
       "      <td>0</td>\n",
       "      <td>2587</td>\n",
       "      <td>0.0</td>\n",
       "    </tr>\n",
       "    <tr>\n",
       "      <th>20</th>\n",
       "      <td>supermercados / c.comerciales</td>\n",
       "      <td>0</td>\n",
       "      <td>2587</td>\n",
       "      <td>0.0</td>\n",
       "    </tr>\n",
       "    <tr>\n",
       "      <th>21</th>\n",
       "      <td>instalacion de gas</td>\n",
       "      <td>0</td>\n",
       "      <td>2587</td>\n",
       "      <td>0.0</td>\n",
       "    </tr>\n",
       "    <tr>\n",
       "      <th>22</th>\n",
       "      <td>parqueadero visitantes</td>\n",
       "      <td>0</td>\n",
       "      <td>2587</td>\n",
       "      <td>0.0</td>\n",
       "    </tr>\n",
       "    <tr>\n",
       "      <th>23</th>\n",
       "      <td>colegios / universidades</td>\n",
       "      <td>0</td>\n",
       "      <td>2587</td>\n",
       "      <td>0.0</td>\n",
       "    </tr>\n",
       "    <tr>\n",
       "      <th>24</th>\n",
       "      <td>parques cercanos</td>\n",
       "      <td>0</td>\n",
       "      <td>2587</td>\n",
       "      <td>0.0</td>\n",
       "    </tr>\n",
       "    <tr>\n",
       "      <th>25</th>\n",
       "      <td>zona residencial</td>\n",
       "      <td>0</td>\n",
       "      <td>2587</td>\n",
       "      <td>0.0</td>\n",
       "    </tr>\n",
       "    <tr>\n",
       "      <th>26</th>\n",
       "      <td>closet</td>\n",
       "      <td>0</td>\n",
       "      <td>2587</td>\n",
       "      <td>0.0</td>\n",
       "    </tr>\n",
       "    <tr>\n",
       "      <th>27</th>\n",
       "      <td>municipio</td>\n",
       "      <td>0</td>\n",
       "      <td>2587</td>\n",
       "      <td>0.0</td>\n",
       "    </tr>\n",
       "    <tr>\n",
       "      <th>28</th>\n",
       "      <td>tipo_propiedad</td>\n",
       "      <td>0</td>\n",
       "      <td>2587</td>\n",
       "      <td>0.0</td>\n",
       "    </tr>\n",
       "  </tbody>\n",
       "</table>\n",
       "</div>"
      ],
      "text/plain": [
       "                         variable  numero_Nan  observaciones  pct_missing\n",
       "0                            tipo           0           2587          0.0\n",
       "1                             url           0           2587          0.0\n",
       "2                          titulo           0           2587          0.0\n",
       "3                          precio           0           2587          0.0\n",
       "4                            area           0           2587          0.0\n",
       "5                    habitaciones           0           2587          0.0\n",
       "6                           banos           0           2587          0.0\n",
       "7                         garajes           0           2587          0.0\n",
       "8                     descripcion           0           2587          0.0\n",
       "9                          balcon           0           2587          0.0\n",
       "10         trans. publico cercano           0           2587          0.0\n",
       "11                      caractint           0           2587          0.0\n",
       "12                      caractext           0           2587          0.0\n",
       "13                      caractsec           0           2587          0.0\n",
       "14                        estrato           0           2587          0.0\n",
       "15                     antiguedad           0           2587          0.0\n",
       "16                cocina integral           0           2587          0.0\n",
       "17                  bano auxiliar           0           2587          0.0\n",
       "18             zona de lavanderia           0           2587          0.0\n",
       "19                   zonas verdes           0           2587          0.0\n",
       "20  supermercados / c.comerciales           0           2587          0.0\n",
       "21             instalacion de gas           0           2587          0.0\n",
       "22         parqueadero visitantes           0           2587          0.0\n",
       "23       colegios / universidades           0           2587          0.0\n",
       "24               parques cercanos           0           2587          0.0\n",
       "25               zona residencial           0           2587          0.0\n",
       "26                         closet           0           2587          0.0\n",
       "27                      municipio           0           2587          0.0\n",
       "28                 tipo_propiedad           0           2587          0.0"
      ]
     },
     "execution_count": 300,
     "metadata": {},
     "output_type": "execute_result"
    },
    {
     "data": {
      "image/png": "[encoded data removed]",
      "text/plain": [
       "<Figure size 2000x700 with 1 Axes>"
      ]
     },
     "metadata": {},
     "output_type": "display_data"
    }
   ],
   "source": [
    "graf_num_nan(dfpropiedades)"
   ]
  },
  {
   "attachments": {},
   "cell_type": "markdown",
   "metadata": {},
   "source": [
    "# Renombramiento de columnas"
   ]
  },
  {
   "cell_type": "code",
   "execution_count": 301,
   "metadata": {},
   "outputs": [],
   "source": [
    "cols = {'trans. publico cercano': 'trasn. publico',\n",
    "        'cocina integral' : 'cocina', 'bano auxiliar':'bano aux',\n",
    "        'zona de lavanderia' : 'zona lavanderia' , 'supermercados / c.comerciales': 'supermercado o cc',\n",
    "        'nombre municipio': 'municipio', 'nombre departamento':'departamento',\n",
    "        'tipo: municipio / isla / area no municipalizada':'tipo vivienda'}\n",
    "dfpropiedades = dfpropiedades.rename(columns=cols)"
   ]
  },
  {
   "attachments": {},
   "cell_type": "markdown",
   "metadata": {},
   "source": [
    "# Deteccion de valores atipicos"
   ]
  },
  {
   "cell_type": "code",
   "execution_count": 302,
   "metadata": {},
   "outputs": [
    {
     "name": "stdout",
     "output_type": "stream",
     "text": [
      "valor inicial de registros antes de limpieza de valores atipicos 2587\n"
     ]
    }
   ],
   "source": [
    "print(f'valor inicial de registros antes de limpieza de valores atipicos {dfpropiedades.shape[0]}')"
   ]
  },
  {
   "attachments": {},
   "cell_type": "markdown",
   "metadata": {},
   "source": [
    "## Filtrado de datos"
   ]
  },
  {
   "attachments": {},
   "cell_type": "markdown",
   "metadata": {},
   "source": [
    "Incialmente se eliminaran los precios que esten superiores a  2.500'000.000 (dos mil quinientos millones)"
   ]
  },
  {
   "cell_type": "code",
   "execution_count": 303,
   "metadata": {},
   "outputs": [
    {
     "data": {
      "text/plain": [
       "(2381, 29)"
      ]
     },
     "execution_count": 303,
     "metadata": {},
     "output_type": "execute_result"
    }
   ],
   "source": [
    "dfpropiedades = dfpropiedades[dfpropiedades['precio']<2500000000]\n",
    "dfpropiedades.shape"
   ]
  },
  {
   "attachments": {},
   "cell_type": "markdown",
   "metadata": {},
   "source": [
    "## Busqueda valores atipicos"
   ]
  },
  {
   "attachments": {},
   "cell_type": "markdown",
   "metadata": {},
   "source": [
    "se buscaran valores atipicos con el fin de tratarlos para que no afecte modelos sensibles a estos valores\n"
   ]
  },
  {
   "cell_type": "code",
   "execution_count": 304,
   "metadata": {},
   "outputs": [
    {
     "data": {
      "text/plain": [
       "count    2381.000000\n",
       "mean      684.346320\n",
       "std       546.178938\n",
       "min        17.500000\n",
       "25%       310.000000\n",
       "50%       459.000000\n",
       "75%       890.000000\n",
       "max      2490.000000\n",
       "Name: precio, dtype: float64"
      ]
     },
     "execution_count": 304,
     "metadata": {},
     "output_type": "execute_result"
    }
   ],
   "source": [
    "# se divide entre 1'000.000 para facilitar lectura\n",
    "(dfpropiedades['precio']/1000000).describe()"
   ]
  },
  {
   "attachments": {},
   "cell_type": "markdown",
   "metadata": {},
   "source": [
    "z-score: El z-score es una medida estadística que indica cuántas desviaciones estándar se encuentra un valor de la media. Los valores con un z-score superior a 3 o inferior a -3 se consideran atípicos. Es muy util si los datos siguen una distribucion normal, como este no es el caso se usara otro tipo de buscador de atipicos"
   ]
  },
  {
   "cell_type": "code",
   "execution_count": 305,
   "metadata": {},
   "outputs": [
    {
     "name": "stdout",
     "output_type": "stream",
     "text": [
      "Estadístico de prueba = 534.6059509344207\n",
      "Valor p = 8.161927979722847e-117\n",
      "Rechazamos la hipótesis nula, los datos NO siguen una distribución normal.\n"
     ]
    }
   ],
   "source": [
    "from scipy.stats import normaltest\n",
    "\n",
    "stat, p = normaltest(dfpropiedades['precio'])\n",
    "\n",
    "# Imprimir los resultados del test\n",
    "print(\"Estadístico de prueba =\", stat)\n",
    "print(\"Valor p =\", p)\n",
    "\n",
    "# Interpretación del resultado del test\n",
    "alpha = 0.05\n",
    "if p < alpha:\n",
    "    print(\"Rechazamos la hipótesis nula, los datos NO siguen una distribución normal.\")\n",
    "else:\n",
    "    print(\"No podemos rechazar la hipótesis nula, los datos siguen una distribución normal.\")\n"
   ]
  },
  {
   "attachments": {},
   "cell_type": "markdown",
   "metadata": {},
   "source": [
    "Debido a que nuestros datos no siguen una distribucion normal no podemos realizar el z.score para tratar los valores faltantes y tendremos que recurrir a otros metodos"
   ]
  },
  {
   "attachments": {},
   "cell_type": "markdown",
   "metadata": {},
   "source": [
    "### Identificar valores atipicos "
   ]
  },
  {
   "attachments": {},
   "cell_type": "markdown",
   "metadata": {},
   "source": [
    "Se realizaran algunos metodos para detectar estos valores atipicos en la variable precio y area"
   ]
  },
  {
   "attachments": {},
   "cell_type": "markdown",
   "metadata": {},
   "source": [
    "1. Analisis visual"
   ]
  },
  {
   "cell_type": "code",
   "execution_count": 306,
   "metadata": {},
   "outputs": [],
   "source": [
    "def grafout(df):\n",
    "    fig, ax = plt.subplots(ncols=2,figsize=(10,3))\n",
    "    sns.kdeplot(df, shade=True, ax=ax[0]);\n",
    "    sns.boxplot(df, orient='h', ax=ax[1]);"
   ]
  },
  {
   "cell_type": "code",
   "execution_count": 307,
   "metadata": {},
   "outputs": [
    {
     "name": "stderr",
     "output_type": "stream",
     "text": [
      "c:\\Users\\Juan Guzman\\anaconda3\\lib\\site-packages\\seaborn\\_decorators.py:36: FutureWarning: Pass the following variable as a keyword arg: x. From version 0.12, the only valid positional argument will be `data`, and passing other arguments without an explicit keyword will result in an error or misinterpretation.\n",
      "  warnings.warn(\n",
      "c:\\Users\\Juan Guzman\\anaconda3\\lib\\site-packages\\seaborn\\_decorators.py:36: FutureWarning: Pass the following variable as a keyword arg: x. From version 0.12, the only valid positional argument will be `data`, and passing other arguments without an explicit keyword will result in an error or misinterpretation.\n",
      "  warnings.warn(\n"
     ]
    },
    {
     "data": {
      "image/png": "[encoded data removed]",
      "text/plain": [
       "<Figure size 1000x300 with 2 Axes>"
      ]
     },
     "metadata": {},
     "output_type": "display_data"
    },
    {
     "data": {
      "image/png": "[encoded data removed]",
      "text/plain": [
       "<Figure size 1000x300 with 2 Axes>"
      ]
     },
     "metadata": {},
     "output_type": "display_data"
    }
   ],
   "source": [
    "data = ['precio','area']\n",
    "for i in data:\n",
    "    grafout(dfpropiedades[i])"
   ]
  },
  {
   "attachments": {},
   "cell_type": "markdown",
   "metadata": {},
   "source": [
    "A simple vista podemos establecer un rango de las variables que nos permite limpiar algunos valores atipicos facilmente"
   ]
  },
  {
   "cell_type": "code",
   "execution_count": 308,
   "metadata": {},
   "outputs": [
    {
     "data": {
      "text/plain": [
       "count    2381.000000\n",
       "mean      684.346320\n",
       "std       546.178938\n",
       "min        17.500000\n",
       "25%       310.000000\n",
       "50%       459.000000\n",
       "75%       890.000000\n",
       "max      2490.000000\n",
       "Name: precio, dtype: float64"
      ]
     },
     "execution_count": 308,
     "metadata": {},
     "output_type": "execute_result"
    }
   ],
   "source": [
    "(dfpropiedades.precio/1000000).describe()"
   ]
  },
  {
   "cell_type": "code",
   "execution_count": 309,
   "metadata": {},
   "outputs": [
    {
     "name": "stderr",
     "output_type": "stream",
     "text": [
      "c:\\Users\\Juan Guzman\\anaconda3\\lib\\site-packages\\seaborn\\_decorators.py:36: FutureWarning: Pass the following variable as a keyword arg: x. From version 0.12, the only valid positional argument will be `data`, and passing other arguments without an explicit keyword will result in an error or misinterpretation.\n",
      "  warnings.warn(\n",
      "c:\\Users\\Juan Guzman\\anaconda3\\lib\\site-packages\\seaborn\\_decorators.py:36: FutureWarning: Pass the following variable as a keyword arg: x. From version 0.12, the only valid positional argument will be `data`, and passing other arguments without an explicit keyword will result in an error or misinterpretation.\n",
      "  warnings.warn(\n"
     ]
    },
    {
     "data": {
      "image/png": "[encoded data removed]",
      "text/plain": [
       "<Figure size 1000x300 with 2 Axes>"
      ]
     },
     "metadata": {},
     "output_type": "display_data"
    },
    {
     "data": {
      "image/png": "[encoded data removed]",
      "text/plain": [
       "<Figure size 1000x300 with 2 Axes>"
      ]
     },
     "metadata": {},
     "output_type": "display_data"
    }
   ],
   "source": [
    "dfpropiedades= dfpropiedades[(dfpropiedades['area'] <= 100000) | (dfpropiedades['area']>10)]\n",
    "for i in data:\n",
    "    grafout(dfpropiedades[i])"
   ]
  },
  {
   "attachments": {},
   "cell_type": "markdown",
   "metadata": {},
   "source": [
    "2.\tMétodos de aprendizaje automático: Utiliza el algoritmo de detección de anomalías como el algoritmo de One-Class SVM (el cual consiste en encontrar una función de decisión que defina una región que contenga la mayoría de los datos y separe la región de los datos anómalos.)\n"
   ]
  },
  {
   "cell_type": "code",
   "execution_count": 310,
   "metadata": {},
   "outputs": [
    {
     "data": {
      "image/png": "[encoded data removed]",
      "text/plain": [
       "<Figure size 640x480 with 1 Axes>"
      ]
     },
     "metadata": {},
     "output_type": "display_data"
    },
    {
     "data": {
      "text/plain": [
       " 1    2250\n",
       "-1     131\n",
       "Name: outlier_predictionp, dtype: int64"
      ]
     },
     "execution_count": 310,
     "metadata": {},
     "output_type": "execute_result"
    }
   ],
   "source": [
    "from sklearn.svm import OneClassSVM\n",
    "\n",
    "clf = OneClassSVM(kernel='rbf', nu=0.05)\n",
    "Xp = np.array(dfpropiedades['precio']).reshape(-1, 1)\n",
    "clf.fit(Xp)\n",
    "outlier_predictionp = clf.predict(Xp)\n",
    "dfpropiedades['outlier_predictionp'] = outlier_predictionp\n",
    "outliersp = dfpropiedades[dfpropiedades['outlier_predictionp'] == -1]\n",
    "inliersp = dfpropiedades[dfpropiedades['outlier_predictionp'] == 1]\n",
    "\n",
    "# representacion grafica\n",
    "plt.scatter(inliersp['precio'], [0]*len(inliersp), label='Inliersp')\n",
    "plt.scatter(outliersp['precio'], [0]*len(outliersp), label='Outliersp')\n",
    "plt.legend()\n",
    "plt.show()\n",
    "dfpropiedades['outlier_predictionp'].value_counts()"
   ]
  },
  {
   "cell_type": "code",
   "execution_count": 311,
   "metadata": {},
   "outputs": [
    {
     "data": {
      "image/png": "[encoded data removed]",
      "text/plain": [
       "<Figure size 640x480 with 1 Axes>"
      ]
     },
     "metadata": {},
     "output_type": "display_data"
    },
    {
     "data": {
      "text/plain": [
       " 1    2264\n",
       "-1     117\n",
       "Name: outlier_predictiona, dtype: int64"
      ]
     },
     "execution_count": 311,
     "metadata": {},
     "output_type": "execute_result"
    }
   ],
   "source": [
    "clf = OneClassSVM(kernel='rbf', nu=0.05)\n",
    "Xa = np.array(dfpropiedades['area']).reshape(-1, 1)\n",
    "clf.fit(Xa)\n",
    "outlier_predictiona = clf.predict(Xa)\n",
    "dfpropiedades['outlier_predictiona'] = outlier_predictiona\n",
    "outliersa = dfpropiedades[dfpropiedades['outlier_predictiona'] == -1]\n",
    "inliersa = dfpropiedades[dfpropiedades['outlier_predictiona'] == 1]\n",
    "\n",
    "# crear el gráfico\n",
    "plt.scatter(inliersa['area'], [0]*len(inliersa), label='Inliersa')\n",
    "plt.scatter(outliersa['area'], [0]*len(outliersa), label='Outliersa')\n",
    "plt.legend()\n",
    "plt.show()\n",
    "dfpropiedades['outlier_predictiona'].value_counts()"
   ]
  },
  {
   "attachments": {},
   "cell_type": "markdown",
   "metadata": {},
   "source": [
    "#### Conclusion de los valores atipicos"
   ]
  },
  {
   "attachments": {},
   "cell_type": "markdown",
   "metadata": {},
   "source": [
    "Podemos observar que tanto la serie de datos precio como area presentan valores atipicos, por lo tanto se implemento el metodo de prendizaje automatico One-class SVM para la busqueda de estos."
   ]
  },
  {
   "attachments": {},
   "cell_type": "markdown",
   "metadata": {},
   "source": [
    "5. El algoritmo One-Class SVM para la columna precio encontro 140 y para area encontro 124 valores atipicos, por lo que procederemos a eliminarlos"
   ]
  },
  {
   "cell_type": "code",
   "execution_count": 312,
   "metadata": {},
   "outputs": [
    {
     "name": "stdout",
     "output_type": "stream",
     "text": [
      "cantidad de registros antes de eliminar los valores atipicos: 2381\n"
     ]
    }
   ],
   "source": [
    "print(f'cantidad de registros antes de eliminar los valores atipicos: {dfpropiedades.shape[0]}')"
   ]
  },
  {
   "cell_type": "code",
   "execution_count": 313,
   "metadata": {},
   "outputs": [],
   "source": [
    "dfpropiedades = dfpropiedades.drop(dfpropiedades.loc[(dfpropiedades['outlier_predictionp'] == -1) |\n",
    "                                                        (dfpropiedades['outlier_predictiona'] == -1)].index)\n",
    "dfpropiedades = dfpropiedades.drop(labels=['outlier_predictionp', 'outlier_predictiona'], axis=1)"
   ]
  },
  {
   "cell_type": "code",
   "execution_count": 314,
   "metadata": {},
   "outputs": [
    {
     "name": "stdout",
     "output_type": "stream",
     "text": [
      "cantidad de registros despues de eliminar los valores atipicos: 2147\n"
     ]
    }
   ],
   "source": [
    "print(f'cantidad de registros despues de eliminar los valores atipicos: {dfpropiedades.shape[0]}')"
   ]
  },
  {
   "cell_type": "code",
   "execution_count": 315,
   "metadata": {},
   "outputs": [
    {
     "name": "stderr",
     "output_type": "stream",
     "text": [
      "c:\\Users\\Juan Guzman\\anaconda3\\lib\\site-packages\\seaborn\\_decorators.py:36: FutureWarning: Pass the following variable as a keyword arg: x. From version 0.12, the only valid positional argument will be `data`, and passing other arguments without an explicit keyword will result in an error or misinterpretation.\n",
      "  warnings.warn(\n",
      "c:\\Users\\Juan Guzman\\anaconda3\\lib\\site-packages\\seaborn\\_decorators.py:36: FutureWarning: Pass the following variable as a keyword arg: x. From version 0.12, the only valid positional argument will be `data`, and passing other arguments without an explicit keyword will result in an error or misinterpretation.\n",
      "  warnings.warn(\n"
     ]
    },
    {
     "data": {
      "image/png": "[encoded data removed]",
      "text/plain": [
       "<Figure size 1000x300 with 2 Axes>"
      ]
     },
     "metadata": {},
     "output_type": "display_data"
    },
    {
     "data": {
      "image/png": "[encoded data removed]",
      "text/plain": [
       "<Figure size 1000x300 with 2 Axes>"
      ]
     },
     "metadata": {},
     "output_type": "display_data"
    }
   ],
   "source": [
    "for i in data:\n",
    "    grafout(dfpropiedades[i])"
   ]
  },
  {
   "attachments": {},
   "cell_type": "markdown",
   "metadata": {},
   "source": [
    "Se eliminaron 234 registros que el algoritmo detecto como otuliers tanto en la columna precio como en la de area."
   ]
  },
  {
   "attachments": {},
   "cell_type": "markdown",
   "metadata": {},
   "source": [
    "# Creacion dataframe de analisis\n",
    "\n",
    "Se creara un dataframe que contenga las varaibles relevantes para el estudio"
   ]
  },
  {
   "cell_type": "code",
   "execution_count": 316,
   "metadata": {},
   "outputs": [
    {
     "data": {
      "text/plain": [
       "Index(['tipo', 'url', 'titulo', 'precio', 'area', 'habitaciones', 'banos',\n",
       "       'garajes', 'descripcion', 'balcon', 'trasn. publico', 'caractint',\n",
       "       'caractext', 'caractsec', 'estrato', 'antiguedad', 'cocina', 'bano aux',\n",
       "       'zona lavanderia', 'zonas verdes', 'supermercado o cc',\n",
       "       'instalacion de gas', 'parqueadero visitantes',\n",
       "       'colegios / universidades', 'parques cercanos', 'zona residencial',\n",
       "       'closet', 'municipio', 'tipo_propiedad'],\n",
       "      dtype='object')"
      ]
     },
     "execution_count": 316,
     "metadata": {},
     "output_type": "execute_result"
    }
   ],
   "source": [
    "dfpropiedades.columns"
   ]
  },
  {
   "cell_type": "code",
   "execution_count": 317,
   "metadata": {},
   "outputs": [],
   "source": [
    "nocols = ['tipo','url','titulo','descripcion','caractint','caractext','caractsec']\n",
    "dfdef = [col for col in dfpropiedades.columns if col not in nocols]\n",
    "df = dfpropiedades[dfdef]"
   ]
  },
  {
   "cell_type": "code",
   "execution_count": 318,
   "metadata": {},
   "outputs": [
    {
     "data": {
      "text/plain": [
       "Index(['precio', 'area', 'habitaciones', 'banos', 'garajes', 'balcon',\n",
       "       'trasn. publico', 'estrato', 'antiguedad', 'cocina', 'bano aux',\n",
       "       'zona lavanderia', 'zonas verdes', 'supermercado o cc',\n",
       "       'instalacion de gas', 'parqueadero visitantes',\n",
       "       'colegios / universidades', 'parques cercanos', 'zona residencial',\n",
       "       'closet', 'municipio', 'tipo_propiedad'],\n",
       "      dtype='object')"
      ]
     },
     "execution_count": 318,
     "metadata": {},
     "output_type": "execute_result"
    }
   ],
   "source": [
    "df.columns"
   ]
  },
  {
   "attachments": {},
   "cell_type": "markdown",
   "metadata": {},
   "source": [
    "# Exportacion de datos\n",
    "\n",
    "Ejecutar en caso de que no se tengan los datos"
   ]
  },
  {
   "cell_type": "code",
   "execution_count": 971,
   "metadata": {},
   "outputs": [],
   "source": [
    "df.to_csv('dfanalisis', index=False)"
   ]
  },
  {
   "cell_type": "code",
   "execution_count": 972,
   "metadata": {},
   "outputs": [],
   "source": [
    "dfpropiedades.to_csv('dfpropiedades', index=False)"
   ]
  }
 ],
 "metadata": {
  "kernelspec": {
   "display_name": "base",
   "language": "python",
   "name": "python3"
  },
  "language_info": {
   "codemirror_mode": {
    "name": "ipython",
    "version": 3
   },
   "file_extension": ".py",
   "mimetype": "text/x-python",
   "name": "python",
   "nbconvert_exporter": "python",
   "pygments_lexer": "ipython3",
   "version": "3.9.13"
  },
  "orig_nbformat": 4
 },
 "nbformat": 4,
 "nbformat_minor": 2
}
