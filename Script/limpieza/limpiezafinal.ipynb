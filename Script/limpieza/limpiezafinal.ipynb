{
 "cells": [
  {
   "cell_type": "code",
   "execution_count": 375,
   "metadata": {},
   "outputs": [],
   "source": [
    "import matplotlib.pyplot as plt\n",
    "import numpy as np\n",
    "import pandas as pd\n",
    "import seaborn as sns\n",
    "from unidecode import unidecode\n",
    "import re\n",
    "from scipy import stats"
   ]
  },
  {
   "attachments": {},
   "cell_type": "markdown",
   "metadata": {},
   "source": [
    "# datos"
   ]
  },
  {
   "cell_type": "code",
   "execution_count": 376,
   "metadata": {},
   "outputs": [],
   "source": [
    "# !git clone git@github.com:juanguzman2/Precio-de-viviendas-en-colmbia.git"
   ]
  },
  {
   "cell_type": "code",
   "execution_count": 377,
   "metadata": {},
   "outputs": [
    {
     "data": {
      "text/html": [
       "<div>\n",
       "<style scoped>\n",
       "    .dataframe tbody tr th:only-of-type {\n",
       "        vertical-align: middle;\n",
       "    }\n",
       "\n",
       "    .dataframe tbody tr th {\n",
       "        vertical-align: top;\n",
       "    }\n",
       "\n",
       "    .dataframe thead th {\n",
       "        text-align: right;\n",
       "    }\n",
       "</style>\n",
       "<table border=\"1\" class=\"dataframe\">\n",
       "  <thead>\n",
       "    <tr style=\"text-align: right;\">\n",
       "      <th></th>\n",
       "      <th>tipo</th>\n",
       "      <th>url</th>\n",
       "      <th>titulo</th>\n",
       "      <th>precio</th>\n",
       "      <th>area</th>\n",
       "      <th>habitaciones</th>\n",
       "      <th>banos</th>\n",
       "      <th>garajes</th>\n",
       "      <th>descripcion</th>\n",
       "      <th>Balcón</th>\n",
       "      <th>...</th>\n",
       "      <th>Zonas Verdes</th>\n",
       "      <th>Supermercados / C.Comerciales</th>\n",
       "      <th>Instalación de gas</th>\n",
       "      <th>Parqueadero Visitantes</th>\n",
       "      <th>Colegios / Universidades</th>\n",
       "      <th>Parques cercanos</th>\n",
       "      <th>Zona Residencial</th>\n",
       "      <th>Closet</th>\n",
       "      <th>municipio</th>\n",
       "      <th>tipo_propiedad</th>\n",
       "    </tr>\n",
       "  </thead>\n",
       "  <tbody>\n",
       "    <tr>\n",
       "      <th>0</th>\n",
       "      <td>Usada</td>\n",
       "      <td>https://www.fincaraiz.com.co/casa-campestre-en...</td>\n",
       "      <td>Casa Campestre en Venta Rionegro Vereda Guayabito</td>\n",
       "      <td>$ 1.380.000.000</td>\n",
       "      <td>320,00 m²</td>\n",
       "      <td>5</td>\n",
       "      <td>6</td>\n",
       "      <td>2</td>\n",
       "      <td>Propiedad moderna con muy buenos acabados. Her...</td>\n",
       "      <td>1.0</td>\n",
       "      <td>...</td>\n",
       "      <td>NaN</td>\n",
       "      <td>NaN</td>\n",
       "      <td>NaN</td>\n",
       "      <td>NaN</td>\n",
       "      <td>NaN</td>\n",
       "      <td>NaN</td>\n",
       "      <td>NaN</td>\n",
       "      <td>NaN</td>\n",
       "      <td>rionegro</td>\n",
       "      <td>casa</td>\n",
       "    </tr>\n",
       "  </tbody>\n",
       "</table>\n",
       "<p>1 rows × 26 columns</p>\n",
       "</div>"
      ],
      "text/plain": [
       "    tipo                                                url  \\\n",
       "0  Usada  https://www.fincaraiz.com.co/casa-campestre-en...   \n",
       "\n",
       "                                              titulo           precio  \\\n",
       "0  Casa Campestre en Venta Rionegro Vereda Guayabito  $ 1.380.000.000   \n",
       "\n",
       "        area habitaciones banos garajes  \\\n",
       "0  320,00 m²            5     6       2   \n",
       "\n",
       "                                         descripcion  Balcón  ...  \\\n",
       "0  Propiedad moderna con muy buenos acabados. Her...     1.0  ...   \n",
       "\n",
       "   Zonas Verdes Supermercados / C.Comerciales Instalación de gas  \\\n",
       "0           NaN                           NaN                NaN   \n",
       "\n",
       "   Parqueadero Visitantes  Colegios / Universidades  Parques cercanos  \\\n",
       "0                     NaN                       NaN               NaN   \n",
       "\n",
       "   Zona Residencial  Closet  municipio  tipo_propiedad  \n",
       "0               NaN     NaN   rionegro            casa  \n",
       "\n",
       "[1 rows x 26 columns]"
      ]
     },
     "execution_count": 377,
     "metadata": {},
     "output_type": "execute_result"
    }
   ],
   "source": [
    "dfp=pd.read_csv(r'C:\\Users\\Juan Guzman\\pviviendas\\Data\\dfmerged')\n",
    "dfp.head(1)"
   ]
  },
  {
   "attachments": {},
   "cell_type": "markdown",
   "metadata": {},
   "source": [
    "# Limpieza de los Nan "
   ]
  },
  {
   "cell_type": "code",
   "execution_count": 378,
   "metadata": {},
   "outputs": [],
   "source": [
    "def graf_num_nan(df):\n",
    "        dfNan = df.isnull().pipe( # ejecutar varias operaciones en el DataFrame, \"pipe\" que se encarga de pasar la salida de una función como entrada de la siguiente\n",
    "                lambda df: (\n",
    "                            df.sum() # Suma el número de valores faltantes en cada columna del DataFrame\n",
    "                            .reset_index(name=\"numero_Nan\") # Reinicia el índice del DataFrame resultante y se le asigna nombre\n",
    "                            .rename(columns={'index':'variable'}) # se cambia el nombre de index a variable\n",
    "                            .assign ( # agrega columnas al df\n",
    "                                    observaciones = len(df), # numero total de registros en el df original\n",
    "                                    pct_missing = lambda df1 : df1.numero_Nan / df1.observaciones * 100, # porcentaje Nan en cada variable\n",
    "                                    )\n",
    "                            )\n",
    "\n",
    "                    )\n",
    "        plt.figure(figsize=(20,7))\n",
    "        dfgnan = dfNan.sort_values('numero_Nan') # almacenar el resumen del nan de las variables en el df dfgnan\n",
    "        plot_range = range(1, len(dfgnan.index) + 1) # establece la posicion de cada variable en el grafico\n",
    "        plt.hlines(y=plot_range, xmin=0, xmax=dfgnan.numero_Nan, colors='gray') # traza lineas horizontales en el grafico\n",
    "        plt.plot(dfgnan.numero_Nan, plot_range, \"o\", color='black') # pone \"o\" en el eje x\n",
    "        # plt.yticks(plot_range, dfgnan.variable) #  etiquetar los puntos en el eje y con los nombres de las variables\n",
    "        plt.grid(axis=\"y\") # agregar un gráfico de cuadrícula en el eje y\n",
    "        plt.xlabel(\"numero de Nan\")\n",
    "        plt.ylabel(\"Variable en orden ascendente en razon al numero de Nan\")\n",
    "\n",
    "\n",
    "        return dfNan"
   ]
  },
  {
   "cell_type": "code",
   "execution_count": 379,
   "metadata": {},
   "outputs": [
    {
     "data": {
      "text/html": [
       "<div>\n",
       "<style scoped>\n",
       "    .dataframe tbody tr th:only-of-type {\n",
       "        vertical-align: middle;\n",
       "    }\n",
       "\n",
       "    .dataframe tbody tr th {\n",
       "        vertical-align: top;\n",
       "    }\n",
       "\n",
       "    .dataframe thead th {\n",
       "        text-align: right;\n",
       "    }\n",
       "</style>\n",
       "<table border=\"1\" class=\"dataframe\">\n",
       "  <thead>\n",
       "    <tr style=\"text-align: right;\">\n",
       "      <th></th>\n",
       "      <th>variable</th>\n",
       "      <th>numero_Nan</th>\n",
       "      <th>observaciones</th>\n",
       "      <th>pct_missing</th>\n",
       "    </tr>\n",
       "  </thead>\n",
       "  <tbody>\n",
       "    <tr>\n",
       "      <th>0</th>\n",
       "      <td>tipo</td>\n",
       "      <td>0</td>\n",
       "      <td>2715</td>\n",
       "      <td>0.000000</td>\n",
       "    </tr>\n",
       "    <tr>\n",
       "      <th>1</th>\n",
       "      <td>url</td>\n",
       "      <td>0</td>\n",
       "      <td>2715</td>\n",
       "      <td>0.000000</td>\n",
       "    </tr>\n",
       "    <tr>\n",
       "      <th>2</th>\n",
       "      <td>titulo</td>\n",
       "      <td>0</td>\n",
       "      <td>2715</td>\n",
       "      <td>0.000000</td>\n",
       "    </tr>\n",
       "    <tr>\n",
       "      <th>3</th>\n",
       "      <td>precio</td>\n",
       "      <td>0</td>\n",
       "      <td>2715</td>\n",
       "      <td>0.000000</td>\n",
       "    </tr>\n",
       "    <tr>\n",
       "      <th>4</th>\n",
       "      <td>area</td>\n",
       "      <td>0</td>\n",
       "      <td>2715</td>\n",
       "      <td>0.000000</td>\n",
       "    </tr>\n",
       "    <tr>\n",
       "      <th>5</th>\n",
       "      <td>habitaciones</td>\n",
       "      <td>0</td>\n",
       "      <td>2715</td>\n",
       "      <td>0.000000</td>\n",
       "    </tr>\n",
       "    <tr>\n",
       "      <th>6</th>\n",
       "      <td>banos</td>\n",
       "      <td>0</td>\n",
       "      <td>2715</td>\n",
       "      <td>0.000000</td>\n",
       "    </tr>\n",
       "    <tr>\n",
       "      <th>7</th>\n",
       "      <td>garajes</td>\n",
       "      <td>0</td>\n",
       "      <td>2715</td>\n",
       "      <td>0.000000</td>\n",
       "    </tr>\n",
       "    <tr>\n",
       "      <th>8</th>\n",
       "      <td>descripcion</td>\n",
       "      <td>0</td>\n",
       "      <td>2715</td>\n",
       "      <td>0.000000</td>\n",
       "    </tr>\n",
       "    <tr>\n",
       "      <th>9</th>\n",
       "      <td>Balcón</td>\n",
       "      <td>1314</td>\n",
       "      <td>2715</td>\n",
       "      <td>48.397790</td>\n",
       "    </tr>\n",
       "    <tr>\n",
       "      <th>10</th>\n",
       "      <td>Trans. Público cercano</td>\n",
       "      <td>1111</td>\n",
       "      <td>2715</td>\n",
       "      <td>40.920810</td>\n",
       "    </tr>\n",
       "    <tr>\n",
       "      <th>11</th>\n",
       "      <td>estrato</td>\n",
       "      <td>80</td>\n",
       "      <td>2715</td>\n",
       "      <td>2.946593</td>\n",
       "    </tr>\n",
       "    <tr>\n",
       "      <th>12</th>\n",
       "      <td>antiguedad</td>\n",
       "      <td>527</td>\n",
       "      <td>2715</td>\n",
       "      <td>19.410681</td>\n",
       "    </tr>\n",
       "    <tr>\n",
       "      <th>13</th>\n",
       "      <td>Cocina Integral</td>\n",
       "      <td>922</td>\n",
       "      <td>2715</td>\n",
       "      <td>33.959484</td>\n",
       "    </tr>\n",
       "    <tr>\n",
       "      <th>14</th>\n",
       "      <td>Baño Auxiliar</td>\n",
       "      <td>1533</td>\n",
       "      <td>2715</td>\n",
       "      <td>56.464088</td>\n",
       "    </tr>\n",
       "    <tr>\n",
       "      <th>15</th>\n",
       "      <td>Zona de lavandería</td>\n",
       "      <td>1341</td>\n",
       "      <td>2715</td>\n",
       "      <td>49.392265</td>\n",
       "    </tr>\n",
       "    <tr>\n",
       "      <th>16</th>\n",
       "      <td>Zonas Verdes</td>\n",
       "      <td>1547</td>\n",
       "      <td>2715</td>\n",
       "      <td>56.979742</td>\n",
       "    </tr>\n",
       "    <tr>\n",
       "      <th>17</th>\n",
       "      <td>Supermercados / C.Comerciales</td>\n",
       "      <td>1692</td>\n",
       "      <td>2715</td>\n",
       "      <td>62.320442</td>\n",
       "    </tr>\n",
       "    <tr>\n",
       "      <th>18</th>\n",
       "      <td>Instalación de gas</td>\n",
       "      <td>1614</td>\n",
       "      <td>2715</td>\n",
       "      <td>59.447514</td>\n",
       "    </tr>\n",
       "    <tr>\n",
       "      <th>19</th>\n",
       "      <td>Parqueadero Visitantes</td>\n",
       "      <td>1854</td>\n",
       "      <td>2715</td>\n",
       "      <td>68.287293</td>\n",
       "    </tr>\n",
       "    <tr>\n",
       "      <th>20</th>\n",
       "      <td>Colegios / Universidades</td>\n",
       "      <td>1756</td>\n",
       "      <td>2715</td>\n",
       "      <td>64.677716</td>\n",
       "    </tr>\n",
       "    <tr>\n",
       "      <th>21</th>\n",
       "      <td>Parques cercanos</td>\n",
       "      <td>1573</td>\n",
       "      <td>2715</td>\n",
       "      <td>57.937385</td>\n",
       "    </tr>\n",
       "    <tr>\n",
       "      <th>22</th>\n",
       "      <td>Zona Residencial</td>\n",
       "      <td>1370</td>\n",
       "      <td>2715</td>\n",
       "      <td>50.460405</td>\n",
       "    </tr>\n",
       "    <tr>\n",
       "      <th>23</th>\n",
       "      <td>Closet</td>\n",
       "      <td>1816</td>\n",
       "      <td>2715</td>\n",
       "      <td>66.887661</td>\n",
       "    </tr>\n",
       "    <tr>\n",
       "      <th>24</th>\n",
       "      <td>municipio</td>\n",
       "      <td>0</td>\n",
       "      <td>2715</td>\n",
       "      <td>0.000000</td>\n",
       "    </tr>\n",
       "    <tr>\n",
       "      <th>25</th>\n",
       "      <td>tipo_propiedad</td>\n",
       "      <td>0</td>\n",
       "      <td>2715</td>\n",
       "      <td>0.000000</td>\n",
       "    </tr>\n",
       "  </tbody>\n",
       "</table>\n",
       "</div>"
      ],
      "text/plain": [
       "                         variable  numero_Nan  observaciones  pct_missing\n",
       "0                            tipo           0           2715     0.000000\n",
       "1                             url           0           2715     0.000000\n",
       "2                          titulo           0           2715     0.000000\n",
       "3                          precio           0           2715     0.000000\n",
       "4                            area           0           2715     0.000000\n",
       "5                    habitaciones           0           2715     0.000000\n",
       "6                           banos           0           2715     0.000000\n",
       "7                         garajes           0           2715     0.000000\n",
       "8                     descripcion           0           2715     0.000000\n",
       "9                          Balcón        1314           2715    48.397790\n",
       "10         Trans. Público cercano        1111           2715    40.920810\n",
       "11                        estrato          80           2715     2.946593\n",
       "12                     antiguedad         527           2715    19.410681\n",
       "13                Cocina Integral         922           2715    33.959484\n",
       "14                  Baño Auxiliar        1533           2715    56.464088\n",
       "15             Zona de lavandería        1341           2715    49.392265\n",
       "16                   Zonas Verdes        1547           2715    56.979742\n",
       "17  Supermercados / C.Comerciales        1692           2715    62.320442\n",
       "18             Instalación de gas        1614           2715    59.447514\n",
       "19         Parqueadero Visitantes        1854           2715    68.287293\n",
       "20       Colegios / Universidades        1756           2715    64.677716\n",
       "21               Parques cercanos        1573           2715    57.937385\n",
       "22               Zona Residencial        1370           2715    50.460405\n",
       "23                         Closet        1816           2715    66.887661\n",
       "24                      municipio           0           2715     0.000000\n",
       "25                 tipo_propiedad           0           2715     0.000000"
      ]
     },
     "execution_count": 379,
     "metadata": {},
     "output_type": "execute_result"
    },
    {
     "data": {
      "image/png": "[encoded data removed]",
      "text/plain": [
       "<Figure size 2000x700 with 1 Axes>"
      ]
     },
     "metadata": {},
     "output_type": "display_data"
    }
   ],
   "source": [
    "graf_num_nan(dfp)\n"
   ]
  },
  {
   "attachments": {},
   "cell_type": "markdown",
   "metadata": {},
   "source": [
    "Para todas las columnas excepto \n",
    "estrato y antiguedad se reemplazaran por 0"
   ]
  },
  {
   "cell_type": "code",
   "execution_count": 380,
   "metadata": {},
   "outputs": [],
   "source": [
    "exclude_cols = ['antiguedad', 'estrato']\n",
    "\n",
    "# reemplazar los valores NaN en las columnas no seleccionadas\n",
    "cols_to_replace = dfp.columns[~dfp.columns.isin(exclude_cols)]\n",
    "dfp[cols_to_replace] = dfp[cols_to_replace].fillna(0)"
   ]
  },
  {
   "cell_type": "code",
   "execution_count": 381,
   "metadata": {},
   "outputs": [
    {
     "data": {
      "text/html": [
       "<div>\n",
       "<style scoped>\n",
       "    .dataframe tbody tr th:only-of-type {\n",
       "        vertical-align: middle;\n",
       "    }\n",
       "\n",
       "    .dataframe tbody tr th {\n",
       "        vertical-align: top;\n",
       "    }\n",
       "\n",
       "    .dataframe thead th {\n",
       "        text-align: right;\n",
       "    }\n",
       "</style>\n",
       "<table border=\"1\" class=\"dataframe\">\n",
       "  <thead>\n",
       "    <tr style=\"text-align: right;\">\n",
       "      <th></th>\n",
       "      <th>variable</th>\n",
       "      <th>numero_Nan</th>\n",
       "      <th>observaciones</th>\n",
       "      <th>pct_missing</th>\n",
       "    </tr>\n",
       "  </thead>\n",
       "  <tbody>\n",
       "    <tr>\n",
       "      <th>0</th>\n",
       "      <td>tipo</td>\n",
       "      <td>0</td>\n",
       "      <td>2715</td>\n",
       "      <td>0.000000</td>\n",
       "    </tr>\n",
       "    <tr>\n",
       "      <th>1</th>\n",
       "      <td>url</td>\n",
       "      <td>0</td>\n",
       "      <td>2715</td>\n",
       "      <td>0.000000</td>\n",
       "    </tr>\n",
       "    <tr>\n",
       "      <th>2</th>\n",
       "      <td>titulo</td>\n",
       "      <td>0</td>\n",
       "      <td>2715</td>\n",
       "      <td>0.000000</td>\n",
       "    </tr>\n",
       "    <tr>\n",
       "      <th>3</th>\n",
       "      <td>precio</td>\n",
       "      <td>0</td>\n",
       "      <td>2715</td>\n",
       "      <td>0.000000</td>\n",
       "    </tr>\n",
       "    <tr>\n",
       "      <th>4</th>\n",
       "      <td>area</td>\n",
       "      <td>0</td>\n",
       "      <td>2715</td>\n",
       "      <td>0.000000</td>\n",
       "    </tr>\n",
       "    <tr>\n",
       "      <th>5</th>\n",
       "      <td>habitaciones</td>\n",
       "      <td>0</td>\n",
       "      <td>2715</td>\n",
       "      <td>0.000000</td>\n",
       "    </tr>\n",
       "    <tr>\n",
       "      <th>6</th>\n",
       "      <td>banos</td>\n",
       "      <td>0</td>\n",
       "      <td>2715</td>\n",
       "      <td>0.000000</td>\n",
       "    </tr>\n",
       "    <tr>\n",
       "      <th>7</th>\n",
       "      <td>garajes</td>\n",
       "      <td>0</td>\n",
       "      <td>2715</td>\n",
       "      <td>0.000000</td>\n",
       "    </tr>\n",
       "    <tr>\n",
       "      <th>8</th>\n",
       "      <td>descripcion</td>\n",
       "      <td>0</td>\n",
       "      <td>2715</td>\n",
       "      <td>0.000000</td>\n",
       "    </tr>\n",
       "    <tr>\n",
       "      <th>9</th>\n",
       "      <td>Balcón</td>\n",
       "      <td>0</td>\n",
       "      <td>2715</td>\n",
       "      <td>0.000000</td>\n",
       "    </tr>\n",
       "    <tr>\n",
       "      <th>10</th>\n",
       "      <td>Trans. Público cercano</td>\n",
       "      <td>0</td>\n",
       "      <td>2715</td>\n",
       "      <td>0.000000</td>\n",
       "    </tr>\n",
       "    <tr>\n",
       "      <th>11</th>\n",
       "      <td>estrato</td>\n",
       "      <td>80</td>\n",
       "      <td>2715</td>\n",
       "      <td>2.946593</td>\n",
       "    </tr>\n",
       "    <tr>\n",
       "      <th>12</th>\n",
       "      <td>antiguedad</td>\n",
       "      <td>527</td>\n",
       "      <td>2715</td>\n",
       "      <td>19.410681</td>\n",
       "    </tr>\n",
       "    <tr>\n",
       "      <th>13</th>\n",
       "      <td>Cocina Integral</td>\n",
       "      <td>0</td>\n",
       "      <td>2715</td>\n",
       "      <td>0.000000</td>\n",
       "    </tr>\n",
       "    <tr>\n",
       "      <th>14</th>\n",
       "      <td>Baño Auxiliar</td>\n",
       "      <td>0</td>\n",
       "      <td>2715</td>\n",
       "      <td>0.000000</td>\n",
       "    </tr>\n",
       "    <tr>\n",
       "      <th>15</th>\n",
       "      <td>Zona de lavandería</td>\n",
       "      <td>0</td>\n",
       "      <td>2715</td>\n",
       "      <td>0.000000</td>\n",
       "    </tr>\n",
       "    <tr>\n",
       "      <th>16</th>\n",
       "      <td>Zonas Verdes</td>\n",
       "      <td>0</td>\n",
       "      <td>2715</td>\n",
       "      <td>0.000000</td>\n",
       "    </tr>\n",
       "    <tr>\n",
       "      <th>17</th>\n",
       "      <td>Supermercados / C.Comerciales</td>\n",
       "      <td>0</td>\n",
       "      <td>2715</td>\n",
       "      <td>0.000000</td>\n",
       "    </tr>\n",
       "    <tr>\n",
       "      <th>18</th>\n",
       "      <td>Instalación de gas</td>\n",
       "      <td>0</td>\n",
       "      <td>2715</td>\n",
       "      <td>0.000000</td>\n",
       "    </tr>\n",
       "    <tr>\n",
       "      <th>19</th>\n",
       "      <td>Parqueadero Visitantes</td>\n",
       "      <td>0</td>\n",
       "      <td>2715</td>\n",
       "      <td>0.000000</td>\n",
       "    </tr>\n",
       "    <tr>\n",
       "      <th>20</th>\n",
       "      <td>Colegios / Universidades</td>\n",
       "      <td>0</td>\n",
       "      <td>2715</td>\n",
       "      <td>0.000000</td>\n",
       "    </tr>\n",
       "    <tr>\n",
       "      <th>21</th>\n",
       "      <td>Parques cercanos</td>\n",
       "      <td>0</td>\n",
       "      <td>2715</td>\n",
       "      <td>0.000000</td>\n",
       "    </tr>\n",
       "    <tr>\n",
       "      <th>22</th>\n",
       "      <td>Zona Residencial</td>\n",
       "      <td>0</td>\n",
       "      <td>2715</td>\n",
       "      <td>0.000000</td>\n",
       "    </tr>\n",
       "    <tr>\n",
       "      <th>23</th>\n",
       "      <td>Closet</td>\n",
       "      <td>0</td>\n",
       "      <td>2715</td>\n",
       "      <td>0.000000</td>\n",
       "    </tr>\n",
       "    <tr>\n",
       "      <th>24</th>\n",
       "      <td>municipio</td>\n",
       "      <td>0</td>\n",
       "      <td>2715</td>\n",
       "      <td>0.000000</td>\n",
       "    </tr>\n",
       "    <tr>\n",
       "      <th>25</th>\n",
       "      <td>tipo_propiedad</td>\n",
       "      <td>0</td>\n",
       "      <td>2715</td>\n",
       "      <td>0.000000</td>\n",
       "    </tr>\n",
       "  </tbody>\n",
       "</table>\n",
       "</div>"
      ],
      "text/plain": [
       "                         variable  numero_Nan  observaciones  pct_missing\n",
       "0                            tipo           0           2715     0.000000\n",
       "1                             url           0           2715     0.000000\n",
       "2                          titulo           0           2715     0.000000\n",
       "3                          precio           0           2715     0.000000\n",
       "4                            area           0           2715     0.000000\n",
       "5                    habitaciones           0           2715     0.000000\n",
       "6                           banos           0           2715     0.000000\n",
       "7                         garajes           0           2715     0.000000\n",
       "8                     descripcion           0           2715     0.000000\n",
       "9                          Balcón           0           2715     0.000000\n",
       "10         Trans. Público cercano           0           2715     0.000000\n",
       "11                        estrato          80           2715     2.946593\n",
       "12                     antiguedad         527           2715    19.410681\n",
       "13                Cocina Integral           0           2715     0.000000\n",
       "14                  Baño Auxiliar           0           2715     0.000000\n",
       "15             Zona de lavandería           0           2715     0.000000\n",
       "16                   Zonas Verdes           0           2715     0.000000\n",
       "17  Supermercados / C.Comerciales           0           2715     0.000000\n",
       "18             Instalación de gas           0           2715     0.000000\n",
       "19         Parqueadero Visitantes           0           2715     0.000000\n",
       "20       Colegios / Universidades           0           2715     0.000000\n",
       "21               Parques cercanos           0           2715     0.000000\n",
       "22               Zona Residencial           0           2715     0.000000\n",
       "23                         Closet           0           2715     0.000000\n",
       "24                      municipio           0           2715     0.000000\n",
       "25                 tipo_propiedad           0           2715     0.000000"
      ]
     },
     "execution_count": 381,
     "metadata": {},
     "output_type": "execute_result"
    },
    {
     "data": {
      "image/png": "[encoded data removed]",
      "text/plain": [
       "<Figure size 2000x700 with 1 Axes>"
      ]
     },
     "metadata": {},
     "output_type": "display_data"
    }
   ],
   "source": [
    "graf_num_nan(dfp)"
   ]
  },
  {
   "attachments": {},
   "cell_type": "markdown",
   "metadata": {},
   "source": [
    "# renombre de columnas"
   ]
  },
  {
   "cell_type": "code",
   "execution_count": 382,
   "metadata": {},
   "outputs": [],
   "source": [
    "dfp.columns=dfp.columns.map(str.lower)"
   ]
  },
  {
   "cell_type": "code",
   "execution_count": 383,
   "metadata": {},
   "outputs": [],
   "source": [
    "dfp.columns = [unidecode(i) for i in dfp.columns]"
   ]
  },
  {
   "cell_type": "code",
   "execution_count": 384,
   "metadata": {},
   "outputs": [
    {
     "data": {
      "text/plain": [
       "Index(['tipo', 'url', 'titulo', 'precio', 'area', 'habitaciones', 'banos',\n",
       "       'garajes', 'descripcion', 'balcon', 'trans. publico cercano', 'estrato',\n",
       "       'antiguedad', 'cocina integral', 'bano auxiliar', 'zona de lavanderia',\n",
       "       'zonas verdes', 'supermercados / c.comerciales', 'instalacion de gas',\n",
       "       'parqueadero visitantes', 'colegios / universidades',\n",
       "       'parques cercanos', 'zona residencial', 'closet', 'municipio',\n",
       "       'tipo_propiedad'],\n",
       "      dtype='object')"
      ]
     },
     "execution_count": 384,
     "metadata": {},
     "output_type": "execute_result"
    }
   ],
   "source": [
    "dfp.columns"
   ]
  },
  {
   "cell_type": "code",
   "execution_count": 385,
   "metadata": {},
   "outputs": [
    {
     "data": {
      "text/html": [
       "<div>\n",
       "<style scoped>\n",
       "    .dataframe tbody tr th:only-of-type {\n",
       "        vertical-align: middle;\n",
       "    }\n",
       "\n",
       "    .dataframe tbody tr th {\n",
       "        vertical-align: top;\n",
       "    }\n",
       "\n",
       "    .dataframe thead th {\n",
       "        text-align: right;\n",
       "    }\n",
       "</style>\n",
       "<table border=\"1\" class=\"dataframe\">\n",
       "  <thead>\n",
       "    <tr style=\"text-align: right;\">\n",
       "      <th></th>\n",
       "      <th>tipo</th>\n",
       "      <th>url</th>\n",
       "      <th>titulo</th>\n",
       "      <th>precio</th>\n",
       "      <th>area</th>\n",
       "      <th>habitaciones</th>\n",
       "      <th>banos</th>\n",
       "      <th>garajes</th>\n",
       "      <th>descripcion</th>\n",
       "      <th>balcon</th>\n",
       "      <th>...</th>\n",
       "      <th>zonas verdes</th>\n",
       "      <th>supermercados / c.comerciales</th>\n",
       "      <th>instalacion de gas</th>\n",
       "      <th>parqueadero visitantes</th>\n",
       "      <th>colegios / universidades</th>\n",
       "      <th>parques cercanos</th>\n",
       "      <th>zona residencial</th>\n",
       "      <th>closet</th>\n",
       "      <th>municipio</th>\n",
       "      <th>tipo_propiedad</th>\n",
       "    </tr>\n",
       "  </thead>\n",
       "  <tbody>\n",
       "    <tr>\n",
       "      <th>0</th>\n",
       "      <td>Usada</td>\n",
       "      <td>https://www.fincaraiz.com.co/casa-campestre-en...</td>\n",
       "      <td>Casa Campestre en Venta Rionegro Vereda Guayabito</td>\n",
       "      <td>$ 1.380.000.000</td>\n",
       "      <td>320,00 m²</td>\n",
       "      <td>5</td>\n",
       "      <td>6</td>\n",
       "      <td>2</td>\n",
       "      <td>Propiedad moderna con muy buenos acabados. Her...</td>\n",
       "      <td>1.0</td>\n",
       "      <td>...</td>\n",
       "      <td>0.0</td>\n",
       "      <td>0.0</td>\n",
       "      <td>0.0</td>\n",
       "      <td>0.0</td>\n",
       "      <td>0.0</td>\n",
       "      <td>0.0</td>\n",
       "      <td>0.0</td>\n",
       "      <td>0.0</td>\n",
       "      <td>rionegro</td>\n",
       "      <td>casa</td>\n",
       "    </tr>\n",
       "    <tr>\n",
       "      <th>1</th>\n",
       "      <td>Usada</td>\n",
       "      <td>https://www.fincaraiz.com.co/finca-en-venta/el...</td>\n",
       "      <td>Finca en Venta El Retiro Arcadia</td>\n",
       "      <td>$ 2.900.000.000</td>\n",
       "      <td>1,00 Ha</td>\n",
       "      <td>4</td>\n",
       "      <td>5</td>\n",
       "      <td>Sin especificar</td>\n",
       "      <td>propiedad con casa principal de 4 habitaciones...</td>\n",
       "      <td>0.0</td>\n",
       "      <td>...</td>\n",
       "      <td>0.0</td>\n",
       "      <td>0.0</td>\n",
       "      <td>0.0</td>\n",
       "      <td>0.0</td>\n",
       "      <td>0.0</td>\n",
       "      <td>0.0</td>\n",
       "      <td>0.0</td>\n",
       "      <td>0.0</td>\n",
       "      <td>el retiro</td>\n",
       "      <td>finca</td>\n",
       "    </tr>\n",
       "    <tr>\n",
       "      <th>2</th>\n",
       "      <td>Nueva</td>\n",
       "      <td>https://www.fincaraiz.com.co/vivari-de-san-nic...</td>\n",
       "      <td>VIVARI DE SAN NICOLAS San Nicolás - Rionegro</td>\n",
       "      <td>$ 496.122.600</td>\n",
       "      <td>91,97 m2</td>\n",
       "      <td>3</td>\n",
       "      <td>3</td>\n",
       "      <td>1</td>\n",
       "      <td>6234794 Vivari San Nicolás, es un conjunto res...</td>\n",
       "      <td>1.0</td>\n",
       "      <td>...</td>\n",
       "      <td>1.0</td>\n",
       "      <td>1.0</td>\n",
       "      <td>0.0</td>\n",
       "      <td>0.0</td>\n",
       "      <td>0.0</td>\n",
       "      <td>0.0</td>\n",
       "      <td>0.0</td>\n",
       "      <td>0.0</td>\n",
       "      <td>rionegro</td>\n",
       "      <td>apartamento</td>\n",
       "    </tr>\n",
       "    <tr>\n",
       "      <th>3</th>\n",
       "      <td>Usada</td>\n",
       "      <td>https://www.fincaraiz.com.co/casa-en-venta/san...</td>\n",
       "      <td>Casa en Venta San Antonio de Pereira villas de...</td>\n",
       "      <td>$ 570.000.000</td>\n",
       "      <td>150,00 m²</td>\n",
       "      <td>3</td>\n",
       "      <td>3</td>\n",
       "      <td>1</td>\n",
       "      <td>Casa en venta en Villas de Gualanday por 580 m...</td>\n",
       "      <td>1.0</td>\n",
       "      <td>...</td>\n",
       "      <td>1.0</td>\n",
       "      <td>1.0</td>\n",
       "      <td>1.0</td>\n",
       "      <td>1.0</td>\n",
       "      <td>1.0</td>\n",
       "      <td>1.0</td>\n",
       "      <td>1.0</td>\n",
       "      <td>0.0</td>\n",
       "      <td>san antonio de pereira</td>\n",
       "      <td>casa</td>\n",
       "    </tr>\n",
       "    <tr>\n",
       "      <th>4</th>\n",
       "      <td>Usada</td>\n",
       "      <td>https://www.fincaraiz.com.co/casa-en-venta/mar...</td>\n",
       "      <td>Casa en Venta Marinilla Monteverde</td>\n",
       "      <td>$ 290.000.000</td>\n",
       "      <td>106,00 m²</td>\n",
       "      <td>3</td>\n",
       "      <td>3</td>\n",
       "      <td>1</td>\n",
       "      <td>Gran oportunidad Vendo casa unifamiliar no pag...</td>\n",
       "      <td>0.0</td>\n",
       "      <td>...</td>\n",
       "      <td>0.0</td>\n",
       "      <td>0.0</td>\n",
       "      <td>0.0</td>\n",
       "      <td>0.0</td>\n",
       "      <td>0.0</td>\n",
       "      <td>0.0</td>\n",
       "      <td>0.0</td>\n",
       "      <td>0.0</td>\n",
       "      <td>marinilla</td>\n",
       "      <td>casa</td>\n",
       "    </tr>\n",
       "  </tbody>\n",
       "</table>\n",
       "<p>5 rows × 26 columns</p>\n",
       "</div>"
      ],
      "text/plain": [
       "    tipo                                                url  \\\n",
       "0  Usada  https://www.fincaraiz.com.co/casa-campestre-en...   \n",
       "1  Usada  https://www.fincaraiz.com.co/finca-en-venta/el...   \n",
       "2  Nueva  https://www.fincaraiz.com.co/vivari-de-san-nic...   \n",
       "3  Usada  https://www.fincaraiz.com.co/casa-en-venta/san...   \n",
       "4  Usada  https://www.fincaraiz.com.co/casa-en-venta/mar...   \n",
       "\n",
       "                                              titulo           precio  \\\n",
       "0  Casa Campestre en Venta Rionegro Vereda Guayabito  $ 1.380.000.000   \n",
       "1                   Finca en Venta El Retiro Arcadia  $ 2.900.000.000   \n",
       "2       VIVARI DE SAN NICOLAS San Nicolás - Rionegro    $ 496.122.600   \n",
       "3  Casa en Venta San Antonio de Pereira villas de...    $ 570.000.000   \n",
       "4                 Casa en Venta Marinilla Monteverde    $ 290.000.000   \n",
       "\n",
       "        area habitaciones banos          garajes  \\\n",
       "0  320,00 m²            5     6                2   \n",
       "1    1,00 Ha            4     5  Sin especificar   \n",
       "2   91,97 m2            3     3                1   \n",
       "3  150,00 m²            3     3                1   \n",
       "4  106,00 m²            3     3                1   \n",
       "\n",
       "                                         descripcion  balcon  ...  \\\n",
       "0  Propiedad moderna con muy buenos acabados. Her...     1.0  ...   \n",
       "1  propiedad con casa principal de 4 habitaciones...     0.0  ...   \n",
       "2  6234794 Vivari San Nicolás, es un conjunto res...     1.0  ...   \n",
       "3  Casa en venta en Villas de Gualanday por 580 m...     1.0  ...   \n",
       "4  Gran oportunidad Vendo casa unifamiliar no pag...     0.0  ...   \n",
       "\n",
       "   zonas verdes supermercados / c.comerciales instalacion de gas  \\\n",
       "0           0.0                           0.0                0.0   \n",
       "1           0.0                           0.0                0.0   \n",
       "2           1.0                           1.0                0.0   \n",
       "3           1.0                           1.0                1.0   \n",
       "4           0.0                           0.0                0.0   \n",
       "\n",
       "   parqueadero visitantes  colegios / universidades  parques cercanos  \\\n",
       "0                     0.0                       0.0               0.0   \n",
       "1                     0.0                       0.0               0.0   \n",
       "2                     0.0                       0.0               0.0   \n",
       "3                     1.0                       1.0               1.0   \n",
       "4                     0.0                       0.0               0.0   \n",
       "\n",
       "   zona residencial  closet               municipio  tipo_propiedad  \n",
       "0               0.0     0.0                rionegro            casa  \n",
       "1               0.0     0.0               el retiro           finca  \n",
       "2               0.0     0.0                rionegro     apartamento  \n",
       "3               1.0     0.0  san antonio de pereira            casa  \n",
       "4               0.0     0.0               marinilla            casa  \n",
       "\n",
       "[5 rows x 26 columns]"
      ]
     },
     "execution_count": 385,
     "metadata": {},
     "output_type": "execute_result"
    }
   ],
   "source": [
    "dfp.head()"
   ]
  },
  {
   "cell_type": "code",
   "execution_count": 386,
   "metadata": {},
   "outputs": [
    {
     "name": "stdout",
     "output_type": "stream",
     "text": [
      "<class 'pandas.core.frame.DataFrame'>\n",
      "RangeIndex: 2715 entries, 0 to 2714\n",
      "Data columns (total 26 columns):\n",
      " #   Column                         Non-Null Count  Dtype  \n",
      "---  ------                         --------------  -----  \n",
      " 0   tipo                           2715 non-null   object \n",
      " 1   url                            2715 non-null   object \n",
      " 2   titulo                         2715 non-null   object \n",
      " 3   precio                         2715 non-null   object \n",
      " 4   area                           2715 non-null   object \n",
      " 5   habitaciones                   2715 non-null   object \n",
      " 6   banos                          2715 non-null   object \n",
      " 7   garajes                        2715 non-null   object \n",
      " 8   descripcion                    2715 non-null   object \n",
      " 9   balcon                         2715 non-null   float64\n",
      " 10  trans. publico cercano         2715 non-null   float64\n",
      " 11  estrato                        2635 non-null   object \n",
      " 12  antiguedad                     2188 non-null   object \n",
      " 13  cocina integral                2715 non-null   float64\n",
      " 14  bano auxiliar                  2715 non-null   float64\n",
      " 15  zona de lavanderia             2715 non-null   float64\n",
      " 16  zonas verdes                   2715 non-null   float64\n",
      " 17  supermercados / c.comerciales  2715 non-null   float64\n",
      " 18  instalacion de gas             2715 non-null   float64\n",
      " 19  parqueadero visitantes         2715 non-null   float64\n",
      " 20  colegios / universidades       2715 non-null   float64\n",
      " 21  parques cercanos               2715 non-null   float64\n",
      " 22  zona residencial               2715 non-null   float64\n",
      " 23  closet                         2715 non-null   float64\n",
      " 24  municipio                      2715 non-null   object \n",
      " 25  tipo_propiedad                 2715 non-null   object \n",
      "dtypes: float64(13), object(13)\n",
      "memory usage: 551.6+ KB\n"
     ]
    }
   ],
   "source": [
    "dfp.info()"
   ]
  },
  {
   "attachments": {},
   "cell_type": "markdown",
   "metadata": {},
   "source": [
    "# se procede a relizar reorganizacion de varibales\n"
   ]
  },
  {
   "attachments": {},
   "cell_type": "markdown",
   "metadata": {},
   "source": [
    "Se cambiaran los tipos de variables y detalles"
   ]
  },
  {
   "attachments": {},
   "cell_type": "markdown",
   "metadata": {},
   "source": [
    "para la variables tipo que comprende entre usada y nueva se pasara a numero en dode usada es 0 y nueva es 1"
   ]
  },
  {
   "cell_type": "code",
   "execution_count": 387,
   "metadata": {},
   "outputs": [
    {
     "data": {
      "text/plain": [
       "array([0, 1], dtype=int64)"
      ]
     },
     "execution_count": 387,
     "metadata": {},
     "output_type": "execute_result"
    }
   ],
   "source": [
    "dfp['tipo'] = dfp['tipo'].apply(lambda x: 0 if x == 'Usada' else 1)\n",
    "dfp['tipo'].unique()"
   ]
  },
  {
   "attachments": {},
   "cell_type": "markdown",
   "metadata": {},
   "source": [
    "a la variable precio se le quitara el simbolo y se pasara a numero"
   ]
  },
  {
   "cell_type": "code",
   "execution_count": 388,
   "metadata": {},
   "outputs": [
    {
     "data": {
      "text/plain": [
       "0       $ 1.380.000.000\n",
       "1       $ 2.900.000.000\n",
       "2         $ 496.122.600\n",
       "3         $ 570.000.000\n",
       "4         $ 290.000.000\n",
       "             ...       \n",
       "2710      $ 480.000.000\n",
       "2711      $ 350.000.000\n",
       "2712    $ 3.000.000.000\n",
       "2713      $ 260.000.000\n",
       "2714      $ 400.000.000\n",
       "Name: precio, Length: 2715, dtype: object"
      ]
     },
     "execution_count": 388,
     "metadata": {},
     "output_type": "execute_result"
    }
   ],
   "source": [
    "dfp['precio']"
   ]
  },
  {
   "cell_type": "code",
   "execution_count": 389,
   "metadata": {},
   "outputs": [
    {
     "data": {
      "text/plain": [
       "0       1380000000\n",
       "1       2900000000\n",
       "2        496122600\n",
       "3        570000000\n",
       "4        290000000\n",
       "           ...    \n",
       "2710     480000000\n",
       "2711     350000000\n",
       "2712    3000000000\n",
       "2713     260000000\n",
       "2714     400000000\n",
       "Name: precio, Length: 2715, dtype: int64"
      ]
     },
     "execution_count": 389,
     "metadata": {},
     "output_type": "execute_result"
    }
   ],
   "source": [
    "dfp['precio'] = dfp['precio'].apply(lambda x: int(x.replace('$', '').replace(' ', '').replace('.', '')))\n",
    "dfp['precio']"
   ]
  },
  {
   "attachments": {},
   "cell_type": "markdown",
   "metadata": {},
   "source": [
    "para la columna area se eliminaran las que estan en hectareas las cuales son 143 y se pasaran los valores de una cadena a flotante"
   ]
  },
  {
   "cell_type": "code",
   "execution_count": 390,
   "metadata": {},
   "outputs": [
    {
     "data": {
      "text/plain": [
       "m     2587\n",
       "Ha     128\n",
       "Name: medida, dtype: int64"
      ]
     },
     "execution_count": 390,
     "metadata": {},
     "output_type": "execute_result"
    }
   ],
   "source": [
    "dfp['medida'] = dfp['area'].apply(lambda x: re.findall('[a-zA-Z]+', x)[0])\n",
    "dfp['medida'].value_counts()"
   ]
  },
  {
   "cell_type": "code",
   "execution_count": 391,
   "metadata": {},
   "outputs": [
    {
     "data": {
      "text/plain": [
       "(2587, 27)"
      ]
     },
     "execution_count": 391,
     "metadata": {},
     "output_type": "execute_result"
    }
   ],
   "source": [
    "dfp = dfp[~dfp['area'].str.contains('Ha|hA|HA')]\n",
    "dfp.shape"
   ]
  },
  {
   "cell_type": "code",
   "execution_count": 392,
   "metadata": {},
   "outputs": [
    {
     "data": {
      "text/plain": [
       "m    2587\n",
       "Name: medida, dtype: int64"
      ]
     },
     "execution_count": 392,
     "metadata": {},
     "output_type": "execute_result"
    }
   ],
   "source": [
    "dfp['medida'] = dfp['area'].apply(lambda x: re.findall('[a-zA-Z]+', x)[0])\n",
    "dfp['medida'].value_counts()"
   ]
  },
  {
   "cell_type": "code",
   "execution_count": 393,
   "metadata": {},
   "outputs": [],
   "source": [
    "dfp.drop('medida',axis=1,inplace=True)"
   ]
  },
  {
   "cell_type": "code",
   "execution_count": 394,
   "metadata": {},
   "outputs": [
    {
     "data": {
      "text/plain": [
       "0       32000.0\n",
       "2       91972.0\n",
       "3       15000.0\n",
       "4       10600.0\n",
       "5       73372.0\n",
       "         ...   \n",
       "2710    26200.0\n",
       "2711     6000.0\n",
       "2712    58000.0\n",
       "2713    10400.0\n",
       "2714     6500.0\n",
       "Name: area, Length: 2587, dtype: float64"
      ]
     },
     "execution_count": 394,
     "metadata": {},
     "output_type": "execute_result"
    }
   ],
   "source": [
    "dfp['area'] = dfp['area'].apply(lambda x: re.sub('[^\\d\\.]', '', x)).astype(float)\n",
    "dfp['area']"
   ]
  },
  {
   "cell_type": "code",
   "execution_count": 395,
   "metadata": {},
   "outputs": [
    {
     "data": {
      "text/plain": [
       "array(['5', '3', '4', '2', '---', '1', '7', '9', '6', 'Sin especificar',\n",
       "       '12', '8', '14', '20', '21', '10', '15'], dtype=object)"
      ]
     },
     "execution_count": 395,
     "metadata": {},
     "output_type": "execute_result"
    }
   ],
   "source": [
    "dfp.habitaciones.unique()"
   ]
  },
  {
   "cell_type": "code",
   "execution_count": 396,
   "metadata": {},
   "outputs": [
    {
     "data": {
      "text/plain": [
       "0       5.0\n",
       "2       3.0\n",
       "3       3.0\n",
       "4       3.0\n",
       "5       3.0\n",
       "       ... \n",
       "2710    3.0\n",
       "2711    2.0\n",
       "2712    4.0\n",
       "2713    2.0\n",
       "2714    3.0\n",
       "Name: habitaciones, Length: 2587, dtype: float64"
      ]
     },
     "execution_count": 396,
     "metadata": {},
     "output_type": "execute_result"
    }
   ],
   "source": [
    "dfp['habitaciones'] = dfp['habitaciones'].apply(lambda x: re.sub('[^\\d]', '', str(x)))\n",
    "dfp['habitaciones'] = pd.to_numeric(dfp['habitaciones'], errors='coerce') # errors='coerce'  para que cualquier valor que no se pueda convertir se reemplace con NaN.\n",
    "dfp['habitaciones'] = dfp['habitaciones'].fillna(0)\n",
    "dfp['habitaciones']"
   ]
  },
  {
   "cell_type": "code",
   "execution_count": 397,
   "metadata": {},
   "outputs": [
    {
     "data": {
      "text/plain": [
       "0       6.0\n",
       "2       3.0\n",
       "3       3.0\n",
       "4       3.0\n",
       "5       3.0\n",
       "       ... \n",
       "2710    2.0\n",
       "2711    2.0\n",
       "2712    6.0\n",
       "2713    1.0\n",
       "2714    2.0\n",
       "Name: banos, Length: 2587, dtype: float64"
      ]
     },
     "execution_count": 397,
     "metadata": {},
     "output_type": "execute_result"
    }
   ],
   "source": [
    "dfp['banos'] = dfp['banos'].apply(lambda x: re.sub('[^\\d]', '', str(x)))\n",
    "dfp['banos'] = pd.to_numeric(dfp['banos'], errors='coerce') # errors='coerce'  para que cualquier valor que no se pueda convertir se reemplace con NaN.\n",
    "dfp['banos'] = dfp['banos'].fillna(0)\n",
    "dfp['banos']"
   ]
  },
  {
   "attachments": {},
   "cell_type": "markdown",
   "metadata": {},
   "source": [
    "en el caso de los garajes hay algunos que tienne ams de 10, para estos les colocaremos como 11 ya que hay zoans con 10"
   ]
  },
  {
   "cell_type": "code",
   "execution_count": 398,
   "metadata": {},
   "outputs": [
    {
     "data": {
      "text/plain": [
       "array([ 2,  1,  0,  4,  3,  5,  8,  7,  6,  9, 11, 10], dtype=int64)"
      ]
     },
     "execution_count": 398,
     "metadata": {},
     "output_type": "execute_result"
    }
   ],
   "source": [
    "dfp['garajes'] = dfp['garajes'].apply(lambda x: int(x.replace('Más de 10', '11').replace('Sin especificar', '0')))\n",
    "dfp['garajes'].unique()"
   ]
  },
  {
   "attachments": {},
   "cell_type": "markdown",
   "metadata": {},
   "source": [
    "para el estrato campestre(48) asumiremos que es estrato 3 y para los nan (117) tambien"
   ]
  },
  {
   "cell_type": "code",
   "execution_count": 399,
   "metadata": {},
   "outputs": [
    {
     "data": {
      "text/plain": [
       "(28, 73)"
      ]
     },
     "execution_count": 399,
     "metadata": {},
     "output_type": "execute_result"
    }
   ],
   "source": [
    "(dfp['estrato']=='Campestre').sum() , (dfp['estrato'].isna().sum())"
   ]
  },
  {
   "cell_type": "code",
   "execution_count": 400,
   "metadata": {},
   "outputs": [],
   "source": [
    "dfp['estrato'] = dfp['estrato'].replace('Campestre', '3').astype(float)\n",
    "dfp['estrato'].fillna(3,inplace=True)"
   ]
  },
  {
   "cell_type": "code",
   "execution_count": 401,
   "metadata": {},
   "outputs": [
    {
     "data": {
      "text/plain": [
       "0       5.0\n",
       "2       3.0\n",
       "3       5.0\n",
       "4       4.0\n",
       "5       3.0\n",
       "       ... \n",
       "2710    3.0\n",
       "2711    4.0\n",
       "2712    6.0\n",
       "2713    3.0\n",
       "2714    4.0\n",
       "Name: estrato, Length: 2587, dtype: float64"
      ]
     },
     "execution_count": 401,
     "metadata": {},
     "output_type": "execute_result"
    }
   ],
   "source": [
    "dfp['estrato']"
   ]
  },
  {
   "attachments": {},
   "cell_type": "markdown",
   "metadata": {},
   "source": [
    "para el caso de antiguedad asumiremos que las casas que estan en el mismo estrato tienden a tener los mismo años de antiguedad, por lo tanto se ordenaran por estrato y se aplicara el ffill de fillna , que cambia los nan de acuerdo a los anteriores\n",
    "Adicionalmente a eso se cambiaran los siguientes valores que facilitaran su estudio y tratamiento.\n",
    "\n",
    "* \"Menos de 1 año\": 0\n",
    "* \"1 a 8 años\": 1\n",
    "* \"9 a 15 años\": 2\n",
    "* \"16 a 30 años\": 3\n",
    "* \"Más de 30 años\": 4"
   ]
  },
  {
   "cell_type": "code",
   "execution_count": 402,
   "metadata": {},
   "outputs": [],
   "source": [
    "dfp['original_index'] = dfp.index # esta columna se crea para volver a poner los datos como estaban\n",
    "dfp = dfp.sort_values('antiguedad')\n",
    "dfp['antiguedad'] = dfp['antiguedad'].fillna(method='ffill')\n",
    "dfp = dfp.sort_values('original_index') # Volver a ordenar por el índice original\n",
    "dfp = dfp.drop('original_index', axis=1)"
   ]
  },
  {
   "cell_type": "code",
   "execution_count": 403,
   "metadata": {},
   "outputs": [],
   "source": [
    "cambioano = {\n",
    "    \n",
    "    \"Menos de 1 año\": 0,\n",
    "    \"1 a 8 años\": 1,\n",
    "    \"9 a 15 años\": 2,\n",
    "    \"16 a 30 años\": 3,\n",
    "    \"Más de 30 años\": 4\n",
    "}\n",
    "dfp['antiguedad'] = dfp['antiguedad'].map(cambioano)\n",
    "dfp.fillna(0,inplace=True) # esto es porque ya habia un valor de 0, no afecta en nada "
   ]
  },
  {
   "cell_type": "code",
   "execution_count": 404,
   "metadata": {},
   "outputs": [
    {
     "data": {
      "text/plain": [
       "array([1., 0., 4., 2., 3.])"
      ]
     },
     "execution_count": 404,
     "metadata": {},
     "output_type": "execute_result"
    }
   ],
   "source": [
    "dfp['antiguedad'].unique()"
   ]
  },
  {
   "attachments": {},
   "cell_type": "markdown",
   "metadata": {},
   "source": [
    "como resultado nos queda el siguiente dataframe"
   ]
  },
  {
   "cell_type": "code",
   "execution_count": 405,
   "metadata": {},
   "outputs": [
    {
     "name": "stdout",
     "output_type": "stream",
     "text": [
      "<class 'pandas.core.frame.DataFrame'>\n",
      "Int64Index: 2587 entries, 0 to 2714\n",
      "Data columns (total 26 columns):\n",
      " #   Column                         Non-Null Count  Dtype  \n",
      "---  ------                         --------------  -----  \n",
      " 0   tipo                           2587 non-null   int64  \n",
      " 1   url                            2587 non-null   object \n",
      " 2   titulo                         2587 non-null   object \n",
      " 3   precio                         2587 non-null   int64  \n",
      " 4   area                           2587 non-null   float64\n",
      " 5   habitaciones                   2587 non-null   float64\n",
      " 6   banos                          2587 non-null   float64\n",
      " 7   garajes                        2587 non-null   int64  \n",
      " 8   descripcion                    2587 non-null   object \n",
      " 9   balcon                         2587 non-null   float64\n",
      " 10  trans. publico cercano         2587 non-null   float64\n",
      " 11  estrato                        2587 non-null   float64\n",
      " 12  antiguedad                     2587 non-null   float64\n",
      " 13  cocina integral                2587 non-null   float64\n",
      " 14  bano auxiliar                  2587 non-null   float64\n",
      " 15  zona de lavanderia             2587 non-null   float64\n",
      " 16  zonas verdes                   2587 non-null   float64\n",
      " 17  supermercados / c.comerciales  2587 non-null   float64\n",
      " 18  instalacion de gas             2587 non-null   float64\n",
      " 19  parqueadero visitantes         2587 non-null   float64\n",
      " 20  colegios / universidades       2587 non-null   float64\n",
      " 21  parques cercanos               2587 non-null   float64\n",
      " 22  zona residencial               2587 non-null   float64\n",
      " 23  closet                         2587 non-null   float64\n",
      " 24  municipio                      2587 non-null   object \n",
      " 25  tipo_propiedad                 2587 non-null   object \n",
      "dtypes: float64(18), int64(3), object(5)\n",
      "memory usage: 545.7+ KB\n"
     ]
    }
   ],
   "source": [
    "dfp.info()"
   ]
  },
  {
   "cell_type": "code",
   "execution_count": 406,
   "metadata": {},
   "outputs": [
    {
     "data": {
      "text/plain": [
       "0"
      ]
     },
     "execution_count": 406,
     "metadata": {},
     "output_type": "execute_result"
    }
   ],
   "source": [
    "dfp.isna().sum().sum() # numero de nan en el dataframe"
   ]
  },
  {
   "cell_type": "code",
   "execution_count": 407,
   "metadata": {},
   "outputs": [
    {
     "data": {
      "text/html": [
       "<div>\n",
       "<style scoped>\n",
       "    .dataframe tbody tr th:only-of-type {\n",
       "        vertical-align: middle;\n",
       "    }\n",
       "\n",
       "    .dataframe tbody tr th {\n",
       "        vertical-align: top;\n",
       "    }\n",
       "\n",
       "    .dataframe thead th {\n",
       "        text-align: right;\n",
       "    }\n",
       "</style>\n",
       "<table border=\"1\" class=\"dataframe\">\n",
       "  <thead>\n",
       "    <tr style=\"text-align: right;\">\n",
       "      <th></th>\n",
       "      <th>variable</th>\n",
       "      <th>numero_Nan</th>\n",
       "      <th>observaciones</th>\n",
       "      <th>pct_missing</th>\n",
       "    </tr>\n",
       "  </thead>\n",
       "  <tbody>\n",
       "    <tr>\n",
       "      <th>0</th>\n",
       "      <td>tipo</td>\n",
       "      <td>0</td>\n",
       "      <td>2587</td>\n",
       "      <td>0.0</td>\n",
       "    </tr>\n",
       "    <tr>\n",
       "      <th>1</th>\n",
       "      <td>url</td>\n",
       "      <td>0</td>\n",
       "      <td>2587</td>\n",
       "      <td>0.0</td>\n",
       "    </tr>\n",
       "    <tr>\n",
       "      <th>2</th>\n",
       "      <td>titulo</td>\n",
       "      <td>0</td>\n",
       "      <td>2587</td>\n",
       "      <td>0.0</td>\n",
       "    </tr>\n",
       "    <tr>\n",
       "      <th>3</th>\n",
       "      <td>precio</td>\n",
       "      <td>0</td>\n",
       "      <td>2587</td>\n",
       "      <td>0.0</td>\n",
       "    </tr>\n",
       "    <tr>\n",
       "      <th>4</th>\n",
       "      <td>area</td>\n",
       "      <td>0</td>\n",
       "      <td>2587</td>\n",
       "      <td>0.0</td>\n",
       "    </tr>\n",
       "    <tr>\n",
       "      <th>5</th>\n",
       "      <td>habitaciones</td>\n",
       "      <td>0</td>\n",
       "      <td>2587</td>\n",
       "      <td>0.0</td>\n",
       "    </tr>\n",
       "    <tr>\n",
       "      <th>6</th>\n",
       "      <td>banos</td>\n",
       "      <td>0</td>\n",
       "      <td>2587</td>\n",
       "      <td>0.0</td>\n",
       "    </tr>\n",
       "    <tr>\n",
       "      <th>7</th>\n",
       "      <td>garajes</td>\n",
       "      <td>0</td>\n",
       "      <td>2587</td>\n",
       "      <td>0.0</td>\n",
       "    </tr>\n",
       "    <tr>\n",
       "      <th>8</th>\n",
       "      <td>descripcion</td>\n",
       "      <td>0</td>\n",
       "      <td>2587</td>\n",
       "      <td>0.0</td>\n",
       "    </tr>\n",
       "    <tr>\n",
       "      <th>9</th>\n",
       "      <td>balcon</td>\n",
       "      <td>0</td>\n",
       "      <td>2587</td>\n",
       "      <td>0.0</td>\n",
       "    </tr>\n",
       "    <tr>\n",
       "      <th>10</th>\n",
       "      <td>trans. publico cercano</td>\n",
       "      <td>0</td>\n",
       "      <td>2587</td>\n",
       "      <td>0.0</td>\n",
       "    </tr>\n",
       "    <tr>\n",
       "      <th>11</th>\n",
       "      <td>estrato</td>\n",
       "      <td>0</td>\n",
       "      <td>2587</td>\n",
       "      <td>0.0</td>\n",
       "    </tr>\n",
       "    <tr>\n",
       "      <th>12</th>\n",
       "      <td>antiguedad</td>\n",
       "      <td>0</td>\n",
       "      <td>2587</td>\n",
       "      <td>0.0</td>\n",
       "    </tr>\n",
       "    <tr>\n",
       "      <th>13</th>\n",
       "      <td>cocina integral</td>\n",
       "      <td>0</td>\n",
       "      <td>2587</td>\n",
       "      <td>0.0</td>\n",
       "    </tr>\n",
       "    <tr>\n",
       "      <th>14</th>\n",
       "      <td>bano auxiliar</td>\n",
       "      <td>0</td>\n",
       "      <td>2587</td>\n",
       "      <td>0.0</td>\n",
       "    </tr>\n",
       "    <tr>\n",
       "      <th>15</th>\n",
       "      <td>zona de lavanderia</td>\n",
       "      <td>0</td>\n",
       "      <td>2587</td>\n",
       "      <td>0.0</td>\n",
       "    </tr>\n",
       "    <tr>\n",
       "      <th>16</th>\n",
       "      <td>zonas verdes</td>\n",
       "      <td>0</td>\n",
       "      <td>2587</td>\n",
       "      <td>0.0</td>\n",
       "    </tr>\n",
       "    <tr>\n",
       "      <th>17</th>\n",
       "      <td>supermercados / c.comerciales</td>\n",
       "      <td>0</td>\n",
       "      <td>2587</td>\n",
       "      <td>0.0</td>\n",
       "    </tr>\n",
       "    <tr>\n",
       "      <th>18</th>\n",
       "      <td>instalacion de gas</td>\n",
       "      <td>0</td>\n",
       "      <td>2587</td>\n",
       "      <td>0.0</td>\n",
       "    </tr>\n",
       "    <tr>\n",
       "      <th>19</th>\n",
       "      <td>parqueadero visitantes</td>\n",
       "      <td>0</td>\n",
       "      <td>2587</td>\n",
       "      <td>0.0</td>\n",
       "    </tr>\n",
       "    <tr>\n",
       "      <th>20</th>\n",
       "      <td>colegios / universidades</td>\n",
       "      <td>0</td>\n",
       "      <td>2587</td>\n",
       "      <td>0.0</td>\n",
       "    </tr>\n",
       "    <tr>\n",
       "      <th>21</th>\n",
       "      <td>parques cercanos</td>\n",
       "      <td>0</td>\n",
       "      <td>2587</td>\n",
       "      <td>0.0</td>\n",
       "    </tr>\n",
       "    <tr>\n",
       "      <th>22</th>\n",
       "      <td>zona residencial</td>\n",
       "      <td>0</td>\n",
       "      <td>2587</td>\n",
       "      <td>0.0</td>\n",
       "    </tr>\n",
       "    <tr>\n",
       "      <th>23</th>\n",
       "      <td>closet</td>\n",
       "      <td>0</td>\n",
       "      <td>2587</td>\n",
       "      <td>0.0</td>\n",
       "    </tr>\n",
       "    <tr>\n",
       "      <th>24</th>\n",
       "      <td>municipio</td>\n",
       "      <td>0</td>\n",
       "      <td>2587</td>\n",
       "      <td>0.0</td>\n",
       "    </tr>\n",
       "    <tr>\n",
       "      <th>25</th>\n",
       "      <td>tipo_propiedad</td>\n",
       "      <td>0</td>\n",
       "      <td>2587</td>\n",
       "      <td>0.0</td>\n",
       "    </tr>\n",
       "  </tbody>\n",
       "</table>\n",
       "</div>"
      ],
      "text/plain": [
       "                         variable  numero_Nan  observaciones  pct_missing\n",
       "0                            tipo           0           2587          0.0\n",
       "1                             url           0           2587          0.0\n",
       "2                          titulo           0           2587          0.0\n",
       "3                          precio           0           2587          0.0\n",
       "4                            area           0           2587          0.0\n",
       "5                    habitaciones           0           2587          0.0\n",
       "6                           banos           0           2587          0.0\n",
       "7                         garajes           0           2587          0.0\n",
       "8                     descripcion           0           2587          0.0\n",
       "9                          balcon           0           2587          0.0\n",
       "10         trans. publico cercano           0           2587          0.0\n",
       "11                        estrato           0           2587          0.0\n",
       "12                     antiguedad           0           2587          0.0\n",
       "13                cocina integral           0           2587          0.0\n",
       "14                  bano auxiliar           0           2587          0.0\n",
       "15             zona de lavanderia           0           2587          0.0\n",
       "16                   zonas verdes           0           2587          0.0\n",
       "17  supermercados / c.comerciales           0           2587          0.0\n",
       "18             instalacion de gas           0           2587          0.0\n",
       "19         parqueadero visitantes           0           2587          0.0\n",
       "20       colegios / universidades           0           2587          0.0\n",
       "21               parques cercanos           0           2587          0.0\n",
       "22               zona residencial           0           2587          0.0\n",
       "23                         closet           0           2587          0.0\n",
       "24                      municipio           0           2587          0.0\n",
       "25                 tipo_propiedad           0           2587          0.0"
      ]
     },
     "execution_count": 407,
     "metadata": {},
     "output_type": "execute_result"
    },
    {
     "data": {
      "image/png": "[encoded data removed]",
      "text/plain": [
       "<Figure size 2000x700 with 1 Axes>"
      ]
     },
     "metadata": {},
     "output_type": "display_data"
    }
   ],
   "source": [
    "graf_num_nan(dfp)"
   ]
  },
  {
   "attachments": {},
   "cell_type": "markdown",
   "metadata": {},
   "source": [
    "## renombramiento de columnas"
   ]
  },
  {
   "cell_type": "code",
   "execution_count": 408,
   "metadata": {},
   "outputs": [],
   "source": [
    "cols = {'trans. publico cercano': 'trasn. publico',\n",
    "        'cocina integral' : 'cocina', 'bano auxiliar':'bano aux',\n",
    "        'zona de lavanderia' : 'zona lavanderia' , 'supermercados / c.comerciales': 'supermercado o cc',\n",
    "        'nombre municipio': 'municipio', 'nombre departamento':'departamento',\n",
    "        'tipo: municipio / isla / area no municipalizada':'tipo vivienda'}\n",
    "dfp = dfp.rename(columns=cols)"
   ]
  },
  {
   "cell_type": "code",
   "execution_count": 409,
   "metadata": {},
   "outputs": [
    {
     "data": {
      "text/plain": [
       "Index(['tipo', 'url', 'titulo', 'precio', 'area', 'habitaciones', 'banos',\n",
       "       'garajes', 'descripcion', 'balcon', 'trasn. publico', 'estrato',\n",
       "       'antiguedad', 'cocina', 'bano aux', 'zona lavanderia', 'zonas verdes',\n",
       "       'supermercado o cc', 'instalacion de gas', 'parqueadero visitantes',\n",
       "       'colegios / universidades', 'parques cercanos', 'zona residencial',\n",
       "       'closet', 'municipio', 'tipo_propiedad'],\n",
       "      dtype='object')"
      ]
     },
     "execution_count": 409,
     "metadata": {},
     "output_type": "execute_result"
    }
   ],
   "source": [
    "dfp.columns"
   ]
  },
  {
   "attachments": {},
   "cell_type": "markdown",
   "metadata": {},
   "source": [
    "# deteccion de valores atipicos"
   ]
  },
  {
   "cell_type": "code",
   "execution_count": 410,
   "metadata": {},
   "outputs": [
    {
     "name": "stdout",
     "output_type": "stream",
     "text": [
      "valor inicial de fials antes de limpieza de valores atipicos 2587\n"
     ]
    }
   ],
   "source": [
    "print(f'valor inicial de fials antes de limpieza de valores atipicos {dfp.shape[0]}')"
   ]
  },
  {
   "attachments": {},
   "cell_type": "markdown",
   "metadata": {},
   "source": [
    "## filtrado de datos"
   ]
  },
  {
   "attachments": {},
   "cell_type": "markdown",
   "metadata": {},
   "source": [
    "incialmente se eliminaran los precios que esten superiores a  2.500'000.000 (dos mil quinientos millones)"
   ]
  },
  {
   "cell_type": "code",
   "execution_count": 411,
   "metadata": {},
   "outputs": [
    {
     "data": {
      "text/plain": [
       "(2587, 26)"
      ]
     },
     "execution_count": 411,
     "metadata": {},
     "output_type": "execute_result"
    }
   ],
   "source": [
    "# dfp = dfp[dfp['precio']<2500000000]\n",
    "dfp.shape"
   ]
  },
  {
   "attachments": {},
   "cell_type": "markdown",
   "metadata": {},
   "source": [
    "## busqueda valores atipicos"
   ]
  },
  {
   "attachments": {},
   "cell_type": "markdown",
   "metadata": {},
   "source": [
    "se buscaran valores atipicos con el fin de tratarlos para que no afecte modelos sensibles a estos valores\n"
   ]
  },
  {
   "cell_type": "code",
   "execution_count": 412,
   "metadata": {},
   "outputs": [
    {
     "data": {
      "text/plain": [
       "count      2587.000000\n",
       "mean       1007.141763\n",
       "std        4374.368083\n",
       "min          17.500000\n",
       "25%         320.000000\n",
       "50%         500.000000\n",
       "75%        1150.000000\n",
       "max      215000.000000\n",
       "Name: precio, dtype: float64"
      ]
     },
     "execution_count": 412,
     "metadata": {},
     "output_type": "execute_result"
    }
   ],
   "source": [
    "# se divide entre 1'000.000 para facilitar lectura\n",
    "(dfp['precio']/1000000).describe()"
   ]
  },
  {
   "attachments": {},
   "cell_type": "markdown",
   "metadata": {},
   "source": [
    "z-score: El z-score es una medida estadística que indica cuántas desviaciones estándar se encuentra un valor de la media. Los valores con un z-score superior a 3 o inferior a -3 se consideran atípicos. Es muy util si los datos siguen una distribucion normal, como este no es el caso se usara otro tipo de buscador de atipicos"
   ]
  },
  {
   "cell_type": "code",
   "execution_count": 413,
   "metadata": {},
   "outputs": [
    {
     "name": "stdout",
     "output_type": "stream",
     "text": [
      "Estadístico de prueba = 7953.281818903822\n",
      "Valor p = 0.0\n",
      "Rechazamos la hipótesis nula, los datos NO siguen una distribución normal.\n"
     ]
    }
   ],
   "source": [
    "from scipy.stats import normaltest\n",
    "\n",
    "stat, p = normaltest(dfp['precio'])\n",
    "\n",
    "# Imprimir los resultados del test\n",
    "print(\"Estadístico de prueba =\", stat)\n",
    "print(\"Valor p =\", p)\n",
    "\n",
    "# Interpretación del resultado del test\n",
    "alpha = 0.05\n",
    "if p < alpha:\n",
    "    print(\"Rechazamos la hipótesis nula, los datos NO siguen una distribución normal.\")\n",
    "else:\n",
    "    print(\"No podemos rechazar la hipótesis nula, los datos siguen una distribución normal.\")\n"
   ]
  },
  {
   "attachments": {},
   "cell_type": "markdown",
   "metadata": {},
   "source": [
    "### Pasos para la deteccion de valores atipicos:\n",
    "\n",
    "1. Identificar las variables con posibles valores atipicos\n",
    "2. Identificar el rango intercuartil\n",
    "3. Identificar los limites superior e inferior\n",
    "4. Identificar los valors atipicos mediante metodos como:\n",
    "    1. Analisis de visualizacion\n",
    "    2. Metodos estadisticos\n",
    "    3. Metodos de aprendizaje automatico\n",
    "5. decision de valores atipicos"
   ]
  },
  {
   "attachments": {},
   "cell_type": "markdown",
   "metadata": {},
   "source": [
    "1. Identificar las variables ocn posibles valores atipicos\n",
    "\n",
    "En nuestro caso solo tendremos dos variables las cuales seran precio y el area"
   ]
  },
  {
   "cell_type": "code",
   "execution_count": 414,
   "metadata": {},
   "outputs": [],
   "source": [
    "coloutliers = ['precio','area']"
   ]
  },
  {
   "attachments": {},
   "cell_type": "markdown",
   "metadata": {},
   "source": [
    "2. Identificar el rango intercuartil"
   ]
  },
  {
   "cell_type": "code",
   "execution_count": 415,
   "metadata": {},
   "outputs": [
    {
     "name": "stdout",
     "output_type": "stream",
     "text": [
      "El rango intercuartil del area es: 14000.0\n"
     ]
    }
   ],
   "source": [
    "Q1a = np.percentile(dfp['area'],25)\n",
    "Q3a = np.percentile(dfp['area'],75)\n",
    "IQRa = Q3a-Q1a\n",
    "print(f'El rango intercuartil del area es: {IQRa}')"
   ]
  },
  {
   "cell_type": "code",
   "execution_count": 416,
   "metadata": {},
   "outputs": [
    {
     "name": "stdout",
     "output_type": "stream",
     "text": [
      "El rango intercuartil del precio es: 830000000.0\n"
     ]
    }
   ],
   "source": [
    "Q1p = np.percentile(dfp['precio'],25)\n",
    "Q3p = np.percentile(dfp['precio'],75)\n",
    "IQRp = Q3p-Q1p\n",
    "print(f'El rango intercuartil del precio es: {IQRp}')"
   ]
  },
  {
   "attachments": {},
   "cell_type": "markdown",
   "metadata": {},
   "source": [
    "3. Identifiar los limites superiores e inferiores"
   ]
  },
  {
   "cell_type": "code",
   "execution_count": 417,
   "metadata": {},
   "outputs": [
    {
     "name": "stdout",
     "output_type": "stream",
     "text": [
      "El limite inferior del precio es : 925000000.0 y el superior es : 2395000000.0\n"
     ]
    }
   ],
   "source": [
    "limsupP = Q3p + 1.5 * IQRp\n",
    "liminfP = Q1p - 1.5* IQRp\n",
    "print(f'El limite inferior del precio es : {-liminfP} y el superior es : {limsupP}')"
   ]
  },
  {
   "cell_type": "code",
   "execution_count": 418,
   "metadata": {},
   "outputs": [
    {
     "name": "stdout",
     "output_type": "stream",
     "text": [
      "El limite inferior del area es : 15500.0 y el superior es : 40500.0\n"
     ]
    }
   ],
   "source": [
    "limsupA = Q3a + 1.5 * IQRa\n",
    "liminfA = Q1a - 1.5* IQRa\n",
    "print(f'El limite inferior del area es : {-liminfA} y el superior es : {limsupA}')"
   ]
  },
  {
   "attachments": {},
   "cell_type": "markdown",
   "metadata": {},
   "source": [
    "4. Identificar valores atipicos "
   ]
  },
  {
   "attachments": {},
   "cell_type": "markdown",
   "metadata": {},
   "source": [
    "4.1. Analisis visual"
   ]
  },
  {
   "cell_type": "code",
   "execution_count": 419,
   "metadata": {},
   "outputs": [],
   "source": [
    "def grafout(df):\n",
    "    fig, ax = plt.subplots(ncols=2,figsize=(10,3))\n",
    "    sns.kdeplot(df, shade=True, ax=ax[0]);\n",
    "    sns.boxplot(df, orient='h', ax=ax[1]);"
   ]
  },
  {
   "cell_type": "code",
   "execution_count": 420,
   "metadata": {},
   "outputs": [],
   "source": [
    "data = ['precio','area']"
   ]
  },
  {
   "cell_type": "code",
   "execution_count": 421,
   "metadata": {},
   "outputs": [
    {
     "name": "stderr",
     "output_type": "stream",
     "text": [
      "c:\\Users\\Juan Guzman\\anaconda3\\lib\\site-packages\\seaborn\\_decorators.py:36: FutureWarning: Pass the following variable as a keyword arg: x. From version 0.12, the only valid positional argument will be `data`, and passing other arguments without an explicit keyword will result in an error or misinterpretation.\n",
      "  warnings.warn(\n",
      "c:\\Users\\Juan Guzman\\anaconda3\\lib\\site-packages\\seaborn\\_decorators.py:36: FutureWarning: Pass the following variable as a keyword arg: x. From version 0.12, the only valid positional argument will be `data`, and passing other arguments without an explicit keyword will result in an error or misinterpretation.\n",
      "  warnings.warn(\n"
     ]
    },
    {
     "data": {
      "image/png": "[encoded data removed]",
      "text/plain": [
       "<Figure size 1000x300 with 2 Axes>"
      ]
     },
     "metadata": {},
     "output_type": "display_data"
    },
    {
     "data": {
      "image/png": "[encoded data removed]",
      "text/plain": [
       "<Figure size 1000x300 with 2 Axes>"
      ]
     },
     "metadata": {},
     "output_type": "display_data"
    }
   ],
   "source": [
    "for i in data:\n",
    "    grafout(dfp[i])"
   ]
  },
  {
   "attachments": {},
   "cell_type": "markdown",
   "metadata": {},
   "source": [
    "a cimple vista observamos claramente dos valores atipicos que podemos eliminar de maenra visual"
   ]
  },
  {
   "cell_type": "code",
   "execution_count": 422,
   "metadata": {},
   "outputs": [
    {
     "data": {
      "text/plain": [
       "count      2587.000000\n",
       "mean       1007.141763\n",
       "std        4374.368083\n",
       "min          17.500000\n",
       "25%         320.000000\n",
       "50%         500.000000\n",
       "75%        1150.000000\n",
       "max      215000.000000\n",
       "Name: precio, dtype: float64"
      ]
     },
     "execution_count": 422,
     "metadata": {},
     "output_type": "execute_result"
    }
   ],
   "source": [
    "(dfp.precio/1000000).describe()"
   ]
  },
  {
   "cell_type": "code",
   "execution_count": 423,
   "metadata": {},
   "outputs": [],
   "source": [
    "dfp= dfp[dfp['area'] <= 100000]\n",
    "dfp=dfp[dfp[\"precio\"]<=2500000000]"
   ]
  },
  {
   "cell_type": "code",
   "execution_count": 424,
   "metadata": {},
   "outputs": [
    {
     "name": "stderr",
     "output_type": "stream",
     "text": [
      "c:\\Users\\Juan Guzman\\anaconda3\\lib\\site-packages\\seaborn\\_decorators.py:36: FutureWarning: Pass the following variable as a keyword arg: x. From version 0.12, the only valid positional argument will be `data`, and passing other arguments without an explicit keyword will result in an error or misinterpretation.\n",
      "  warnings.warn(\n",
      "c:\\Users\\Juan Guzman\\anaconda3\\lib\\site-packages\\seaborn\\_decorators.py:36: FutureWarning: Pass the following variable as a keyword arg: x. From version 0.12, the only valid positional argument will be `data`, and passing other arguments without an explicit keyword will result in an error or misinterpretation.\n",
      "  warnings.warn(\n"
     ]
    },
    {
     "data": {
      "image/png": "[encoded data removed]",
      "text/plain": [
       "<Figure size 1000x300 with 2 Axes>"
      ]
     },
     "metadata": {},
     "output_type": "display_data"
    },
    {
     "data": {
      "image/png": "[encoded data removed]",
      "text/plain": [
       "<Figure size 1000x300 with 2 Axes>"
      ]
     },
     "metadata": {},
     "output_type": "display_data"
    }
   ],
   "source": [
    "for i in data:\n",
    "    grafout(dfp[i])"
   ]
  },
  {
   "attachments": {},
   "cell_type": "markdown",
   "metadata": {},
   "source": [
    "4.3 •\tMétodos de aprendizaje automático: Utiliza algoritmos de detección de anomalías como el algoritmo de One-Class SVM (encontrar una función de decisión que defina una región que contenga la mayoría de los datos y separe la región de los datos anómalos.) o el algoritmo de DBSCAN (los puntos cercanos entre sí forman grupos, mientras que los puntos aislados son ruidosos o atípicos) para detectar valores atípicos\n",
    "\n"
   ]
  },
  {
   "cell_type": "code",
   "execution_count": 425,
   "metadata": {},
   "outputs": [],
   "source": [
    "from sklearn.svm import OneClassSVM\n",
    "\n",
    "# Crear una instancia de OneClassSVM con los parámetros deseados\n",
    "clf = OneClassSVM(kernel='rbf', nu=0.05)\n",
    "\n",
    "# Entrenar el modelo con los datos de las columnas seleccionadas\n",
    "clf.fit(dfp[data])\n",
    "\n",
    "# Predecir los valores de las columnas seleccionadas como inliers o outliers\n",
    "outlier_prediction = clf.predict(dfp[data])\n",
    "\n",
    "# Agregar la columna de predicción al DataFrame original\n",
    "dfp['outlier_prediction'] = outlier_prediction\n"
   ]
  },
  {
   "cell_type": "code",
   "execution_count": 426,
   "metadata": {},
   "outputs": [
    {
     "data": {
      "text/plain": [
       " 1    2274\n",
       "-1     124\n",
       "Name: outlier_prediction, dtype: int64"
      ]
     },
     "execution_count": 426,
     "metadata": {},
     "output_type": "execute_result"
    }
   ],
   "source": [
    "dfp['outlier_prediction'].value_counts()"
   ]
  },
  {
   "attachments": {},
   "cell_type": "markdown",
   "metadata": {},
   "source": [
    "5. el predictor para la columna precio y area encontro 124 valores atipicos, por lo que procederemos a eliminarlos"
   ]
  },
  {
   "cell_type": "code",
   "execution_count": 433,
   "metadata": {},
   "outputs": [],
   "source": [
    "outlier_indices = dfp[dfp['outlier_prediction'] == -1].index\n",
    "\n",
    "# Eliminar las filas con valores atípicos\n",
    "dfp.drop(outlier_indices, inplace=True)\n",
    "# eliminar columna outlier_prediction\n",
    "dfp.drop('outlier_prediction', axis=1, inplace=True)\n"
   ]
  },
  {
   "attachments": {},
   "cell_type": "markdown",
   "metadata": {},
   "source": [
    "A continuacion observaremos la grafica d elos datos para verificar"
   ]
  },
  {
   "cell_type": "code",
   "execution_count": 428,
   "metadata": {},
   "outputs": [
    {
     "name": "stderr",
     "output_type": "stream",
     "text": [
      "c:\\Users\\Juan Guzman\\anaconda3\\lib\\site-packages\\seaborn\\_decorators.py:36: FutureWarning: Pass the following variable as a keyword arg: x. From version 0.12, the only valid positional argument will be `data`, and passing other arguments without an explicit keyword will result in an error or misinterpretation.\n",
      "  warnings.warn(\n",
      "c:\\Users\\Juan Guzman\\anaconda3\\lib\\site-packages\\seaborn\\_decorators.py:36: FutureWarning: Pass the following variable as a keyword arg: x. From version 0.12, the only valid positional argument will be `data`, and passing other arguments without an explicit keyword will result in an error or misinterpretation.\n",
      "  warnings.warn(\n"
     ]
    },
    {
     "data": {
      "image/png": "[encoded data removed]",
      "text/plain": [
       "<Figure size 1000x300 with 2 Axes>"
      ]
     },
     "metadata": {},
     "output_type": "display_data"
    },
    {
     "data": {
      "image/png": "[encoded data removed]",
      "text/plain": [
       "<Figure size 1000x300 with 2 Axes>"
      ]
     },
     "metadata": {},
     "output_type": "display_data"
    }
   ],
   "source": [
    "for i in data:\n",
    "    grafout(dfp[i])"
   ]
  },
  {
   "cell_type": "code",
   "execution_count": 434,
   "metadata": {},
   "outputs": [
    {
     "data": {
      "text/plain": [
       "(2274, 26)"
      ]
     },
     "execution_count": 434,
     "metadata": {},
     "output_type": "execute_result"
    }
   ],
   "source": [
    "dfp.shape"
   ]
  },
  {
   "attachments": {},
   "cell_type": "markdown",
   "metadata": {},
   "source": [
    "Ahora tenemos el df listo para analisis"
   ]
  },
  {
   "attachments": {},
   "cell_type": "markdown",
   "metadata": {},
   "source": [
    "## creacion dataframe de analisis"
   ]
  },
  {
   "cell_type": "code",
   "execution_count": 435,
   "metadata": {},
   "outputs": [
    {
     "data": {
      "text/plain": [
       "Index(['tipo', 'url', 'titulo', 'precio', 'area', 'habitaciones', 'banos',\n",
       "       'garajes', 'descripcion', 'balcon', 'trasn. publico', 'estrato',\n",
       "       'antiguedad', 'cocina', 'bano aux', 'zona lavanderia', 'zonas verdes',\n",
       "       'supermercado o cc', 'instalacion de gas', 'parqueadero visitantes',\n",
       "       'colegios / universidades', 'parques cercanos', 'zona residencial',\n",
       "       'closet', 'municipio', 'tipo_propiedad'],\n",
       "      dtype='object')"
      ]
     },
     "execution_count": 435,
     "metadata": {},
     "output_type": "execute_result"
    }
   ],
   "source": [
    "dfp.columns"
   ]
  },
  {
   "cell_type": "code",
   "execution_count": 437,
   "metadata": {},
   "outputs": [],
   "source": [
    "nocols = ['tipo','url','titulo','descripcion']\n",
    "dfdef = [col for col in dfp.columns if col not in nocols]\n",
    "df = dfp[dfdef]"
   ]
  },
  {
   "cell_type": "code",
   "execution_count": 438,
   "metadata": {},
   "outputs": [
    {
     "data": {
      "text/plain": [
       "Index(['precio', 'area', 'habitaciones', 'banos', 'garajes', 'balcon',\n",
       "       'trasn. publico', 'estrato', 'antiguedad', 'cocina', 'bano aux',\n",
       "       'zona lavanderia', 'zonas verdes', 'supermercado o cc',\n",
       "       'instalacion de gas', 'parqueadero visitantes',\n",
       "       'colegios / universidades', 'parques cercanos', 'zona residencial',\n",
       "       'closet', 'municipio', 'tipo_propiedad'],\n",
       "      dtype='object')"
      ]
     },
     "execution_count": 438,
     "metadata": {},
     "output_type": "execute_result"
    }
   ],
   "source": [
    "df.columns"
   ]
  },
  {
   "attachments": {},
   "cell_type": "markdown",
   "metadata": {},
   "source": [
    "## exportacion de datos\n",
    "\n",
    "Ejecutar en caso de que no se tengan"
   ]
  },
  {
   "cell_type": "code",
   "execution_count": null,
   "metadata": {},
   "outputs": [],
   "source": [
    "df.to_csv('dfanalisis', index=False)"
   ]
  },
  {
   "cell_type": "code",
   "execution_count": 205,
   "metadata": {},
   "outputs": [],
   "source": [
    "dfp.to_csv('dfclean', index=False)"
   ]
  }
 ],
 "metadata": {
  "kernelspec": {
   "display_name": "base",
   "language": "python",
   "name": "python3"
  },
  "language_info": {
   "codemirror_mode": {
    "name": "ipython",
    "version": 3
   },
   "file_extension": ".py",
   "mimetype": "text/x-python",
   "name": "python",
   "nbconvert_exporter": "python",
   "pygments_lexer": "ipython3",
   "version": "3.9.13"
  },
  "orig_nbformat": 4
 },
 "nbformat": 4,
 "nbformat_minor": 2
}
