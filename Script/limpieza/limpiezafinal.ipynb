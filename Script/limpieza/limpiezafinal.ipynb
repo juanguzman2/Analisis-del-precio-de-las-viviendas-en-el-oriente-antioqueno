{
 "cells": [
  {
   "cell_type": "code",
   "execution_count": 1,
   "metadata": {},
   "outputs": [],
   "source": [
    "import matplotlib.pyplot as plt\n",
    "import numpy as np\n",
    "import pandas as pd\n",
    "import seaborn as sns\n",
    "from unidecode import unidecode\n",
    "import re\n"
   ]
  },
  {
   "attachments": {},
   "cell_type": "markdown",
   "metadata": {},
   "source": [
    "# datos"
   ]
  },
  {
   "cell_type": "code",
   "execution_count": 2,
   "metadata": {},
   "outputs": [],
   "source": [
    "# !git clone git@github.com:juanguzman2/Precio-de-viviendas-en-colmbia.git"
   ]
  },
  {
   "cell_type": "code",
   "execution_count": 3,
   "metadata": {},
   "outputs": [
    {
     "data": {
      "text/html": [
       "<div>\n",
       "<style scoped>\n",
       "    .dataframe tbody tr th:only-of-type {\n",
       "        vertical-align: middle;\n",
       "    }\n",
       "\n",
       "    .dataframe tbody tr th {\n",
       "        vertical-align: top;\n",
       "    }\n",
       "\n",
       "    .dataframe thead th {\n",
       "        text-align: right;\n",
       "    }\n",
       "</style>\n",
       "<table border=\"1\" class=\"dataframe\">\n",
       "  <thead>\n",
       "    <tr style=\"text-align: right;\">\n",
       "      <th></th>\n",
       "      <th>tipo</th>\n",
       "      <th>url</th>\n",
       "      <th>titulo</th>\n",
       "      <th>precio</th>\n",
       "      <th>area</th>\n",
       "      <th>habitaciones</th>\n",
       "      <th>banos</th>\n",
       "      <th>garajes</th>\n",
       "      <th>descripcion</th>\n",
       "      <th>Balcón</th>\n",
       "      <th>...</th>\n",
       "      <th>Parqueadero Visitantes</th>\n",
       "      <th>Colegios / Universidades</th>\n",
       "      <th>Parques cercanos</th>\n",
       "      <th>Zona Residencial</th>\n",
       "      <th>Closet</th>\n",
       "      <th>Nombre Municipio</th>\n",
       "      <th>Código Departamento</th>\n",
       "      <th>Código Municipio</th>\n",
       "      <th>Nombre Departamento</th>\n",
       "      <th>Tipo: Municipio / Isla / Área no municipalizada</th>\n",
       "    </tr>\n",
       "  </thead>\n",
       "  <tbody>\n",
       "    <tr>\n",
       "      <th>0</th>\n",
       "      <td>Usada</td>\n",
       "      <td>https://www.fincaraiz.com.co/casa-campestre-en...</td>\n",
       "      <td>Casa Campestre en Venta Rionegro Vereda Guayabito</td>\n",
       "      <td>$ 1.380.000.000</td>\n",
       "      <td>320,00 m²</td>\n",
       "      <td>5</td>\n",
       "      <td>6</td>\n",
       "      <td>2</td>\n",
       "      <td>Propiedad moderna con muy buenos acabados. Her...</td>\n",
       "      <td>1.0</td>\n",
       "      <td>...</td>\n",
       "      <td>NaN</td>\n",
       "      <td>NaN</td>\n",
       "      <td>NaN</td>\n",
       "      <td>NaN</td>\n",
       "      <td>NaN</td>\n",
       "      <td>RIONEGRO</td>\n",
       "      <td>5</td>\n",
       "      <td>5615.0</td>\n",
       "      <td>ANTIOQUIA</td>\n",
       "      <td>Municipio</td>\n",
       "    </tr>\n",
       "  </tbody>\n",
       "</table>\n",
       "<p>1 rows × 29 columns</p>\n",
       "</div>"
      ],
      "text/plain": [
       "    tipo                                                url  \\\n",
       "0  Usada  https://www.fincaraiz.com.co/casa-campestre-en...   \n",
       "\n",
       "                                              titulo           precio  \\\n",
       "0  Casa Campestre en Venta Rionegro Vereda Guayabito  $ 1.380.000.000   \n",
       "\n",
       "        area habitaciones banos garajes  \\\n",
       "0  320,00 m²            5     6       2   \n",
       "\n",
       "                                         descripcion  Balcón  ...  \\\n",
       "0  Propiedad moderna con muy buenos acabados. Her...     1.0  ...   \n",
       "\n",
       "   Parqueadero Visitantes Colegios / Universidades Parques cercanos  \\\n",
       "0                     NaN                      NaN              NaN   \n",
       "\n",
       "   Zona Residencial  Closet  Nombre Municipio  Código Departamento  \\\n",
       "0               NaN     NaN          RIONEGRO                    5   \n",
       "\n",
       "   Código Municipio  Nombre Departamento  \\\n",
       "0            5615.0            ANTIOQUIA   \n",
       "\n",
       "   Tipo: Municipio / Isla / Área no municipalizada  \n",
       "0                                        Municipio  \n",
       "\n",
       "[1 rows x 29 columns]"
      ]
     },
     "execution_count": 3,
     "metadata": {},
     "output_type": "execute_result"
    }
   ],
   "source": [
    "dfp=pd.read_csv(r'C:\\Users\\Juan Guzman\\pviviendas\\Data\\dfmerged')\n",
    "dfp.head(1)"
   ]
  },
  {
   "attachments": {},
   "cell_type": "markdown",
   "metadata": {},
   "source": [
    "# Limpieza de los Nan "
   ]
  },
  {
   "cell_type": "code",
   "execution_count": 4,
   "metadata": {},
   "outputs": [],
   "source": [
    "def graf_num_nan(df):\n",
    "        dfNan = df.isnull().pipe( # ejecutar varias operaciones en el DataFrame, \"pipe\" que se encarga de pasar la salida de una función como entrada de la siguiente\n",
    "                lambda df: (\n",
    "                            df.sum() # Suma el número de valores faltantes en cada columna del DataFrame\n",
    "                            .reset_index(name=\"numero_Nan\") # Reinicia el índice del DataFrame resultante y se le asigna nombre\n",
    "                            .rename(columns={'index':'variable'}) # se cambia el nombre de index a variable\n",
    "                            .assign ( # agrega columnas al df\n",
    "                                    observaciones = len(df), # numero total de registros en el df original\n",
    "                                    pct_missing = lambda df1 : df1.numero_Nan / df1.observaciones * 100, # porcentaje Nan en cada variable\n",
    "                                    )\n",
    "                            )\n",
    "\n",
    "                    )\n",
    "        plt.figure(figsize=(20,7))\n",
    "        dfgnan = dfNan.sort_values('numero_Nan') # almacenar el resumen del nan de las variables en el df dfgnan\n",
    "        plot_range = range(1, len(dfgnan.index) + 1) # establece la posicion de cada variable en el grafico\n",
    "        plt.hlines(y=plot_range, xmin=0, xmax=dfgnan.numero_Nan, colors='gray') # traza lineas horizontales en el grafico\n",
    "        plt.plot(dfgnan.numero_Nan, plot_range, \"o\", color='black') # pone \"o\" en el eje x\n",
    "        # plt.yticks(plot_range, dfgnan.variable) #  etiquetar los puntos en el eje y con los nombres de las variables\n",
    "        plt.grid(axis=\"y\") # agregar un gráfico de cuadrícula en el eje y\n",
    "        plt.xlabel(\"numero de Nan\")\n",
    "        plt.ylabel(\"Variable en orden ascendente en razon al numero de Nan\")\n",
    "\n",
    "\n",
    "        return dfNan"
   ]
  },
  {
   "cell_type": "code",
   "execution_count": 5,
   "metadata": {},
   "outputs": [
    {
     "data": {
      "text/html": [
       "<div>\n",
       "<style scoped>\n",
       "    .dataframe tbody tr th:only-of-type {\n",
       "        vertical-align: middle;\n",
       "    }\n",
       "\n",
       "    .dataframe tbody tr th {\n",
       "        vertical-align: top;\n",
       "    }\n",
       "\n",
       "    .dataframe thead th {\n",
       "        text-align: right;\n",
       "    }\n",
       "</style>\n",
       "<table border=\"1\" class=\"dataframe\">\n",
       "  <thead>\n",
       "    <tr style=\"text-align: right;\">\n",
       "      <th></th>\n",
       "      <th>variable</th>\n",
       "      <th>numero_Nan</th>\n",
       "      <th>observaciones</th>\n",
       "      <th>pct_missing</th>\n",
       "    </tr>\n",
       "  </thead>\n",
       "  <tbody>\n",
       "    <tr>\n",
       "      <th>0</th>\n",
       "      <td>tipo</td>\n",
       "      <td>0</td>\n",
       "      <td>2150</td>\n",
       "      <td>0.000000</td>\n",
       "    </tr>\n",
       "    <tr>\n",
       "      <th>1</th>\n",
       "      <td>url</td>\n",
       "      <td>0</td>\n",
       "      <td>2150</td>\n",
       "      <td>0.000000</td>\n",
       "    </tr>\n",
       "    <tr>\n",
       "      <th>2</th>\n",
       "      <td>titulo</td>\n",
       "      <td>0</td>\n",
       "      <td>2150</td>\n",
       "      <td>0.000000</td>\n",
       "    </tr>\n",
       "    <tr>\n",
       "      <th>3</th>\n",
       "      <td>precio</td>\n",
       "      <td>0</td>\n",
       "      <td>2150</td>\n",
       "      <td>0.000000</td>\n",
       "    </tr>\n",
       "    <tr>\n",
       "      <th>4</th>\n",
       "      <td>area</td>\n",
       "      <td>0</td>\n",
       "      <td>2150</td>\n",
       "      <td>0.000000</td>\n",
       "    </tr>\n",
       "    <tr>\n",
       "      <th>5</th>\n",
       "      <td>habitaciones</td>\n",
       "      <td>0</td>\n",
       "      <td>2150</td>\n",
       "      <td>0.000000</td>\n",
       "    </tr>\n",
       "    <tr>\n",
       "      <th>6</th>\n",
       "      <td>banos</td>\n",
       "      <td>0</td>\n",
       "      <td>2150</td>\n",
       "      <td>0.000000</td>\n",
       "    </tr>\n",
       "    <tr>\n",
       "      <th>7</th>\n",
       "      <td>garajes</td>\n",
       "      <td>0</td>\n",
       "      <td>2150</td>\n",
       "      <td>0.000000</td>\n",
       "    </tr>\n",
       "    <tr>\n",
       "      <th>8</th>\n",
       "      <td>descripcion</td>\n",
       "      <td>0</td>\n",
       "      <td>2150</td>\n",
       "      <td>0.000000</td>\n",
       "    </tr>\n",
       "    <tr>\n",
       "      <th>9</th>\n",
       "      <td>Balcón</td>\n",
       "      <td>1056</td>\n",
       "      <td>2150</td>\n",
       "      <td>49.116279</td>\n",
       "    </tr>\n",
       "    <tr>\n",
       "      <th>10</th>\n",
       "      <td>Trans. Público cercano</td>\n",
       "      <td>898</td>\n",
       "      <td>2150</td>\n",
       "      <td>41.767442</td>\n",
       "    </tr>\n",
       "    <tr>\n",
       "      <th>11</th>\n",
       "      <td>estrato</td>\n",
       "      <td>73</td>\n",
       "      <td>2150</td>\n",
       "      <td>3.395349</td>\n",
       "    </tr>\n",
       "    <tr>\n",
       "      <th>12</th>\n",
       "      <td>antiguedad</td>\n",
       "      <td>419</td>\n",
       "      <td>2150</td>\n",
       "      <td>19.488372</td>\n",
       "    </tr>\n",
       "    <tr>\n",
       "      <th>13</th>\n",
       "      <td>Cocina Integral</td>\n",
       "      <td>721</td>\n",
       "      <td>2150</td>\n",
       "      <td>33.534884</td>\n",
       "    </tr>\n",
       "    <tr>\n",
       "      <th>14</th>\n",
       "      <td>Baño Auxiliar</td>\n",
       "      <td>1207</td>\n",
       "      <td>2150</td>\n",
       "      <td>56.139535</td>\n",
       "    </tr>\n",
       "    <tr>\n",
       "      <th>15</th>\n",
       "      <td>Zona de lavandería</td>\n",
       "      <td>1046</td>\n",
       "      <td>2150</td>\n",
       "      <td>48.651163</td>\n",
       "    </tr>\n",
       "    <tr>\n",
       "      <th>16</th>\n",
       "      <td>Zonas Verdes</td>\n",
       "      <td>1188</td>\n",
       "      <td>2150</td>\n",
       "      <td>55.255814</td>\n",
       "    </tr>\n",
       "    <tr>\n",
       "      <th>17</th>\n",
       "      <td>Supermercados / C.Comerciales</td>\n",
       "      <td>1355</td>\n",
       "      <td>2150</td>\n",
       "      <td>63.023256</td>\n",
       "    </tr>\n",
       "    <tr>\n",
       "      <th>18</th>\n",
       "      <td>Instalación de gas</td>\n",
       "      <td>1292</td>\n",
       "      <td>2150</td>\n",
       "      <td>60.093023</td>\n",
       "    </tr>\n",
       "    <tr>\n",
       "      <th>19</th>\n",
       "      <td>Parqueadero Visitantes</td>\n",
       "      <td>1452</td>\n",
       "      <td>2150</td>\n",
       "      <td>67.534884</td>\n",
       "    </tr>\n",
       "    <tr>\n",
       "      <th>20</th>\n",
       "      <td>Colegios / Universidades</td>\n",
       "      <td>1390</td>\n",
       "      <td>2150</td>\n",
       "      <td>64.651163</td>\n",
       "    </tr>\n",
       "    <tr>\n",
       "      <th>21</th>\n",
       "      <td>Parques cercanos</td>\n",
       "      <td>1257</td>\n",
       "      <td>2150</td>\n",
       "      <td>58.465116</td>\n",
       "    </tr>\n",
       "    <tr>\n",
       "      <th>22</th>\n",
       "      <td>Zona Residencial</td>\n",
       "      <td>1085</td>\n",
       "      <td>2150</td>\n",
       "      <td>50.465116</td>\n",
       "    </tr>\n",
       "    <tr>\n",
       "      <th>23</th>\n",
       "      <td>Closet</td>\n",
       "      <td>1372</td>\n",
       "      <td>2150</td>\n",
       "      <td>63.813953</td>\n",
       "    </tr>\n",
       "    <tr>\n",
       "      <th>24</th>\n",
       "      <td>Nombre Municipio</td>\n",
       "      <td>0</td>\n",
       "      <td>2150</td>\n",
       "      <td>0.000000</td>\n",
       "    </tr>\n",
       "    <tr>\n",
       "      <th>25</th>\n",
       "      <td>Código Departamento</td>\n",
       "      <td>0</td>\n",
       "      <td>2150</td>\n",
       "      <td>0.000000</td>\n",
       "    </tr>\n",
       "    <tr>\n",
       "      <th>26</th>\n",
       "      <td>Código Municipio</td>\n",
       "      <td>0</td>\n",
       "      <td>2150</td>\n",
       "      <td>0.000000</td>\n",
       "    </tr>\n",
       "    <tr>\n",
       "      <th>27</th>\n",
       "      <td>Nombre Departamento</td>\n",
       "      <td>0</td>\n",
       "      <td>2150</td>\n",
       "      <td>0.000000</td>\n",
       "    </tr>\n",
       "    <tr>\n",
       "      <th>28</th>\n",
       "      <td>Tipo: Municipio / Isla / Área no municipalizada</td>\n",
       "      <td>0</td>\n",
       "      <td>2150</td>\n",
       "      <td>0.000000</td>\n",
       "    </tr>\n",
       "  </tbody>\n",
       "</table>\n",
       "</div>"
      ],
      "text/plain": [
       "                                           variable  numero_Nan  \\\n",
       "0                                              tipo           0   \n",
       "1                                               url           0   \n",
       "2                                            titulo           0   \n",
       "3                                            precio           0   \n",
       "4                                              area           0   \n",
       "5                                      habitaciones           0   \n",
       "6                                             banos           0   \n",
       "7                                           garajes           0   \n",
       "8                                       descripcion           0   \n",
       "9                                            Balcón        1056   \n",
       "10                           Trans. Público cercano         898   \n",
       "11                                          estrato          73   \n",
       "12                                       antiguedad         419   \n",
       "13                                  Cocina Integral         721   \n",
       "14                                    Baño Auxiliar        1207   \n",
       "15                               Zona de lavandería        1046   \n",
       "16                                     Zonas Verdes        1188   \n",
       "17                    Supermercados / C.Comerciales        1355   \n",
       "18                               Instalación de gas        1292   \n",
       "19                           Parqueadero Visitantes        1452   \n",
       "20                         Colegios / Universidades        1390   \n",
       "21                                 Parques cercanos        1257   \n",
       "22                                 Zona Residencial        1085   \n",
       "23                                           Closet        1372   \n",
       "24                                 Nombre Municipio           0   \n",
       "25                              Código Departamento           0   \n",
       "26                                 Código Municipio           0   \n",
       "27                              Nombre Departamento           0   \n",
       "28  Tipo: Municipio / Isla / Área no municipalizada           0   \n",
       "\n",
       "    observaciones  pct_missing  \n",
       "0            2150     0.000000  \n",
       "1            2150     0.000000  \n",
       "2            2150     0.000000  \n",
       "3            2150     0.000000  \n",
       "4            2150     0.000000  \n",
       "5            2150     0.000000  \n",
       "6            2150     0.000000  \n",
       "7            2150     0.000000  \n",
       "8            2150     0.000000  \n",
       "9            2150    49.116279  \n",
       "10           2150    41.767442  \n",
       "11           2150     3.395349  \n",
       "12           2150    19.488372  \n",
       "13           2150    33.534884  \n",
       "14           2150    56.139535  \n",
       "15           2150    48.651163  \n",
       "16           2150    55.255814  \n",
       "17           2150    63.023256  \n",
       "18           2150    60.093023  \n",
       "19           2150    67.534884  \n",
       "20           2150    64.651163  \n",
       "21           2150    58.465116  \n",
       "22           2150    50.465116  \n",
       "23           2150    63.813953  \n",
       "24           2150     0.000000  \n",
       "25           2150     0.000000  \n",
       "26           2150     0.000000  \n",
       "27           2150     0.000000  \n",
       "28           2150     0.000000  "
      ]
     },
     "execution_count": 5,
     "metadata": {},
     "output_type": "execute_result"
    },
    {
     "data": {
      "image/png": "[encoded data removed]",
      "text/plain": [
       "<Figure size 2000x700 with 1 Axes>"
      ]
     },
     "metadata": {},
     "output_type": "display_data"
    }
   ],
   "source": [
    "graf_num_nan(dfp)\n"
   ]
  },
  {
   "attachments": {},
   "cell_type": "markdown",
   "metadata": {},
   "source": [
    "Para todas las columnas excepto \n",
    "estrato y antiguedad se reemplazaran por 0"
   ]
  },
  {
   "cell_type": "code",
   "execution_count": 6,
   "metadata": {},
   "outputs": [],
   "source": [
    "exclude_cols = ['antiguedad', 'estrato']\n",
    "\n",
    "# reemplazar los valores NaN en las columnas no seleccionadas\n",
    "cols_to_replace = dfp.columns[~dfp.columns.isin(exclude_cols)]\n",
    "dfp[cols_to_replace] = dfp[cols_to_replace].fillna(0)"
   ]
  },
  {
   "cell_type": "code",
   "execution_count": 7,
   "metadata": {},
   "outputs": [
    {
     "data": {
      "text/html": [
       "<div>\n",
       "<style scoped>\n",
       "    .dataframe tbody tr th:only-of-type {\n",
       "        vertical-align: middle;\n",
       "    }\n",
       "\n",
       "    .dataframe tbody tr th {\n",
       "        vertical-align: top;\n",
       "    }\n",
       "\n",
       "    .dataframe thead th {\n",
       "        text-align: right;\n",
       "    }\n",
       "</style>\n",
       "<table border=\"1\" class=\"dataframe\">\n",
       "  <thead>\n",
       "    <tr style=\"text-align: right;\">\n",
       "      <th></th>\n",
       "      <th>variable</th>\n",
       "      <th>numero_Nan</th>\n",
       "      <th>observaciones</th>\n",
       "      <th>pct_missing</th>\n",
       "    </tr>\n",
       "  </thead>\n",
       "  <tbody>\n",
       "    <tr>\n",
       "      <th>0</th>\n",
       "      <td>tipo</td>\n",
       "      <td>0</td>\n",
       "      <td>2150</td>\n",
       "      <td>0.000000</td>\n",
       "    </tr>\n",
       "    <tr>\n",
       "      <th>1</th>\n",
       "      <td>url</td>\n",
       "      <td>0</td>\n",
       "      <td>2150</td>\n",
       "      <td>0.000000</td>\n",
       "    </tr>\n",
       "    <tr>\n",
       "      <th>2</th>\n",
       "      <td>titulo</td>\n",
       "      <td>0</td>\n",
       "      <td>2150</td>\n",
       "      <td>0.000000</td>\n",
       "    </tr>\n",
       "    <tr>\n",
       "      <th>3</th>\n",
       "      <td>precio</td>\n",
       "      <td>0</td>\n",
       "      <td>2150</td>\n",
       "      <td>0.000000</td>\n",
       "    </tr>\n",
       "    <tr>\n",
       "      <th>4</th>\n",
       "      <td>area</td>\n",
       "      <td>0</td>\n",
       "      <td>2150</td>\n",
       "      <td>0.000000</td>\n",
       "    </tr>\n",
       "    <tr>\n",
       "      <th>5</th>\n",
       "      <td>habitaciones</td>\n",
       "      <td>0</td>\n",
       "      <td>2150</td>\n",
       "      <td>0.000000</td>\n",
       "    </tr>\n",
       "    <tr>\n",
       "      <th>6</th>\n",
       "      <td>banos</td>\n",
       "      <td>0</td>\n",
       "      <td>2150</td>\n",
       "      <td>0.000000</td>\n",
       "    </tr>\n",
       "    <tr>\n",
       "      <th>7</th>\n",
       "      <td>garajes</td>\n",
       "      <td>0</td>\n",
       "      <td>2150</td>\n",
       "      <td>0.000000</td>\n",
       "    </tr>\n",
       "    <tr>\n",
       "      <th>8</th>\n",
       "      <td>descripcion</td>\n",
       "      <td>0</td>\n",
       "      <td>2150</td>\n",
       "      <td>0.000000</td>\n",
       "    </tr>\n",
       "    <tr>\n",
       "      <th>9</th>\n",
       "      <td>Balcón</td>\n",
       "      <td>0</td>\n",
       "      <td>2150</td>\n",
       "      <td>0.000000</td>\n",
       "    </tr>\n",
       "    <tr>\n",
       "      <th>10</th>\n",
       "      <td>Trans. Público cercano</td>\n",
       "      <td>0</td>\n",
       "      <td>2150</td>\n",
       "      <td>0.000000</td>\n",
       "    </tr>\n",
       "    <tr>\n",
       "      <th>11</th>\n",
       "      <td>estrato</td>\n",
       "      <td>73</td>\n",
       "      <td>2150</td>\n",
       "      <td>3.395349</td>\n",
       "    </tr>\n",
       "    <tr>\n",
       "      <th>12</th>\n",
       "      <td>antiguedad</td>\n",
       "      <td>419</td>\n",
       "      <td>2150</td>\n",
       "      <td>19.488372</td>\n",
       "    </tr>\n",
       "    <tr>\n",
       "      <th>13</th>\n",
       "      <td>Cocina Integral</td>\n",
       "      <td>0</td>\n",
       "      <td>2150</td>\n",
       "      <td>0.000000</td>\n",
       "    </tr>\n",
       "    <tr>\n",
       "      <th>14</th>\n",
       "      <td>Baño Auxiliar</td>\n",
       "      <td>0</td>\n",
       "      <td>2150</td>\n",
       "      <td>0.000000</td>\n",
       "    </tr>\n",
       "    <tr>\n",
       "      <th>15</th>\n",
       "      <td>Zona de lavandería</td>\n",
       "      <td>0</td>\n",
       "      <td>2150</td>\n",
       "      <td>0.000000</td>\n",
       "    </tr>\n",
       "    <tr>\n",
       "      <th>16</th>\n",
       "      <td>Zonas Verdes</td>\n",
       "      <td>0</td>\n",
       "      <td>2150</td>\n",
       "      <td>0.000000</td>\n",
       "    </tr>\n",
       "    <tr>\n",
       "      <th>17</th>\n",
       "      <td>Supermercados / C.Comerciales</td>\n",
       "      <td>0</td>\n",
       "      <td>2150</td>\n",
       "      <td>0.000000</td>\n",
       "    </tr>\n",
       "    <tr>\n",
       "      <th>18</th>\n",
       "      <td>Instalación de gas</td>\n",
       "      <td>0</td>\n",
       "      <td>2150</td>\n",
       "      <td>0.000000</td>\n",
       "    </tr>\n",
       "    <tr>\n",
       "      <th>19</th>\n",
       "      <td>Parqueadero Visitantes</td>\n",
       "      <td>0</td>\n",
       "      <td>2150</td>\n",
       "      <td>0.000000</td>\n",
       "    </tr>\n",
       "    <tr>\n",
       "      <th>20</th>\n",
       "      <td>Colegios / Universidades</td>\n",
       "      <td>0</td>\n",
       "      <td>2150</td>\n",
       "      <td>0.000000</td>\n",
       "    </tr>\n",
       "    <tr>\n",
       "      <th>21</th>\n",
       "      <td>Parques cercanos</td>\n",
       "      <td>0</td>\n",
       "      <td>2150</td>\n",
       "      <td>0.000000</td>\n",
       "    </tr>\n",
       "    <tr>\n",
       "      <th>22</th>\n",
       "      <td>Zona Residencial</td>\n",
       "      <td>0</td>\n",
       "      <td>2150</td>\n",
       "      <td>0.000000</td>\n",
       "    </tr>\n",
       "    <tr>\n",
       "      <th>23</th>\n",
       "      <td>Closet</td>\n",
       "      <td>0</td>\n",
       "      <td>2150</td>\n",
       "      <td>0.000000</td>\n",
       "    </tr>\n",
       "    <tr>\n",
       "      <th>24</th>\n",
       "      <td>Nombre Municipio</td>\n",
       "      <td>0</td>\n",
       "      <td>2150</td>\n",
       "      <td>0.000000</td>\n",
       "    </tr>\n",
       "    <tr>\n",
       "      <th>25</th>\n",
       "      <td>Código Departamento</td>\n",
       "      <td>0</td>\n",
       "      <td>2150</td>\n",
       "      <td>0.000000</td>\n",
       "    </tr>\n",
       "    <tr>\n",
       "      <th>26</th>\n",
       "      <td>Código Municipio</td>\n",
       "      <td>0</td>\n",
       "      <td>2150</td>\n",
       "      <td>0.000000</td>\n",
       "    </tr>\n",
       "    <tr>\n",
       "      <th>27</th>\n",
       "      <td>Nombre Departamento</td>\n",
       "      <td>0</td>\n",
       "      <td>2150</td>\n",
       "      <td>0.000000</td>\n",
       "    </tr>\n",
       "    <tr>\n",
       "      <th>28</th>\n",
       "      <td>Tipo: Municipio / Isla / Área no municipalizada</td>\n",
       "      <td>0</td>\n",
       "      <td>2150</td>\n",
       "      <td>0.000000</td>\n",
       "    </tr>\n",
       "  </tbody>\n",
       "</table>\n",
       "</div>"
      ],
      "text/plain": [
       "                                           variable  numero_Nan  \\\n",
       "0                                              tipo           0   \n",
       "1                                               url           0   \n",
       "2                                            titulo           0   \n",
       "3                                            precio           0   \n",
       "4                                              area           0   \n",
       "5                                      habitaciones           0   \n",
       "6                                             banos           0   \n",
       "7                                           garajes           0   \n",
       "8                                       descripcion           0   \n",
       "9                                            Balcón           0   \n",
       "10                           Trans. Público cercano           0   \n",
       "11                                          estrato          73   \n",
       "12                                       antiguedad         419   \n",
       "13                                  Cocina Integral           0   \n",
       "14                                    Baño Auxiliar           0   \n",
       "15                               Zona de lavandería           0   \n",
       "16                                     Zonas Verdes           0   \n",
       "17                    Supermercados / C.Comerciales           0   \n",
       "18                               Instalación de gas           0   \n",
       "19                           Parqueadero Visitantes           0   \n",
       "20                         Colegios / Universidades           0   \n",
       "21                                 Parques cercanos           0   \n",
       "22                                 Zona Residencial           0   \n",
       "23                                           Closet           0   \n",
       "24                                 Nombre Municipio           0   \n",
       "25                              Código Departamento           0   \n",
       "26                                 Código Municipio           0   \n",
       "27                              Nombre Departamento           0   \n",
       "28  Tipo: Municipio / Isla / Área no municipalizada           0   \n",
       "\n",
       "    observaciones  pct_missing  \n",
       "0            2150     0.000000  \n",
       "1            2150     0.000000  \n",
       "2            2150     0.000000  \n",
       "3            2150     0.000000  \n",
       "4            2150     0.000000  \n",
       "5            2150     0.000000  \n",
       "6            2150     0.000000  \n",
       "7            2150     0.000000  \n",
       "8            2150     0.000000  \n",
       "9            2150     0.000000  \n",
       "10           2150     0.000000  \n",
       "11           2150     3.395349  \n",
       "12           2150    19.488372  \n",
       "13           2150     0.000000  \n",
       "14           2150     0.000000  \n",
       "15           2150     0.000000  \n",
       "16           2150     0.000000  \n",
       "17           2150     0.000000  \n",
       "18           2150     0.000000  \n",
       "19           2150     0.000000  \n",
       "20           2150     0.000000  \n",
       "21           2150     0.000000  \n",
       "22           2150     0.000000  \n",
       "23           2150     0.000000  \n",
       "24           2150     0.000000  \n",
       "25           2150     0.000000  \n",
       "26           2150     0.000000  \n",
       "27           2150     0.000000  \n",
       "28           2150     0.000000  "
      ]
     },
     "execution_count": 7,
     "metadata": {},
     "output_type": "execute_result"
    },
    {
     "data": {
      "image/png": "[encoded data removed]",
      "text/plain": [
       "<Figure size 2000x700 with 1 Axes>"
      ]
     },
     "metadata": {},
     "output_type": "display_data"
    }
   ],
   "source": [
    "graf_num_nan(dfp)"
   ]
  },
  {
   "attachments": {},
   "cell_type": "markdown",
   "metadata": {},
   "source": [
    "# renombre de columnas"
   ]
  },
  {
   "cell_type": "code",
   "execution_count": 8,
   "metadata": {},
   "outputs": [],
   "source": [
    "dfp.columns=dfp.columns.map(str.lower)"
   ]
  },
  {
   "cell_type": "code",
   "execution_count": 9,
   "metadata": {},
   "outputs": [],
   "source": [
    "dfp.columns = [unidecode(i) for i in dfp.columns]"
   ]
  },
  {
   "cell_type": "code",
   "execution_count": 10,
   "metadata": {},
   "outputs": [
    {
     "data": {
      "text/plain": [
       "Index(['tipo', 'url', 'titulo', 'precio', 'area', 'habitaciones', 'banos',\n",
       "       'garajes', 'descripcion', 'balcon', 'trans. publico cercano', 'estrato',\n",
       "       'antiguedad', 'cocina integral', 'bano auxiliar', 'zona de lavanderia',\n",
       "       'zonas verdes', 'supermercados / c.comerciales', 'instalacion de gas',\n",
       "       'parqueadero visitantes', 'colegios / universidades',\n",
       "       'parques cercanos', 'zona residencial', 'closet', 'nombre municipio',\n",
       "       'codigo departamento', 'codigo municipio', 'nombre departamento',\n",
       "       'tipo: municipio / isla / area no municipalizada'],\n",
       "      dtype='object')"
      ]
     },
     "execution_count": 10,
     "metadata": {},
     "output_type": "execute_result"
    }
   ],
   "source": [
    "dfp.columns"
   ]
  },
  {
   "cell_type": "code",
   "execution_count": 11,
   "metadata": {},
   "outputs": [
    {
     "data": {
      "text/html": [
       "<div>\n",
       "<style scoped>\n",
       "    .dataframe tbody tr th:only-of-type {\n",
       "        vertical-align: middle;\n",
       "    }\n",
       "\n",
       "    .dataframe tbody tr th {\n",
       "        vertical-align: top;\n",
       "    }\n",
       "\n",
       "    .dataframe thead th {\n",
       "        text-align: right;\n",
       "    }\n",
       "</style>\n",
       "<table border=\"1\" class=\"dataframe\">\n",
       "  <thead>\n",
       "    <tr style=\"text-align: right;\">\n",
       "      <th></th>\n",
       "      <th>tipo</th>\n",
       "      <th>url</th>\n",
       "      <th>titulo</th>\n",
       "      <th>precio</th>\n",
       "      <th>area</th>\n",
       "      <th>habitaciones</th>\n",
       "      <th>banos</th>\n",
       "      <th>garajes</th>\n",
       "      <th>descripcion</th>\n",
       "      <th>balcon</th>\n",
       "      <th>...</th>\n",
       "      <th>parqueadero visitantes</th>\n",
       "      <th>colegios / universidades</th>\n",
       "      <th>parques cercanos</th>\n",
       "      <th>zona residencial</th>\n",
       "      <th>closet</th>\n",
       "      <th>nombre municipio</th>\n",
       "      <th>codigo departamento</th>\n",
       "      <th>codigo municipio</th>\n",
       "      <th>nombre departamento</th>\n",
       "      <th>tipo: municipio / isla / area no municipalizada</th>\n",
       "    </tr>\n",
       "  </thead>\n",
       "  <tbody>\n",
       "    <tr>\n",
       "      <th>0</th>\n",
       "      <td>Usada</td>\n",
       "      <td>https://www.fincaraiz.com.co/casa-campestre-en...</td>\n",
       "      <td>Casa Campestre en Venta Rionegro Vereda Guayabito</td>\n",
       "      <td>$ 1.380.000.000</td>\n",
       "      <td>320,00 m²</td>\n",
       "      <td>5</td>\n",
       "      <td>6</td>\n",
       "      <td>2</td>\n",
       "      <td>Propiedad moderna con muy buenos acabados. Her...</td>\n",
       "      <td>1.0</td>\n",
       "      <td>...</td>\n",
       "      <td>0.0</td>\n",
       "      <td>0.0</td>\n",
       "      <td>0.0</td>\n",
       "      <td>0.0</td>\n",
       "      <td>0.0</td>\n",
       "      <td>RIONEGRO</td>\n",
       "      <td>5</td>\n",
       "      <td>5615.0</td>\n",
       "      <td>ANTIOQUIA</td>\n",
       "      <td>Municipio</td>\n",
       "    </tr>\n",
       "    <tr>\n",
       "      <th>1</th>\n",
       "      <td>Nueva</td>\n",
       "      <td>https://www.fincaraiz.com.co/vivari-de-san-nic...</td>\n",
       "      <td>VIVARI DE SAN NICOLAS San Nicolás - Rionegro</td>\n",
       "      <td>$ 496.122.600</td>\n",
       "      <td>91,97 m2</td>\n",
       "      <td>3</td>\n",
       "      <td>3</td>\n",
       "      <td>1</td>\n",
       "      <td>6234794 Vivari San Nicolás, es un conjunto res...</td>\n",
       "      <td>1.0</td>\n",
       "      <td>...</td>\n",
       "      <td>0.0</td>\n",
       "      <td>0.0</td>\n",
       "      <td>0.0</td>\n",
       "      <td>0.0</td>\n",
       "      <td>0.0</td>\n",
       "      <td>RIONEGRO</td>\n",
       "      <td>5</td>\n",
       "      <td>5615.0</td>\n",
       "      <td>ANTIOQUIA</td>\n",
       "      <td>Municipio</td>\n",
       "    </tr>\n",
       "    <tr>\n",
       "      <th>2</th>\n",
       "      <td>Nueva</td>\n",
       "      <td>https://www.fincaraiz.com.co/altos-de-santana/...</td>\n",
       "      <td>ALTOS DE SANTANA Oriente Antioqueño - Rionegro</td>\n",
       "      <td>$ 360.002.000</td>\n",
       "      <td>73,37 m2</td>\n",
       "      <td>3</td>\n",
       "      <td>3</td>\n",
       "      <td>Sin especificar</td>\n",
       "      <td>6351568 Proyecto de apartamentos de 2 y 3 habi...</td>\n",
       "      <td>0.0</td>\n",
       "      <td>...</td>\n",
       "      <td>0.0</td>\n",
       "      <td>1.0</td>\n",
       "      <td>0.0</td>\n",
       "      <td>0.0</td>\n",
       "      <td>0.0</td>\n",
       "      <td>RIONEGRO</td>\n",
       "      <td>5</td>\n",
       "      <td>5615.0</td>\n",
       "      <td>ANTIOQUIA</td>\n",
       "      <td>Municipio</td>\n",
       "    </tr>\n",
       "    <tr>\n",
       "      <th>3</th>\n",
       "      <td>Usada</td>\n",
       "      <td>https://www.fincaraiz.com.co/casa-en-venta/rio...</td>\n",
       "      <td>Casa en Venta Rionegro Llano Grande</td>\n",
       "      <td>$ 1.350.000.000</td>\n",
       "      <td>282,00 m²</td>\n",
       "      <td>4</td>\n",
       "      <td>5</td>\n",
       "      <td>4</td>\n",
       "      <td>Casa en  venta en exclusiva unidad cerrada en ...</td>\n",
       "      <td>1.0</td>\n",
       "      <td>...</td>\n",
       "      <td>0.0</td>\n",
       "      <td>1.0</td>\n",
       "      <td>0.0</td>\n",
       "      <td>1.0</td>\n",
       "      <td>1.0</td>\n",
       "      <td>RIONEGRO</td>\n",
       "      <td>5</td>\n",
       "      <td>5615.0</td>\n",
       "      <td>ANTIOQUIA</td>\n",
       "      <td>Municipio</td>\n",
       "    </tr>\n",
       "    <tr>\n",
       "      <th>4</th>\n",
       "      <td>Usada</td>\n",
       "      <td>https://www.fincaraiz.com.co/casa-en-venta/rio...</td>\n",
       "      <td>Casa en Venta Rionegro El Porvenir</td>\n",
       "      <td>$ 950.000.000</td>\n",
       "      <td>230,00 m²</td>\n",
       "      <td>3</td>\n",
       "      <td>3</td>\n",
       "      <td>2</td>\n",
       "      <td>Hermosa casa de 3 niveles en Venta en Lotus Ex...</td>\n",
       "      <td>0.0</td>\n",
       "      <td>...</td>\n",
       "      <td>0.0</td>\n",
       "      <td>0.0</td>\n",
       "      <td>0.0</td>\n",
       "      <td>0.0</td>\n",
       "      <td>0.0</td>\n",
       "      <td>RIONEGRO</td>\n",
       "      <td>5</td>\n",
       "      <td>5615.0</td>\n",
       "      <td>ANTIOQUIA</td>\n",
       "      <td>Municipio</td>\n",
       "    </tr>\n",
       "  </tbody>\n",
       "</table>\n",
       "<p>5 rows × 29 columns</p>\n",
       "</div>"
      ],
      "text/plain": [
       "    tipo                                                url  \\\n",
       "0  Usada  https://www.fincaraiz.com.co/casa-campestre-en...   \n",
       "1  Nueva  https://www.fincaraiz.com.co/vivari-de-san-nic...   \n",
       "2  Nueva  https://www.fincaraiz.com.co/altos-de-santana/...   \n",
       "3  Usada  https://www.fincaraiz.com.co/casa-en-venta/rio...   \n",
       "4  Usada  https://www.fincaraiz.com.co/casa-en-venta/rio...   \n",
       "\n",
       "                                              titulo           precio  \\\n",
       "0  Casa Campestre en Venta Rionegro Vereda Guayabito  $ 1.380.000.000   \n",
       "1       VIVARI DE SAN NICOLAS San Nicolás - Rionegro    $ 496.122.600   \n",
       "2     ALTOS DE SANTANA Oriente Antioqueño - Rionegro    $ 360.002.000   \n",
       "3                Casa en Venta Rionegro Llano Grande  $ 1.350.000.000   \n",
       "4                 Casa en Venta Rionegro El Porvenir    $ 950.000.000   \n",
       "\n",
       "        area habitaciones banos          garajes  \\\n",
       "0  320,00 m²            5     6                2   \n",
       "1   91,97 m2            3     3                1   \n",
       "2   73,37 m2            3     3  Sin especificar   \n",
       "3  282,00 m²            4     5                4   \n",
       "4  230,00 m²            3     3                2   \n",
       "\n",
       "                                         descripcion  balcon  ...  \\\n",
       "0  Propiedad moderna con muy buenos acabados. Her...     1.0  ...   \n",
       "1  6234794 Vivari San Nicolás, es un conjunto res...     1.0  ...   \n",
       "2  6351568 Proyecto de apartamentos de 2 y 3 habi...     0.0  ...   \n",
       "3  Casa en  venta en exclusiva unidad cerrada en ...     1.0  ...   \n",
       "4  Hermosa casa de 3 niveles en Venta en Lotus Ex...     0.0  ...   \n",
       "\n",
       "   parqueadero visitantes colegios / universidades parques cercanos  \\\n",
       "0                     0.0                      0.0              0.0   \n",
       "1                     0.0                      0.0              0.0   \n",
       "2                     0.0                      1.0              0.0   \n",
       "3                     0.0                      1.0              0.0   \n",
       "4                     0.0                      0.0              0.0   \n",
       "\n",
       "   zona residencial  closet  nombre municipio  codigo departamento  \\\n",
       "0               0.0     0.0          RIONEGRO                    5   \n",
       "1               0.0     0.0          RIONEGRO                    5   \n",
       "2               0.0     0.0          RIONEGRO                    5   \n",
       "3               1.0     1.0          RIONEGRO                    5   \n",
       "4               0.0     0.0          RIONEGRO                    5   \n",
       "\n",
       "   codigo municipio  nombre departamento  \\\n",
       "0            5615.0            ANTIOQUIA   \n",
       "1            5615.0            ANTIOQUIA   \n",
       "2            5615.0            ANTIOQUIA   \n",
       "3            5615.0            ANTIOQUIA   \n",
       "4            5615.0            ANTIOQUIA   \n",
       "\n",
       "   tipo: municipio / isla / area no municipalizada  \n",
       "0                                        Municipio  \n",
       "1                                        Municipio  \n",
       "2                                        Municipio  \n",
       "3                                        Municipio  \n",
       "4                                        Municipio  \n",
       "\n",
       "[5 rows x 29 columns]"
      ]
     },
     "execution_count": 11,
     "metadata": {},
     "output_type": "execute_result"
    }
   ],
   "source": [
    "dfp.head()"
   ]
  },
  {
   "cell_type": "code",
   "execution_count": 12,
   "metadata": {},
   "outputs": [
    {
     "name": "stdout",
     "output_type": "stream",
     "text": [
      "<class 'pandas.core.frame.DataFrame'>\n",
      "RangeIndex: 2150 entries, 0 to 2149\n",
      "Data columns (total 29 columns):\n",
      " #   Column                                           Non-Null Count  Dtype  \n",
      "---  ------                                           --------------  -----  \n",
      " 0   tipo                                             2150 non-null   object \n",
      " 1   url                                              2150 non-null   object \n",
      " 2   titulo                                           2150 non-null   object \n",
      " 3   precio                                           2150 non-null   object \n",
      " 4   area                                             2150 non-null   object \n",
      " 5   habitaciones                                     2150 non-null   object \n",
      " 6   banos                                            2150 non-null   object \n",
      " 7   garajes                                          2150 non-null   object \n",
      " 8   descripcion                                      2150 non-null   object \n",
      " 9   balcon                                           2150 non-null   float64\n",
      " 10  trans. publico cercano                           2150 non-null   float64\n",
      " 11  estrato                                          2077 non-null   object \n",
      " 12  antiguedad                                       1731 non-null   object \n",
      " 13  cocina integral                                  2150 non-null   float64\n",
      " 14  bano auxiliar                                    2150 non-null   float64\n",
      " 15  zona de lavanderia                               2150 non-null   float64\n",
      " 16  zonas verdes                                     2150 non-null   float64\n",
      " 17  supermercados / c.comerciales                    2150 non-null   float64\n",
      " 18  instalacion de gas                               2150 non-null   float64\n",
      " 19  parqueadero visitantes                           2150 non-null   float64\n",
      " 20  colegios / universidades                         2150 non-null   float64\n",
      " 21  parques cercanos                                 2150 non-null   float64\n",
      " 22  zona residencial                                 2150 non-null   float64\n",
      " 23  closet                                           2150 non-null   float64\n",
      " 24  nombre municipio                                 2150 non-null   object \n",
      " 25  codigo departamento                              2150 non-null   int64  \n",
      " 26  codigo municipio                                 2150 non-null   float64\n",
      " 27  nombre departamento                              2150 non-null   object \n",
      " 28  tipo: municipio / isla / area no municipalizada  2150 non-null   object \n",
      "dtypes: float64(14), int64(1), object(14)\n",
      "memory usage: 487.2+ KB\n"
     ]
    }
   ],
   "source": [
    "dfp.info()"
   ]
  },
  {
   "attachments": {},
   "cell_type": "markdown",
   "metadata": {},
   "source": [
    "# se procede a relizar reorganizacion de varibales\n"
   ]
  },
  {
   "attachments": {},
   "cell_type": "markdown",
   "metadata": {},
   "source": [
    "Se cambiaran los tipos de variables y detalles"
   ]
  },
  {
   "attachments": {},
   "cell_type": "markdown",
   "metadata": {},
   "source": [
    "para la variables tipo que comprende entre usada y nueva se pasara a numero en dode usada es 0 y nueva es 1"
   ]
  },
  {
   "cell_type": "code",
   "execution_count": 13,
   "metadata": {},
   "outputs": [
    {
     "data": {
      "text/plain": [
       "array([0, 1], dtype=int64)"
      ]
     },
     "execution_count": 13,
     "metadata": {},
     "output_type": "execute_result"
    }
   ],
   "source": [
    "dfp['tipo'] = dfp['tipo'].apply(lambda x: 0 if x == 'Usada' else 1)\n",
    "dfp['tipo'].unique()"
   ]
  },
  {
   "attachments": {},
   "cell_type": "markdown",
   "metadata": {},
   "source": [
    "a la variable precio se le quitara el simbolo y se pasara a numero"
   ]
  },
  {
   "cell_type": "code",
   "execution_count": 14,
   "metadata": {},
   "outputs": [
    {
     "data": {
      "text/plain": [
       "0       $ 1.380.000.000\n",
       "1         $ 496.122.600\n",
       "2         $ 360.002.000\n",
       "3       $ 1.350.000.000\n",
       "4         $ 950.000.000\n",
       "             ...       \n",
       "2145      $ 130.000.000\n",
       "2146    $ 6.480.000.000\n",
       "2147      $ 180.000.000\n",
       "2148    $ 1.200.000.000\n",
       "2149    $ 1.800.000.000\n",
       "Name: precio, Length: 2150, dtype: object"
      ]
     },
     "execution_count": 14,
     "metadata": {},
     "output_type": "execute_result"
    }
   ],
   "source": [
    "dfp['precio']"
   ]
  },
  {
   "cell_type": "code",
   "execution_count": 15,
   "metadata": {},
   "outputs": [
    {
     "data": {
      "text/plain": [
       "0       1380000000\n",
       "1        496122600\n",
       "2        360002000\n",
       "3       1350000000\n",
       "4        950000000\n",
       "           ...    \n",
       "2145     130000000\n",
       "2146    6480000000\n",
       "2147     180000000\n",
       "2148    1200000000\n",
       "2149    1800000000\n",
       "Name: precio, Length: 2150, dtype: int64"
      ]
     },
     "execution_count": 15,
     "metadata": {},
     "output_type": "execute_result"
    }
   ],
   "source": [
    "dfp['precio'] = dfp['precio'].apply(lambda x: int(x.replace('$', '').replace(' ', '').replace('.', '')))\n",
    "dfp['precio']"
   ]
  },
  {
   "attachments": {},
   "cell_type": "markdown",
   "metadata": {},
   "source": [
    "para la columna area se eliminaran las que estan en hectareas las cuales son 143 y se pasaran los valores de una cadena a flotante"
   ]
  },
  {
   "cell_type": "code",
   "execution_count": 16,
   "metadata": {},
   "outputs": [
    {
     "data": {
      "text/plain": [
       "m     2053\n",
       "Ha      97\n",
       "Name: medida, dtype: int64"
      ]
     },
     "execution_count": 16,
     "metadata": {},
     "output_type": "execute_result"
    }
   ],
   "source": [
    "dfp['medida'] = dfp['area'].apply(lambda x: re.findall('[a-zA-Z]+', x)[0])\n",
    "dfp['medida'].value_counts()"
   ]
  },
  {
   "cell_type": "code",
   "execution_count": 17,
   "metadata": {},
   "outputs": [
    {
     "data": {
      "text/plain": [
       "(2053, 30)"
      ]
     },
     "execution_count": 17,
     "metadata": {},
     "output_type": "execute_result"
    }
   ],
   "source": [
    "dfp = dfp[~dfp['area'].str.contains('Ha|hA|HA')]\n",
    "dfp.shape"
   ]
  },
  {
   "cell_type": "code",
   "execution_count": 18,
   "metadata": {},
   "outputs": [
    {
     "data": {
      "text/plain": [
       "m    2053\n",
       "Name: medida, dtype: int64"
      ]
     },
     "execution_count": 18,
     "metadata": {},
     "output_type": "execute_result"
    }
   ],
   "source": [
    "dfp['medida'] = dfp['area'].apply(lambda x: re.findall('[a-zA-Z]+', x)[0])\n",
    "dfp['medida'].value_counts()"
   ]
  },
  {
   "cell_type": "code",
   "execution_count": 19,
   "metadata": {},
   "outputs": [],
   "source": [
    "dfp.drop('medida',axis=1,inplace=True)"
   ]
  },
  {
   "cell_type": "code",
   "execution_count": 20,
   "metadata": {},
   "outputs": [
    {
     "data": {
      "text/plain": [
       "0       32000.0\n",
       "1       91972.0\n",
       "2       73372.0\n",
       "3       28200.0\n",
       "4       23000.0\n",
       "         ...   \n",
       "2143     8500.0\n",
       "2144    16200.0\n",
       "2145     5600.0\n",
       "2147     6000.0\n",
       "2148    50000.0\n",
       "Name: area, Length: 2053, dtype: float64"
      ]
     },
     "execution_count": 20,
     "metadata": {},
     "output_type": "execute_result"
    }
   ],
   "source": [
    "dfp['area'] = dfp['area'].apply(lambda x: re.sub('[^\\d\\.]', '', x)).astype(float)\n",
    "dfp['area']"
   ]
  },
  {
   "cell_type": "code",
   "execution_count": 21,
   "metadata": {},
   "outputs": [
    {
     "data": {
      "text/plain": [
       "array(['5', '3', '4', '2', '---', '1', '7', '6', '12', 'Sin especificar',\n",
       "       '8', '14', '20', '10', '9', '21'], dtype=object)"
      ]
     },
     "execution_count": 21,
     "metadata": {},
     "output_type": "execute_result"
    }
   ],
   "source": [
    "dfp.habitaciones.unique()"
   ]
  },
  {
   "cell_type": "code",
   "execution_count": 22,
   "metadata": {},
   "outputs": [
    {
     "data": {
      "text/plain": [
       "0       5.0\n",
       "1       3.0\n",
       "2       3.0\n",
       "3       4.0\n",
       "4       3.0\n",
       "       ... \n",
       "2143    4.0\n",
       "2144    4.0\n",
       "2145    3.0\n",
       "2147    2.0\n",
       "2148    4.0\n",
       "Name: habitaciones, Length: 2053, dtype: float64"
      ]
     },
     "execution_count": 22,
     "metadata": {},
     "output_type": "execute_result"
    }
   ],
   "source": [
    "dfp['habitaciones'] = dfp['habitaciones'].apply(lambda x: re.sub('[^\\d]', '', str(x)))\n",
    "dfp['habitaciones'] = pd.to_numeric(dfp['habitaciones'], errors='coerce') # errors='coerce'  para que cualquier valor que no se pueda convertir se reemplace con NaN.\n",
    "dfp['habitaciones'] = dfp['habitaciones'].fillna(0)\n",
    "dfp['habitaciones']"
   ]
  },
  {
   "cell_type": "code",
   "execution_count": 23,
   "metadata": {},
   "outputs": [
    {
     "data": {
      "text/plain": [
       "0       6.0\n",
       "1       3.0\n",
       "2       3.0\n",
       "3       5.0\n",
       "4       3.0\n",
       "       ... \n",
       "2143    2.0\n",
       "2144    3.0\n",
       "2145    2.0\n",
       "2147    1.0\n",
       "2148    0.0\n",
       "Name: banos, Length: 2053, dtype: float64"
      ]
     },
     "execution_count": 23,
     "metadata": {},
     "output_type": "execute_result"
    }
   ],
   "source": [
    "dfp['banos'] = dfp['banos'].apply(lambda x: re.sub('[^\\d]', '', str(x)))\n",
    "dfp['banos'] = pd.to_numeric(dfp['banos'], errors='coerce') # errors='coerce'  para que cualquier valor que no se pueda convertir se reemplace con NaN.\n",
    "dfp['banos'] = dfp['banos'].fillna(0)\n",
    "dfp['banos']"
   ]
  },
  {
   "attachments": {},
   "cell_type": "markdown",
   "metadata": {},
   "source": [
    "en el caso de los garajes hay algunos que tienne ams de 10, para estos les colocaremos como 11 ya que hay zoans con 10"
   ]
  },
  {
   "cell_type": "code",
   "execution_count": 24,
   "metadata": {},
   "outputs": [
    {
     "data": {
      "text/plain": [
       "array([ 2,  1,  0,  4,  3,  5,  8,  7, 10,  6, 11,  9], dtype=int64)"
      ]
     },
     "execution_count": 24,
     "metadata": {},
     "output_type": "execute_result"
    }
   ],
   "source": [
    "dfp['garajes'] = dfp['garajes'].apply(lambda x: int(x.replace('Más de 10', '11').replace('Sin especificar', '0')))\n",
    "dfp['garajes'].unique()"
   ]
  },
  {
   "attachments": {},
   "cell_type": "markdown",
   "metadata": {},
   "source": [
    "para el estrato campestre(48) asumiremos que es estrato 3 y para los nan (117) tambien"
   ]
  },
  {
   "cell_type": "code",
   "execution_count": 25,
   "metadata": {},
   "outputs": [
    {
     "data": {
      "text/plain": [
       "(26, 66)"
      ]
     },
     "execution_count": 25,
     "metadata": {},
     "output_type": "execute_result"
    }
   ],
   "source": [
    "(dfp['estrato']=='Campestre').sum() , (dfp['estrato'].isna().sum())"
   ]
  },
  {
   "cell_type": "code",
   "execution_count": 26,
   "metadata": {},
   "outputs": [],
   "source": [
    "dfp['estrato'] = dfp['estrato'].replace('Campestre', '3').astype(float)\n",
    "dfp['estrato'].fillna(3,inplace=True)"
   ]
  },
  {
   "cell_type": "code",
   "execution_count": 27,
   "metadata": {},
   "outputs": [
    {
     "data": {
      "text/plain": [
       "0       5.0\n",
       "1       3.0\n",
       "2       3.0\n",
       "3       6.0\n",
       "4       6.0\n",
       "       ... \n",
       "2143    3.0\n",
       "2144    3.0\n",
       "2145    3.0\n",
       "2147    3.0\n",
       "2148    3.0\n",
       "Name: estrato, Length: 2053, dtype: float64"
      ]
     },
     "execution_count": 27,
     "metadata": {},
     "output_type": "execute_result"
    }
   ],
   "source": [
    "dfp['estrato']"
   ]
  },
  {
   "attachments": {},
   "cell_type": "markdown",
   "metadata": {},
   "source": [
    "para el caso de antiguedad asumiremos que las casas que estan en el mismo estrato tienden a tener los mismo años de antiguedad, por lo tanto se ordenaran por estrato y se aplicara el ffill de fillna , que cambia los nan de acuerdo a los anteriores\n",
    "Adicionalmente a eso se cambiaran los siguientes valores que facilitaran su estudio y tratamiento.\n",
    "\n",
    "* \"Menos de 1 año\": 0\n",
    "* \"1 a 8 años\": 1\n",
    "* \"9 a 15 años\": 2\n",
    "* \"16 a 30 años\": 3\n",
    "* \"Más de 30 años\": 4"
   ]
  },
  {
   "cell_type": "code",
   "execution_count": 28,
   "metadata": {},
   "outputs": [
    {
     "ename": "NameError",
     "evalue": "name 'dfpp' is not defined",
     "output_type": "error",
     "traceback": [
      "\u001b[1;31m---------------------------------------------------------------------------\u001b[0m",
      "\u001b[1;31mNameError\u001b[0m                                 Traceback (most recent call last)",
      "\u001b[1;32m~\\AppData\\Local\\Temp\\ipykernel_4008\\1983108748.py\u001b[0m in \u001b[0;36m<module>\u001b[1;34m\u001b[0m\n\u001b[1;32m----> 1\u001b[1;33m \u001b[0mdfpp\u001b[0m\u001b[1;33m[\u001b[0m\u001b[1;34m'antiguedad'\u001b[0m\u001b[1;33m]\u001b[0m\u001b[1;33m.\u001b[0m\u001b[0munique\u001b[0m\u001b[1;33m(\u001b[0m\u001b[1;33m)\u001b[0m\u001b[1;33m\u001b[0m\u001b[1;33m\u001b[0m\u001b[0m\n\u001b[0m",
      "\u001b[1;31mNameError\u001b[0m: name 'dfpp' is not defined"
     ]
    }
   ],
   "source": [
    "dfpp['antiguedad'].unique()"
   ]
  },
  {
   "cell_type": "code",
   "execution_count": null,
   "metadata": {},
   "outputs": [],
   "source": [
    "dfp['original_index'] = dfp.index # esta columna se crea para volver a poner los datos como estaban\n",
    "dfp = dfp.sort_values('antiguedad')\n",
    "dfp['antiguedad'] = dfp['antiguedad'].fillna(method='ffill')\n",
    "dfp = dfp.sort_values('original_index') # Volver a ordenar por el índice original\n",
    "dfp = dfp.drop('original_index', axis=1)"
   ]
  },
  {
   "cell_type": "code",
   "execution_count": null,
   "metadata": {},
   "outputs": [],
   "source": [
    "cambioano = {\n",
    "    \n",
    "    \"Menos de 1 año\": 0,\n",
    "    \"1 a 8 años\": 1,\n",
    "    \"9 a 15 años\": 2,\n",
    "    \"16 a 30 años\": 3,\n",
    "    \"Más de 30 años\": 4\n",
    "}\n",
    "dfp['antiguedad'] = dfp['antiguedad'].map(cambioano)\n",
    "dfp.fillna(0,inplace=True) # esto es porque ya habia un valor de 0, no afecta en nada "
   ]
  },
  {
   "cell_type": "code",
   "execution_count": null,
   "metadata": {},
   "outputs": [
    {
     "data": {
      "text/plain": [
       "array([1., 0., 4., 3., 2.])"
      ]
     },
     "execution_count": 68,
     "metadata": {},
     "output_type": "execute_result"
    }
   ],
   "source": [
    "dfp['antiguedad'].unique()"
   ]
  },
  {
   "attachments": {},
   "cell_type": "markdown",
   "metadata": {},
   "source": [
    "como resultado nos queda el siguiente dataframe"
   ]
  },
  {
   "cell_type": "code",
   "execution_count": null,
   "metadata": {},
   "outputs": [
    {
     "name": "stdout",
     "output_type": "stream",
     "text": [
      "<class 'pandas.core.frame.DataFrame'>\n",
      "Int64Index: 2053 entries, 0 to 2148\n",
      "Data columns (total 29 columns):\n",
      " #   Column                                           Non-Null Count  Dtype  \n",
      "---  ------                                           --------------  -----  \n",
      " 0   tipo                                             2053 non-null   int64  \n",
      " 1   url                                              2053 non-null   object \n",
      " 2   titulo                                           2053 non-null   object \n",
      " 3   precio                                           2053 non-null   int64  \n",
      " 4   area                                             2053 non-null   float64\n",
      " 5   habitaciones                                     2053 non-null   float64\n",
      " 6   banos                                            2053 non-null   float64\n",
      " 7   garajes                                          2053 non-null   int64  \n",
      " 8   descripcion                                      2053 non-null   object \n",
      " 9   balcon                                           2053 non-null   float64\n",
      " 10  trans. publico cercano                           2053 non-null   float64\n",
      " 11  estrato                                          2053 non-null   float64\n",
      " 12  antiguedad                                       2053 non-null   float64\n",
      " 13  cocina integral                                  2053 non-null   float64\n",
      " 14  bano auxiliar                                    2053 non-null   float64\n",
      " 15  zona de lavanderia                               2053 non-null   float64\n",
      " 16  zonas verdes                                     2053 non-null   float64\n",
      " 17  supermercados / c.comerciales                    2053 non-null   float64\n",
      " 18  instalacion de gas                               2053 non-null   float64\n",
      " 19  parqueadero visitantes                           2053 non-null   float64\n",
      " 20  colegios / universidades                         2053 non-null   float64\n",
      " 21  parques cercanos                                 2053 non-null   float64\n",
      " 22  zona residencial                                 2053 non-null   float64\n",
      " 23  closet                                           2053 non-null   float64\n",
      " 24  nombre municipio                                 2053 non-null   object \n",
      " 25  codigo departamento                              2053 non-null   int64  \n",
      " 26  codigo municipio                                 2053 non-null   float64\n",
      " 27  nombre departamento                              2053 non-null   object \n",
      " 28  tipo: municipio / isla / area no municipalizada  2053 non-null   object \n",
      "dtypes: float64(19), int64(4), object(6)\n",
      "memory usage: 481.2+ KB\n"
     ]
    }
   ],
   "source": [
    "dfp.info()"
   ]
  },
  {
   "cell_type": "code",
   "execution_count": null,
   "metadata": {},
   "outputs": [
    {
     "data": {
      "text/plain": [
       "0"
      ]
     },
     "execution_count": 70,
     "metadata": {},
     "output_type": "execute_result"
    }
   ],
   "source": [
    "dfp.isna().sum().sum() # numero de nan en el dataframe"
   ]
  },
  {
   "cell_type": "code",
   "execution_count": null,
   "metadata": {},
   "outputs": [
    {
     "data": {
      "text/html": [
       "<div>\n",
       "<style scoped>\n",
       "    .dataframe tbody tr th:only-of-type {\n",
       "        vertical-align: middle;\n",
       "    }\n",
       "\n",
       "    .dataframe tbody tr th {\n",
       "        vertical-align: top;\n",
       "    }\n",
       "\n",
       "    .dataframe thead th {\n",
       "        text-align: right;\n",
       "    }\n",
       "</style>\n",
       "<table border=\"1\" class=\"dataframe\">\n",
       "  <thead>\n",
       "    <tr style=\"text-align: right;\">\n",
       "      <th></th>\n",
       "      <th>variable</th>\n",
       "      <th>numero_Nan</th>\n",
       "      <th>observaciones</th>\n",
       "      <th>pct_missing</th>\n",
       "    </tr>\n",
       "  </thead>\n",
       "  <tbody>\n",
       "    <tr>\n",
       "      <th>0</th>\n",
       "      <td>tipo</td>\n",
       "      <td>0</td>\n",
       "      <td>2053</td>\n",
       "      <td>0.0</td>\n",
       "    </tr>\n",
       "    <tr>\n",
       "      <th>1</th>\n",
       "      <td>url</td>\n",
       "      <td>0</td>\n",
       "      <td>2053</td>\n",
       "      <td>0.0</td>\n",
       "    </tr>\n",
       "    <tr>\n",
       "      <th>2</th>\n",
       "      <td>titulo</td>\n",
       "      <td>0</td>\n",
       "      <td>2053</td>\n",
       "      <td>0.0</td>\n",
       "    </tr>\n",
       "    <tr>\n",
       "      <th>3</th>\n",
       "      <td>precio</td>\n",
       "      <td>0</td>\n",
       "      <td>2053</td>\n",
       "      <td>0.0</td>\n",
       "    </tr>\n",
       "    <tr>\n",
       "      <th>4</th>\n",
       "      <td>area</td>\n",
       "      <td>0</td>\n",
       "      <td>2053</td>\n",
       "      <td>0.0</td>\n",
       "    </tr>\n",
       "    <tr>\n",
       "      <th>5</th>\n",
       "      <td>habitaciones</td>\n",
       "      <td>0</td>\n",
       "      <td>2053</td>\n",
       "      <td>0.0</td>\n",
       "    </tr>\n",
       "    <tr>\n",
       "      <th>6</th>\n",
       "      <td>banos</td>\n",
       "      <td>0</td>\n",
       "      <td>2053</td>\n",
       "      <td>0.0</td>\n",
       "    </tr>\n",
       "    <tr>\n",
       "      <th>7</th>\n",
       "      <td>garajes</td>\n",
       "      <td>0</td>\n",
       "      <td>2053</td>\n",
       "      <td>0.0</td>\n",
       "    </tr>\n",
       "    <tr>\n",
       "      <th>8</th>\n",
       "      <td>descripcion</td>\n",
       "      <td>0</td>\n",
       "      <td>2053</td>\n",
       "      <td>0.0</td>\n",
       "    </tr>\n",
       "    <tr>\n",
       "      <th>9</th>\n",
       "      <td>balcon</td>\n",
       "      <td>0</td>\n",
       "      <td>2053</td>\n",
       "      <td>0.0</td>\n",
       "    </tr>\n",
       "    <tr>\n",
       "      <th>10</th>\n",
       "      <td>trans. publico cercano</td>\n",
       "      <td>0</td>\n",
       "      <td>2053</td>\n",
       "      <td>0.0</td>\n",
       "    </tr>\n",
       "    <tr>\n",
       "      <th>11</th>\n",
       "      <td>estrato</td>\n",
       "      <td>0</td>\n",
       "      <td>2053</td>\n",
       "      <td>0.0</td>\n",
       "    </tr>\n",
       "    <tr>\n",
       "      <th>12</th>\n",
       "      <td>antiguedad</td>\n",
       "      <td>0</td>\n",
       "      <td>2053</td>\n",
       "      <td>0.0</td>\n",
       "    </tr>\n",
       "    <tr>\n",
       "      <th>13</th>\n",
       "      <td>cocina integral</td>\n",
       "      <td>0</td>\n",
       "      <td>2053</td>\n",
       "      <td>0.0</td>\n",
       "    </tr>\n",
       "    <tr>\n",
       "      <th>14</th>\n",
       "      <td>bano auxiliar</td>\n",
       "      <td>0</td>\n",
       "      <td>2053</td>\n",
       "      <td>0.0</td>\n",
       "    </tr>\n",
       "    <tr>\n",
       "      <th>15</th>\n",
       "      <td>zona de lavanderia</td>\n",
       "      <td>0</td>\n",
       "      <td>2053</td>\n",
       "      <td>0.0</td>\n",
       "    </tr>\n",
       "    <tr>\n",
       "      <th>16</th>\n",
       "      <td>zonas verdes</td>\n",
       "      <td>0</td>\n",
       "      <td>2053</td>\n",
       "      <td>0.0</td>\n",
       "    </tr>\n",
       "    <tr>\n",
       "      <th>17</th>\n",
       "      <td>supermercados / c.comerciales</td>\n",
       "      <td>0</td>\n",
       "      <td>2053</td>\n",
       "      <td>0.0</td>\n",
       "    </tr>\n",
       "    <tr>\n",
       "      <th>18</th>\n",
       "      <td>instalacion de gas</td>\n",
       "      <td>0</td>\n",
       "      <td>2053</td>\n",
       "      <td>0.0</td>\n",
       "    </tr>\n",
       "    <tr>\n",
       "      <th>19</th>\n",
       "      <td>parqueadero visitantes</td>\n",
       "      <td>0</td>\n",
       "      <td>2053</td>\n",
       "      <td>0.0</td>\n",
       "    </tr>\n",
       "    <tr>\n",
       "      <th>20</th>\n",
       "      <td>colegios / universidades</td>\n",
       "      <td>0</td>\n",
       "      <td>2053</td>\n",
       "      <td>0.0</td>\n",
       "    </tr>\n",
       "    <tr>\n",
       "      <th>21</th>\n",
       "      <td>parques cercanos</td>\n",
       "      <td>0</td>\n",
       "      <td>2053</td>\n",
       "      <td>0.0</td>\n",
       "    </tr>\n",
       "    <tr>\n",
       "      <th>22</th>\n",
       "      <td>zona residencial</td>\n",
       "      <td>0</td>\n",
       "      <td>2053</td>\n",
       "      <td>0.0</td>\n",
       "    </tr>\n",
       "    <tr>\n",
       "      <th>23</th>\n",
       "      <td>closet</td>\n",
       "      <td>0</td>\n",
       "      <td>2053</td>\n",
       "      <td>0.0</td>\n",
       "    </tr>\n",
       "    <tr>\n",
       "      <th>24</th>\n",
       "      <td>nombre municipio</td>\n",
       "      <td>0</td>\n",
       "      <td>2053</td>\n",
       "      <td>0.0</td>\n",
       "    </tr>\n",
       "    <tr>\n",
       "      <th>25</th>\n",
       "      <td>codigo departamento</td>\n",
       "      <td>0</td>\n",
       "      <td>2053</td>\n",
       "      <td>0.0</td>\n",
       "    </tr>\n",
       "    <tr>\n",
       "      <th>26</th>\n",
       "      <td>codigo municipio</td>\n",
       "      <td>0</td>\n",
       "      <td>2053</td>\n",
       "      <td>0.0</td>\n",
       "    </tr>\n",
       "    <tr>\n",
       "      <th>27</th>\n",
       "      <td>nombre departamento</td>\n",
       "      <td>0</td>\n",
       "      <td>2053</td>\n",
       "      <td>0.0</td>\n",
       "    </tr>\n",
       "    <tr>\n",
       "      <th>28</th>\n",
       "      <td>tipo: municipio / isla / area no municipalizada</td>\n",
       "      <td>0</td>\n",
       "      <td>2053</td>\n",
       "      <td>0.0</td>\n",
       "    </tr>\n",
       "  </tbody>\n",
       "</table>\n",
       "</div>"
      ],
      "text/plain": [
       "                                           variable  numero_Nan  \\\n",
       "0                                              tipo           0   \n",
       "1                                               url           0   \n",
       "2                                            titulo           0   \n",
       "3                                            precio           0   \n",
       "4                                              area           0   \n",
       "5                                      habitaciones           0   \n",
       "6                                             banos           0   \n",
       "7                                           garajes           0   \n",
       "8                                       descripcion           0   \n",
       "9                                            balcon           0   \n",
       "10                           trans. publico cercano           0   \n",
       "11                                          estrato           0   \n",
       "12                                       antiguedad           0   \n",
       "13                                  cocina integral           0   \n",
       "14                                    bano auxiliar           0   \n",
       "15                               zona de lavanderia           0   \n",
       "16                                     zonas verdes           0   \n",
       "17                    supermercados / c.comerciales           0   \n",
       "18                               instalacion de gas           0   \n",
       "19                           parqueadero visitantes           0   \n",
       "20                         colegios / universidades           0   \n",
       "21                                 parques cercanos           0   \n",
       "22                                 zona residencial           0   \n",
       "23                                           closet           0   \n",
       "24                                 nombre municipio           0   \n",
       "25                              codigo departamento           0   \n",
       "26                                 codigo municipio           0   \n",
       "27                              nombre departamento           0   \n",
       "28  tipo: municipio / isla / area no municipalizada           0   \n",
       "\n",
       "    observaciones  pct_missing  \n",
       "0            2053          0.0  \n",
       "1            2053          0.0  \n",
       "2            2053          0.0  \n",
       "3            2053          0.0  \n",
       "4            2053          0.0  \n",
       "5            2053          0.0  \n",
       "6            2053          0.0  \n",
       "7            2053          0.0  \n",
       "8            2053          0.0  \n",
       "9            2053          0.0  \n",
       "10           2053          0.0  \n",
       "11           2053          0.0  \n",
       "12           2053          0.0  \n",
       "13           2053          0.0  \n",
       "14           2053          0.0  \n",
       "15           2053          0.0  \n",
       "16           2053          0.0  \n",
       "17           2053          0.0  \n",
       "18           2053          0.0  \n",
       "19           2053          0.0  \n",
       "20           2053          0.0  \n",
       "21           2053          0.0  \n",
       "22           2053          0.0  \n",
       "23           2053          0.0  \n",
       "24           2053          0.0  \n",
       "25           2053          0.0  \n",
       "26           2053          0.0  \n",
       "27           2053          0.0  \n",
       "28           2053          0.0  "
      ]
     },
     "execution_count": 71,
     "metadata": {},
     "output_type": "execute_result"
    },
    {
     "data": {
      "image/png": "[encoded data removed]",
      "text/plain": [
       "<Figure size 2000x700 with 1 Axes>"
      ]
     },
     "metadata": {},
     "output_type": "display_data"
    }
   ],
   "source": [
    "graf_num_nan(dfp)"
   ]
  },
  {
   "attachments": {},
   "cell_type": "markdown",
   "metadata": {},
   "source": [
    "## renombramiento de columnas"
   ]
  },
  {
   "cell_type": "code",
   "execution_count": 29,
   "metadata": {},
   "outputs": [],
   "source": [
    "cols = {'area':'area m2','trans. publico cercano': 'trasn. publico',\n",
    "        'cocina integral' : 'cocina', 'bano auxiliar':'bano aux',\n",
    "        'zona de lavanderia' : 'zona lavanderia' , 'supermercados / c.comerciales': 'supermercado o cc',\n",
    "        'nombre municipio': 'municipio', 'nombre departamento':'departamento',\n",
    "        'tipo: municipio / isla / area no municipalizada':'tipo vivienda'}\n",
    "dfp = dfp.rename(columns=cols)"
   ]
  },
  {
   "cell_type": "code",
   "execution_count": 30,
   "metadata": {},
   "outputs": [
    {
     "data": {
      "text/plain": [
       "Index(['tipo', 'url', 'titulo', 'precio', 'area m2', 'habitaciones', 'banos',\n",
       "       'garajes', 'descripcion', 'balcon', 'trasn. publico', 'estrato',\n",
       "       'antiguedad', 'cocina', 'bano aux', 'zona lavanderia', 'zonas verdes',\n",
       "       'supermercado o cc', 'instalacion de gas', 'parqueadero visitantes',\n",
       "       'colegios / universidades', 'parques cercanos', 'zona residencial',\n",
       "       'closet', 'municipio', 'codigo departamento', 'codigo municipio',\n",
       "       'departamento', 'tipo vivienda'],\n",
       "      dtype='object')"
      ]
     },
     "execution_count": 30,
     "metadata": {},
     "output_type": "execute_result"
    }
   ],
   "source": [
    "dfp.columns"
   ]
  },
  {
   "cell_type": "code",
   "execution_count": 38,
   "metadata": {},
   "outputs": [],
   "source": [
    "dfcleancol = dfp.to_csv('dfclean', index=False)"
   ]
  }
 ],
 "metadata": {
  "kernelspec": {
   "display_name": "base",
   "language": "python",
   "name": "python3"
  },
  "language_info": {
   "codemirror_mode": {
    "name": "ipython",
    "version": 3
   },
   "file_extension": ".py",
   "mimetype": "text/x-python",
   "name": "python",
   "nbconvert_exporter": "python",
   "pygments_lexer": "ipython3",
   "version": "3.9.13"
  },
  "orig_nbformat": 4
 },
 "nbformat": 4,
 "nbformat_minor": 2
}
