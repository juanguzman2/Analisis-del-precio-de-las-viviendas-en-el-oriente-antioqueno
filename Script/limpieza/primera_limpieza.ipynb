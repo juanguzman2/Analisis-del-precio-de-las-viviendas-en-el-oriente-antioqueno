{
 "cells": [
  {
   "cell_type": "code",
   "execution_count": 60,
   "metadata": {},
   "outputs": [],
   "source": [
    "import matplotlib.pyplot as plt\n",
    "import numpy as np\n",
    "import pandas as pd\n",
    "import seaborn as sns\n",
    "import re\n",
    "import unidecode\n"
   ]
  },
  {
   "attachments": {},
   "cell_type": "markdown",
   "metadata": {},
   "source": [
    "# Datos\n",
    "\n",
    "Fueron extraidos a partir de un trabajo de web scrapin realizado por 2 estudiantes de la UdeA, \n",
    "Este es el repositorio de donde se extrajo:\n",
    "\n",
    "https://github.com/andres-soto-h/monografia-udea-eacd"
   ]
  },
  {
   "cell_type": "code",
   "execution_count": 38,
   "metadata": {},
   "outputs": [],
   "source": [
    "# !git clone git@github.com:juanguzman2/Precio-de-viviendas-en-colmbia.git"
   ]
  },
  {
   "attachments": {},
   "cell_type": "markdown",
   "metadata": {},
   "source": [
    "## importacion de los datos"
   ]
  },
  {
   "cell_type": "code",
   "execution_count": 39,
   "metadata": {},
   "outputs": [],
   "source": [
    "# dfdata por dfpropiedades\n",
    "# dfubi por dfubicacion"
   ]
  },
  {
   "cell_type": "code",
   "execution_count": 40,
   "metadata": {},
   "outputs": [],
   "source": [
    "dfpropiedades=pd.read_csv(r'C:\\Users\\Juan Guzman\\pviviendas\\Data\\consolidado_propiedades_FR_30052021.csv', delimiter=';', encoding='latin1')\n",
    "dfubicacion=pd.read_csv(r'C:\\Users\\Juan Guzman\\pviviendas\\Data\\davipola.csv')"
   ]
  },
  {
   "attachments": {},
   "cell_type": "markdown",
   "metadata": {},
   "source": [
    "# Inspeccion de los datos"
   ]
  },
  {
   "attachments": {},
   "cell_type": "markdown",
   "metadata": {},
   "source": [
    "## Vista general"
   ]
  },
  {
   "cell_type": "code",
   "execution_count": 41,
   "metadata": {},
   "outputs": [
    {
     "data": {
      "text/html": [
       "<div>\n",
       "<style scoped>\n",
       "    .dataframe tbody tr th:only-of-type {\n",
       "        vertical-align: middle;\n",
       "    }\n",
       "\n",
       "    .dataframe tbody tr th {\n",
       "        vertical-align: top;\n",
       "    }\n",
       "\n",
       "    .dataframe thead th {\n",
       "        text-align: right;\n",
       "    }\n",
       "</style>\n",
       "<table border=\"1\" class=\"dataframe\">\n",
       "  <thead>\n",
       "    <tr style=\"text-align: right;\">\n",
       "      <th></th>\n",
       "      <th>tipo</th>\n",
       "      <th>url</th>\n",
       "      <th>titulo</th>\n",
       "      <th>precio</th>\n",
       "      <th>area</th>\n",
       "      <th>habitaciones</th>\n",
       "      <th>banos</th>\n",
       "      <th>garajes</th>\n",
       "      <th>descripcion</th>\n",
       "      <th>Balcón</th>\n",
       "      <th>...</th>\n",
       "      <th>En zona Comercial</th>\n",
       "      <th>Finca cafetera</th>\n",
       "      <th>Servicio de Lavandería</th>\n",
       "      <th>Altura restringida</th>\n",
       "      <th>Ascensor(es) inteligente(s)</th>\n",
       "      <th>Lote Vacio</th>\n",
       "      <th>Control de Acústica</th>\n",
       "      <th>Control térmico</th>\n",
       "      <th>Panorámica 360º</th>\n",
       "      <th>Con cerca eléctrica</th>\n",
       "    </tr>\n",
       "  </thead>\n",
       "  <tbody>\n",
       "    <tr>\n",
       "      <th>0</th>\n",
       "      <td>Usada</td>\n",
       "      <td>https://www.fincaraiz.com.co/casa-campestre-en...</td>\n",
       "      <td>Casa Campestre en Venta Rionegro Vereda Guayabito</td>\n",
       "      <td>$ 1.380.000.000</td>\n",
       "      <td>320,00 m²</td>\n",
       "      <td>5</td>\n",
       "      <td>6</td>\n",
       "      <td>2</td>\n",
       "      <td>Propiedad moderna con muy buenos acabados. Her...</td>\n",
       "      <td>1.0</td>\n",
       "      <td>...</td>\n",
       "      <td>NaN</td>\n",
       "      <td>NaN</td>\n",
       "      <td>NaN</td>\n",
       "      <td>NaN</td>\n",
       "      <td>NaN</td>\n",
       "      <td>NaN</td>\n",
       "      <td>NaN</td>\n",
       "      <td>NaN</td>\n",
       "      <td>NaN</td>\n",
       "      <td>NaN</td>\n",
       "    </tr>\n",
       "    <tr>\n",
       "      <th>1</th>\n",
       "      <td>Usada</td>\n",
       "      <td>https://www.fincaraiz.com.co/finca-en-venta/el...</td>\n",
       "      <td>Finca en Venta El Retiro Arcadia</td>\n",
       "      <td>$ 2.900.000.000</td>\n",
       "      <td>1,00 Ha</td>\n",
       "      <td>4</td>\n",
       "      <td>5</td>\n",
       "      <td>Sin especificar</td>\n",
       "      <td>propiedad con casa principal de 4 habitaciones...</td>\n",
       "      <td>NaN</td>\n",
       "      <td>...</td>\n",
       "      <td>NaN</td>\n",
       "      <td>NaN</td>\n",
       "      <td>NaN</td>\n",
       "      <td>NaN</td>\n",
       "      <td>NaN</td>\n",
       "      <td>NaN</td>\n",
       "      <td>NaN</td>\n",
       "      <td>NaN</td>\n",
       "      <td>NaN</td>\n",
       "      <td>NaN</td>\n",
       "    </tr>\n",
       "  </tbody>\n",
       "</table>\n",
       "<p>2 rows × 188 columns</p>\n",
       "</div>"
      ],
      "text/plain": [
       "    tipo                                                url  \\\n",
       "0  Usada  https://www.fincaraiz.com.co/casa-campestre-en...   \n",
       "1  Usada  https://www.fincaraiz.com.co/finca-en-venta/el...   \n",
       "\n",
       "                                              titulo           precio  \\\n",
       "0  Casa Campestre en Venta Rionegro Vereda Guayabito  $ 1.380.000.000   \n",
       "1                   Finca en Venta El Retiro Arcadia  $ 2.900.000.000   \n",
       "\n",
       "        area habitaciones banos          garajes  \\\n",
       "0  320,00 m²            5     6                2   \n",
       "1    1,00 Ha            4     5  Sin especificar   \n",
       "\n",
       "                                         descripcion  Balcón  ...  \\\n",
       "0  Propiedad moderna con muy buenos acabados. Her...     1.0  ...   \n",
       "1  propiedad con casa principal de 4 habitaciones...     NaN  ...   \n",
       "\n",
       "   En zona Comercial  Finca cafetera  Servicio de Lavandería  \\\n",
       "0                NaN             NaN                     NaN   \n",
       "1                NaN             NaN                     NaN   \n",
       "\n",
       "   Altura restringida  Ascensor(es) inteligente(s)  Lote Vacio  \\\n",
       "0                 NaN                          NaN         NaN   \n",
       "1                 NaN                          NaN         NaN   \n",
       "\n",
       "   Control de Acústica  Control térmico  Panorámica 360º  Con cerca eléctrica  \n",
       "0                  NaN              NaN              NaN                  NaN  \n",
       "1                  NaN              NaN              NaN                  NaN  \n",
       "\n",
       "[2 rows x 188 columns]"
      ]
     },
     "execution_count": 41,
     "metadata": {},
     "output_type": "execute_result"
    }
   ],
   "source": [
    "dfpropiedades.head(2)"
   ]
  },
  {
   "cell_type": "code",
   "execution_count": 42,
   "metadata": {},
   "outputs": [
    {
     "name": "stdout",
     "output_type": "stream",
     "text": [
      "<class 'pandas.core.frame.DataFrame'>\n",
      "RangeIndex: 2715 entries, 0 to 2714\n",
      "Columns: 188 entries, tipo to Con cerca eléctrica\n",
      "dtypes: float64(174), object(14)\n",
      "memory usage: 3.9+ MB\n"
     ]
    }
   ],
   "source": [
    "dfpropiedades.info()"
   ]
  },
  {
   "cell_type": "code",
   "execution_count": 43,
   "metadata": {},
   "outputs": [
    {
     "data": {
      "text/plain": [
       "(2715, 188)"
      ]
     },
     "execution_count": 43,
     "metadata": {},
     "output_type": "execute_result"
    }
   ],
   "source": [
    "dfpropiedades.shape"
   ]
  },
  {
   "cell_type": "code",
   "execution_count": 44,
   "metadata": {},
   "outputs": [
    {
     "data": {
      "text/plain": [
       "Index(['tipo', 'url', 'titulo', 'precio', 'area', 'habitaciones', 'banos',\n",
       "       'garajes', 'descripcion', 'Balcón',\n",
       "       ...\n",
       "       'En zona Comercial', 'Finca cafetera', 'Servicio de Lavandería',\n",
       "       'Altura restringida', 'Ascensor(es) inteligente(s)', 'Lote Vacio',\n",
       "       'Control de Acústica', 'Control térmico', 'Panorámica 360º',\n",
       "       'Con cerca eléctrica'],\n",
       "      dtype='object', length=188)"
      ]
     },
     "execution_count": 44,
     "metadata": {},
     "output_type": "execute_result"
    }
   ],
   "source": [
    "dfpropiedades.columns"
   ]
  },
  {
   "cell_type": "code",
   "execution_count": 45,
   "metadata": {},
   "outputs": [
    {
     "data": {
      "text/html": [
       "<div>\n",
       "<style scoped>\n",
       "    .dataframe tbody tr th:only-of-type {\n",
       "        vertical-align: middle;\n",
       "    }\n",
       "\n",
       "    .dataframe tbody tr th {\n",
       "        vertical-align: top;\n",
       "    }\n",
       "\n",
       "    .dataframe thead th {\n",
       "        text-align: right;\n",
       "    }\n",
       "</style>\n",
       "<table border=\"1\" class=\"dataframe\">\n",
       "  <thead>\n",
       "    <tr style=\"text-align: right;\">\n",
       "      <th></th>\n",
       "      <th>Código Departamento</th>\n",
       "      <th>Código Municipio</th>\n",
       "      <th>Nombre Departamento</th>\n",
       "      <th>Nombre Municipio</th>\n",
       "      <th>Tipo: Municipio / Isla / Área no municipalizada</th>\n",
       "    </tr>\n",
       "  </thead>\n",
       "  <tbody>\n",
       "    <tr>\n",
       "      <th>0</th>\n",
       "      <td>05</td>\n",
       "      <td>5001.0</td>\n",
       "      <td>ANTIOQUIA</td>\n",
       "      <td>MEDELLÍN</td>\n",
       "      <td>Municipio</td>\n",
       "    </tr>\n",
       "    <tr>\n",
       "      <th>1</th>\n",
       "      <td>05</td>\n",
       "      <td>5002.0</td>\n",
       "      <td>ANTIOQUIA</td>\n",
       "      <td>ABEJORRAL</td>\n",
       "      <td>Municipio</td>\n",
       "    </tr>\n",
       "  </tbody>\n",
       "</table>\n",
       "</div>"
      ],
      "text/plain": [
       "  Código Departamento  Código Municipio Nombre Departamento Nombre Municipio  \\\n",
       "0                  05            5001.0           ANTIOQUIA         MEDELLÍN   \n",
       "1                  05            5002.0           ANTIOQUIA        ABEJORRAL   \n",
       "\n",
       "  Tipo: Municipio / Isla / Área no municipalizada  \n",
       "0                                       Municipio  \n",
       "1                                       Municipio  "
      ]
     },
     "execution_count": 45,
     "metadata": {},
     "output_type": "execute_result"
    }
   ],
   "source": [
    "dfubicacion.head(2)"
   ]
  },
  {
   "cell_type": "code",
   "execution_count": 46,
   "metadata": {},
   "outputs": [
    {
     "name": "stdout",
     "output_type": "stream",
     "text": [
      "<class 'pandas.core.frame.DataFrame'>\n",
      "RangeIndex: 1126 entries, 0 to 1125\n",
      "Data columns (total 5 columns):\n",
      " #   Column                                           Non-Null Count  Dtype  \n",
      "---  ------                                           --------------  -----  \n",
      " 0   Código Departamento                              1126 non-null   object \n",
      " 1   Código Municipio                                 1121 non-null   float64\n",
      " 2   Nombre Departamento                              1121 non-null   object \n",
      " 3   Nombre Municipio                                 1121 non-null   object \n",
      " 4   Tipo: Municipio / Isla / Área no municipalizada  1121 non-null   object \n",
      "dtypes: float64(1), object(4)\n",
      "memory usage: 44.1+ KB\n"
     ]
    }
   ],
   "source": [
    "dfubicacion.info()"
   ]
  },
  {
   "cell_type": "code",
   "execution_count": 47,
   "metadata": {},
   "outputs": [
    {
     "data": {
      "text/plain": [
       "(1126, 5)"
      ]
     },
     "execution_count": 47,
     "metadata": {},
     "output_type": "execute_result"
    }
   ],
   "source": [
    "dfubicacion.shape"
   ]
  },
  {
   "cell_type": "code",
   "execution_count": 48,
   "metadata": {},
   "outputs": [
    {
     "data": {
      "text/plain": [
       "Index(['Código Departamento', 'Código Municipio', 'Nombre Departamento',\n",
       "       'Nombre Municipio', 'Tipo: Municipio / Isla / Área no municipalizada'],\n",
       "      dtype='object')"
      ]
     },
     "execution_count": 48,
     "metadata": {},
     "output_type": "execute_result"
    }
   ],
   "source": [
    "dfubicacion.columns"
   ]
  },
  {
   "attachments": {},
   "cell_type": "markdown",
   "metadata": {},
   "source": [
    "## Deteccion de datos faltantes"
   ]
  },
  {
   "cell_type": "code",
   "execution_count": 49,
   "metadata": {},
   "outputs": [],
   "source": [
    "def graf_num_nan(df):\n",
    "        '''\n",
    "        Esta funcion no muestra un analisis general de la cantidad de datos faltantes que tiene cada columna\n",
    "        representada en un grafico de barras. Organizando las variables de manera ascendente por numero de valores faltantes\n",
    "        df : dataframe a analizar\n",
    "        '''\n",
    "\n",
    "        dfNan = df.isnull().pipe( # ejecutar varias operaciones en el DataFrame, \"pipe\" que se encarga de pasar la salida de una función como entrada de la siguiente\n",
    "                lambda df: (\n",
    "                            df.sum() # Suma el número de valores faltantes en cada columna del DataFrame\n",
    "                            .reset_index(name=\"numero_Nan\") # Reinicia el índice del DataFrame resultante y se le asigna nombre\n",
    "                            .rename(columns={'index':'variable'}) # se cambia el nombre de index a variable\n",
    "                            .assign ( # agrega columnas al df\n",
    "                                    observaciones = len(df), # numero total de registros en el df original\n",
    "                                    pct_missing = lambda df1 : df1.numero_Nan / df1.observaciones * 100, # porcentaje Nan en cada variable\n",
    "                                    )\n",
    "                            )\n",
    "\n",
    "                    )\n",
    "        plt.figure(figsize=(20,7))\n",
    "        dfgnan = dfNan.sort_values('numero_Nan') # almacenar el resumen del nan de las variables en el df dfgnan\n",
    "        plot_range = range(1, len(dfgnan.index) + 1) # establece la posicion de cada variable en el grafico\n",
    "        plt.hlines(y=plot_range, xmin=0, xmax=dfgnan.numero_Nan, colors='gray') # traza lineas horizontales en el grafico\n",
    "        plt.plot(dfgnan.numero_Nan, plot_range, \"o\", color='black') # pone \"o\" en el eje x\n",
    "        # plt.yticks(plot_range, dfgnan.variable) #  etiquetar los puntos en el eje y con los nombres de las variables\n",
    "        plt.grid(axis=\"y\") # agregar un gráfico de cuadrícula en el eje y\n",
    "        plt.xlabel(\"numero de Nan\")\n",
    "        plt.ylabel(\"Variable en orden ascendente en razon al numero de Nan\")\n",
    "\n",
    "        return dfNan"
   ]
  },
  {
   "cell_type": "code",
   "execution_count": 50,
   "metadata": {},
   "outputs": [
    {
     "name": "stdout",
     "output_type": "stream",
     "text": [
      "Datos faltantes en el dataframe dfpropiedades 431423\n",
      "Datos faltantes en el dataframe dfubicacion 20\n"
     ]
    }
   ],
   "source": [
    "# numero de datos faltantes en general en cada dataframe\n",
    "print(f'Datos faltantes en el dataframe dfpropiedades {dfpropiedades.isna().sum().sum()}')\n",
    "print(f'Datos faltantes en el dataframe dfubicacion {dfubicacion.isna().sum().sum()}')"
   ]
  },
  {
   "attachments": {},
   "cell_type": "markdown",
   "metadata": {},
   "source": [
    "Debido a que dfubicacion no representa gran cantidad de datos faltantes, nos centraremos en analizar el dataframe dfpropiedades"
   ]
  },
  {
   "cell_type": "code",
   "execution_count": 51,
   "metadata": {},
   "outputs": [
    {
     "data": {
      "image/png": "[encoded data removed]",
      "text/plain": [
       "<Figure size 2000x700 with 1 Axes>"
      ]
     },
     "metadata": {},
     "output_type": "display_data"
    }
   ],
   "source": [
    "# visualizacion grafica de los datos faltantes en el dataframe dfpropiedades\n",
    "dfNan = graf_num_nan(dfpropiedades)"
   ]
  },
  {
   "cell_type": "code",
   "execution_count": 52,
   "metadata": {},
   "outputs": [
    {
     "name": "stdout",
     "output_type": "stream",
     "text": [
      "porcentaje de variables que tienne mas de 2000 valores faltantes 86.0 lo que equivale a 161 variables de 188\n"
     ]
    }
   ],
   "source": [
    "totalnan = sum(dfNan['pct_missing']>70) #70 equivale a 70% de valores faltantes en cada variable\n",
    "porcentajenan = totalnan/ dfpropiedades.shape[1] * 100\n",
    "print(f'porcentaje de variables que tienne mas de 2000 valores faltantes {round(porcentajenan,0)} lo que equivale a {totalnan} variables de {dfpropiedades.shape[1]}')"
   ]
  },
  {
   "attachments": {},
   "cell_type": "markdown",
   "metadata": {},
   "source": [
    "De la grafica podemos observar una gran cantidad de variables que tienne mas de 2000 registros equivalentes a valores faltantes y haciendo un analisis mas detallado podemos observar que la cantidad de variables con mas de 2000 valores faltantes son de 161 de un total de 188 variables.\n",
    "Estableceremos como regla eliminar las variables que contengan mas del 70% de valores faltantes"
   ]
  },
  {
   "cell_type": "code",
   "execution_count": 53,
   "metadata": {},
   "outputs": [
    {
     "name": "stdout",
     "output_type": "stream",
     "text": [
      "Cantidad de variables antes de la eliminacion: 188\n"
     ]
    }
   ],
   "source": [
    "print(f'Cantidad de variables antes de la eliminacion: {dfpropiedades.shape[1]}')"
   ]
  },
  {
   "attachments": {},
   "cell_type": "markdown",
   "metadata": {},
   "source": [
    "# Eliminacion de Columnas"
   ]
  },
  {
   "cell_type": "code",
   "execution_count": 55,
   "metadata": {},
   "outputs": [],
   "source": [
    "numeronan = (dfpropiedades.shape[0]*70)/100 # esto es a lo que equivale en numero el 70% de datos faltantes del total\n",
    "dfpropiedades = dfpropiedades.dropna(axis=1 , thresh=dfpropiedades.shape[0]-numeronan)"
   ]
  },
  {
   "cell_type": "code",
   "execution_count": 56,
   "metadata": {},
   "outputs": [
    {
     "name": "stdout",
     "output_type": "stream",
     "text": [
      "Cantidad de variables despues de la eliminacion: 27\n"
     ]
    }
   ],
   "source": [
    "print(f'Cantidad de variables despues de la eliminacion: {dfpropiedades.shape[1]}')"
   ]
  },
  {
   "cell_type": "code",
   "execution_count": 57,
   "metadata": {},
   "outputs": [
    {
     "name": "stdout",
     "output_type": "stream",
     "text": [
      "<class 'pandas.core.frame.DataFrame'>\n",
      "RangeIndex: 2715 entries, 0 to 2714\n",
      "Data columns (total 27 columns):\n",
      " #   Column                         Non-Null Count  Dtype  \n",
      "---  ------                         --------------  -----  \n",
      " 0   tipo                           2715 non-null   object \n",
      " 1   url                            2715 non-null   object \n",
      " 2   titulo                         2715 non-null   object \n",
      " 3   precio                         2715 non-null   object \n",
      " 4   area                           2715 non-null   object \n",
      " 5   habitaciones                   2715 non-null   object \n",
      " 6   banos                          2715 non-null   object \n",
      " 7   garajes                        2715 non-null   object \n",
      " 8   descripcion                    2715 non-null   object \n",
      " 9   Balcón                         1401 non-null   float64\n",
      " 10  Trans. Público cercano         1604 non-null   float64\n",
      " 11  caractint                      2715 non-null   object \n",
      " 12  caractext                      2715 non-null   object \n",
      " 13  caractsec                      2715 non-null   object \n",
      " 14  estrato                        2635 non-null   object \n",
      " 15  antiguedad                     2188 non-null   object \n",
      " 16  Cocina Integral                1793 non-null   float64\n",
      " 17  Baño Auxiliar                  1182 non-null   float64\n",
      " 18  Zona de lavandería             1374 non-null   float64\n",
      " 19  Zonas Verdes                   1168 non-null   float64\n",
      " 20  Supermercados / C.Comerciales  1023 non-null   float64\n",
      " 21  Instalación de gas             1101 non-null   float64\n",
      " 22  Parqueadero Visitantes         861 non-null    float64\n",
      " 23  Colegios / Universidades       959 non-null    float64\n",
      " 24  Parques cercanos               1142 non-null   float64\n",
      " 25  Zona Residencial               1345 non-null   float64\n",
      " 26  Closet                         899 non-null    float64\n",
      "dtypes: float64(13), object(14)\n",
      "memory usage: 572.8+ KB\n"
     ]
    }
   ],
   "source": [
    "dfpropiedades.info()"
   ]
  },
  {
   "cell_type": "code",
   "execution_count": 58,
   "metadata": {},
   "outputs": [
    {
     "data": {
      "text/html": [
       "<div>\n",
       "<style scoped>\n",
       "    .dataframe tbody tr th:only-of-type {\n",
       "        vertical-align: middle;\n",
       "    }\n",
       "\n",
       "    .dataframe tbody tr th {\n",
       "        vertical-align: top;\n",
       "    }\n",
       "\n",
       "    .dataframe thead th {\n",
       "        text-align: right;\n",
       "    }\n",
       "</style>\n",
       "<table border=\"1\" class=\"dataframe\">\n",
       "  <thead>\n",
       "    <tr style=\"text-align: right;\">\n",
       "      <th></th>\n",
       "      <th>variable</th>\n",
       "      <th>numero_Nan</th>\n",
       "      <th>observaciones</th>\n",
       "      <th>pct_missing</th>\n",
       "    </tr>\n",
       "  </thead>\n",
       "  <tbody>\n",
       "    <tr>\n",
       "      <th>0</th>\n",
       "      <td>tipo</td>\n",
       "      <td>0</td>\n",
       "      <td>2715</td>\n",
       "      <td>0.000000</td>\n",
       "    </tr>\n",
       "    <tr>\n",
       "      <th>1</th>\n",
       "      <td>url</td>\n",
       "      <td>0</td>\n",
       "      <td>2715</td>\n",
       "      <td>0.000000</td>\n",
       "    </tr>\n",
       "    <tr>\n",
       "      <th>2</th>\n",
       "      <td>titulo</td>\n",
       "      <td>0</td>\n",
       "      <td>2715</td>\n",
       "      <td>0.000000</td>\n",
       "    </tr>\n",
       "    <tr>\n",
       "      <th>3</th>\n",
       "      <td>precio</td>\n",
       "      <td>0</td>\n",
       "      <td>2715</td>\n",
       "      <td>0.000000</td>\n",
       "    </tr>\n",
       "    <tr>\n",
       "      <th>4</th>\n",
       "      <td>area</td>\n",
       "      <td>0</td>\n",
       "      <td>2715</td>\n",
       "      <td>0.000000</td>\n",
       "    </tr>\n",
       "    <tr>\n",
       "      <th>5</th>\n",
       "      <td>habitaciones</td>\n",
       "      <td>0</td>\n",
       "      <td>2715</td>\n",
       "      <td>0.000000</td>\n",
       "    </tr>\n",
       "    <tr>\n",
       "      <th>6</th>\n",
       "      <td>banos</td>\n",
       "      <td>0</td>\n",
       "      <td>2715</td>\n",
       "      <td>0.000000</td>\n",
       "    </tr>\n",
       "    <tr>\n",
       "      <th>7</th>\n",
       "      <td>garajes</td>\n",
       "      <td>0</td>\n",
       "      <td>2715</td>\n",
       "      <td>0.000000</td>\n",
       "    </tr>\n",
       "    <tr>\n",
       "      <th>8</th>\n",
       "      <td>descripcion</td>\n",
       "      <td>0</td>\n",
       "      <td>2715</td>\n",
       "      <td>0.000000</td>\n",
       "    </tr>\n",
       "    <tr>\n",
       "      <th>9</th>\n",
       "      <td>Balcón</td>\n",
       "      <td>1314</td>\n",
       "      <td>2715</td>\n",
       "      <td>48.397790</td>\n",
       "    </tr>\n",
       "    <tr>\n",
       "      <th>10</th>\n",
       "      <td>Trans. Público cercano</td>\n",
       "      <td>1111</td>\n",
       "      <td>2715</td>\n",
       "      <td>40.920810</td>\n",
       "    </tr>\n",
       "    <tr>\n",
       "      <th>11</th>\n",
       "      <td>caractint</td>\n",
       "      <td>0</td>\n",
       "      <td>2715</td>\n",
       "      <td>0.000000</td>\n",
       "    </tr>\n",
       "    <tr>\n",
       "      <th>12</th>\n",
       "      <td>caractext</td>\n",
       "      <td>0</td>\n",
       "      <td>2715</td>\n",
       "      <td>0.000000</td>\n",
       "    </tr>\n",
       "    <tr>\n",
       "      <th>13</th>\n",
       "      <td>caractsec</td>\n",
       "      <td>0</td>\n",
       "      <td>2715</td>\n",
       "      <td>0.000000</td>\n",
       "    </tr>\n",
       "    <tr>\n",
       "      <th>14</th>\n",
       "      <td>estrato</td>\n",
       "      <td>80</td>\n",
       "      <td>2715</td>\n",
       "      <td>2.946593</td>\n",
       "    </tr>\n",
       "    <tr>\n",
       "      <th>15</th>\n",
       "      <td>antiguedad</td>\n",
       "      <td>527</td>\n",
       "      <td>2715</td>\n",
       "      <td>19.410681</td>\n",
       "    </tr>\n",
       "    <tr>\n",
       "      <th>16</th>\n",
       "      <td>Cocina Integral</td>\n",
       "      <td>922</td>\n",
       "      <td>2715</td>\n",
       "      <td>33.959484</td>\n",
       "    </tr>\n",
       "    <tr>\n",
       "      <th>17</th>\n",
       "      <td>Baño Auxiliar</td>\n",
       "      <td>1533</td>\n",
       "      <td>2715</td>\n",
       "      <td>56.464088</td>\n",
       "    </tr>\n",
       "    <tr>\n",
       "      <th>18</th>\n",
       "      <td>Zona de lavandería</td>\n",
       "      <td>1341</td>\n",
       "      <td>2715</td>\n",
       "      <td>49.392265</td>\n",
       "    </tr>\n",
       "    <tr>\n",
       "      <th>19</th>\n",
       "      <td>Zonas Verdes</td>\n",
       "      <td>1547</td>\n",
       "      <td>2715</td>\n",
       "      <td>56.979742</td>\n",
       "    </tr>\n",
       "    <tr>\n",
       "      <th>20</th>\n",
       "      <td>Supermercados / C.Comerciales</td>\n",
       "      <td>1692</td>\n",
       "      <td>2715</td>\n",
       "      <td>62.320442</td>\n",
       "    </tr>\n",
       "    <tr>\n",
       "      <th>21</th>\n",
       "      <td>Instalación de gas</td>\n",
       "      <td>1614</td>\n",
       "      <td>2715</td>\n",
       "      <td>59.447514</td>\n",
       "    </tr>\n",
       "    <tr>\n",
       "      <th>22</th>\n",
       "      <td>Parqueadero Visitantes</td>\n",
       "      <td>1854</td>\n",
       "      <td>2715</td>\n",
       "      <td>68.287293</td>\n",
       "    </tr>\n",
       "    <tr>\n",
       "      <th>23</th>\n",
       "      <td>Colegios / Universidades</td>\n",
       "      <td>1756</td>\n",
       "      <td>2715</td>\n",
       "      <td>64.677716</td>\n",
       "    </tr>\n",
       "    <tr>\n",
       "      <th>24</th>\n",
       "      <td>Parques cercanos</td>\n",
       "      <td>1573</td>\n",
       "      <td>2715</td>\n",
       "      <td>57.937385</td>\n",
       "    </tr>\n",
       "    <tr>\n",
       "      <th>25</th>\n",
       "      <td>Zona Residencial</td>\n",
       "      <td>1370</td>\n",
       "      <td>2715</td>\n",
       "      <td>50.460405</td>\n",
       "    </tr>\n",
       "    <tr>\n",
       "      <th>26</th>\n",
       "      <td>Closet</td>\n",
       "      <td>1816</td>\n",
       "      <td>2715</td>\n",
       "      <td>66.887661</td>\n",
       "    </tr>\n",
       "  </tbody>\n",
       "</table>\n",
       "</div>"
      ],
      "text/plain": [
       "                         variable  numero_Nan  observaciones  pct_missing\n",
       "0                            tipo           0           2715     0.000000\n",
       "1                             url           0           2715     0.000000\n",
       "2                          titulo           0           2715     0.000000\n",
       "3                          precio           0           2715     0.000000\n",
       "4                            area           0           2715     0.000000\n",
       "5                    habitaciones           0           2715     0.000000\n",
       "6                           banos           0           2715     0.000000\n",
       "7                         garajes           0           2715     0.000000\n",
       "8                     descripcion           0           2715     0.000000\n",
       "9                          Balcón        1314           2715    48.397790\n",
       "10         Trans. Público cercano        1111           2715    40.920810\n",
       "11                      caractint           0           2715     0.000000\n",
       "12                      caractext           0           2715     0.000000\n",
       "13                      caractsec           0           2715     0.000000\n",
       "14                        estrato          80           2715     2.946593\n",
       "15                     antiguedad         527           2715    19.410681\n",
       "16                Cocina Integral         922           2715    33.959484\n",
       "17                  Baño Auxiliar        1533           2715    56.464088\n",
       "18             Zona de lavandería        1341           2715    49.392265\n",
       "19                   Zonas Verdes        1547           2715    56.979742\n",
       "20  Supermercados / C.Comerciales        1692           2715    62.320442\n",
       "21             Instalación de gas        1614           2715    59.447514\n",
       "22         Parqueadero Visitantes        1854           2715    68.287293\n",
       "23       Colegios / Universidades        1756           2715    64.677716\n",
       "24               Parques cercanos        1573           2715    57.937385\n",
       "25               Zona Residencial        1370           2715    50.460405\n",
       "26                         Closet        1816           2715    66.887661"
      ]
     },
     "execution_count": 58,
     "metadata": {},
     "output_type": "execute_result"
    },
    {
     "data": {
      "image/png": "[encoded data removed]",
      "text/plain": [
       "<Figure size 2000x700 with 1 Axes>"
      ]
     },
     "metadata": {},
     "output_type": "display_data"
    }
   ],
   "source": [
    "graf_num_nan(dfpropiedades)"
   ]
  },
  {
   "attachments": {},
   "cell_type": "markdown",
   "metadata": {},
   "source": [
    "# Cruce de la infromacion"
   ]
  },
  {
   "attachments": {},
   "cell_type": "markdown",
   "metadata": {},
   "source": [
    "A continuacion se uniran los datframes dfpropiedades con dfubiacion , con el fin de asignarle una ubcacion mas exacta a cada vivenda\n",
    "\n",
    "Como referencia para los dos dataframes usaremos el nombre del municipio"
   ]
  },
  {
   "cell_type": "code",
   "execution_count": 61,
   "metadata": {},
   "outputs": [],
   "source": [
    "# Definir una función para la limpieza de cada columna\n",
    "def limpiar_columna(columna):\n",
    "    columna = columna.lower().strip()\n",
    "    columna = re.sub(r'[^\\w\\s]', '', columna)  # Quitar caracteres especiales\n",
    "    columna = re.sub(r'\\s+', '_', columna)  # Reemplazar espacios por guiones bajos\n",
    "    columna = unidecode.unidecode(columna)  # Quitar acentos y diacríticos\n",
    "    return columna\n",
    "\n",
    "# Aplicar la limpieza a todas las columnas\n",
    "columnas_nuevas = {columna: limpiar_columna(columna) for columna in dfpropiedades.columns}"
   ]
  },
  {
   "attachments": {},
   "cell_type": "markdown",
   "metadata": {},
   "source": [
    "El estudio se centrara en los municipios del oriente antioqueño, por tal motivo filtraremos los valores del dataframe dfubiacion para Antioquia solamente"
   ]
  },
  {
   "cell_type": "code",
   "execution_count": 62,
   "metadata": {},
   "outputs": [],
   "source": [
    "dfubicacion=dfubicacion[dfubicacion[\"Nombre Departamento\"]=='ANTIOQUIA']\n"
   ]
  },
  {
   "cell_type": "code",
   "execution_count": 63,
   "metadata": {},
   "outputs": [],
   "source": [
    "dfubicacion[\"Nombre Municipio\"] = dfubicacion[\"Nombre Municipio\"].str.lower().apply(unidecode.unidecode)\n"
   ]
  },
  {
   "cell_type": "code",
   "execution_count": 64,
   "metadata": {},
   "outputs": [],
   "source": [
    "list_muni = dfubicacion[\"Nombre Municipio\"].tolist() + ['ceja', 'viboral', 'llano', 'llanogrande', 'pereira', 'union', 'unión', 'santuario']"
   ]
  },
  {
   "cell_type": "code",
   "execution_count": 67,
   "metadata": {},
   "outputs": [],
   "source": [
    "def extract_ubicacion(lineas):\n",
    "    '''\n",
    "    Esta fucion extrae la ubicacion de la propiedad a partir de los datos del dataframe\n",
    "    '''\n",
    "    texto = lineas[0].lower().replace(',', '').replace(';', '').split()\n",
    "    for palabra in texto:\n",
    "        if palabra in list_muni:\n",
    "            return palabra\n",
    "    \n",
    "    if len(lineas) > 1:\n",
    "        texto = lineas[1].lower().replace(',', '').replace(';', '').split()\n",
    "        for palabra in texto:\n",
    "            if palabra in list_muni:\n",
    "                return palabra\n",
    "            \n",
    "    return ''\n"
   ]
  },
  {
   "cell_type": "code",
   "execution_count": 68,
   "metadata": {},
   "outputs": [],
   "source": [
    "tipo_propiedades=['casa','finca','apartamento','apartaestudio','lote', 'apartamentos']\n",
    "\n",
    "def extract_tipo(lineas):\n",
    "    texto = lineas[0].lower().split()\n",
    "    for palabra in texto:\n",
    "        if palabra in tipo_propiedades:\n",
    "            return palabra\n",
    "    \n",
    "    if len(lineas) > 1:\n",
    "        texto = lineas[1].lower().split()\n",
    "        for palabra in texto:\n",
    "            if palabra in tipo_propiedades:\n",
    "                return palabra\n",
    "    \n",
    "    return 'apartamento'\n"
   ]
  },
  {
   "cell_type": "code",
   "execution_count": 70,
   "metadata": {},
   "outputs": [],
   "source": [
    "dfpropiedades[\"municipio\"]=dfpropiedades[[\"titulo\",\"descripcion\"]].apply(extract_ubicacion,axis=1)\n",
    "dfpropiedades[\"tipo_propiedad\"]=dfpropiedades[[\"titulo\",\"descripcion\"]].apply(extract_tipo, axis=1)"
   ]
  },
  {
   "cell_type": "code",
   "execution_count": 72,
   "metadata": {},
   "outputs": [
    {
     "name": "stdout",
     "output_type": "stream",
     "text": [
      "<class 'pandas.core.frame.DataFrame'>\n",
      "RangeIndex: 2715 entries, 0 to 2714\n",
      "Data columns (total 29 columns):\n",
      " #   Column                         Non-Null Count  Dtype  \n",
      "---  ------                         --------------  -----  \n",
      " 0   tipo                           2715 non-null   object \n",
      " 1   url                            2715 non-null   object \n",
      " 2   titulo                         2715 non-null   object \n",
      " 3   precio                         2715 non-null   object \n",
      " 4   area                           2715 non-null   object \n",
      " 5   habitaciones                   2715 non-null   object \n",
      " 6   banos                          2715 non-null   object \n",
      " 7   garajes                        2715 non-null   object \n",
      " 8   descripcion                    2715 non-null   object \n",
      " 9   Balcón                         1401 non-null   float64\n",
      " 10  Trans. Público cercano         1604 non-null   float64\n",
      " 11  caractint                      2715 non-null   object \n",
      " 12  caractext                      2715 non-null   object \n",
      " 13  caractsec                      2715 non-null   object \n",
      " 14  estrato                        2635 non-null   object \n",
      " 15  antiguedad                     2188 non-null   object \n",
      " 16  Cocina Integral                1793 non-null   float64\n",
      " 17  Baño Auxiliar                  1182 non-null   float64\n",
      " 18  Zona de lavandería             1374 non-null   float64\n",
      " 19  Zonas Verdes                   1168 non-null   float64\n",
      " 20  Supermercados / C.Comerciales  1023 non-null   float64\n",
      " 21  Instalación de gas             1101 non-null   float64\n",
      " 22  Parqueadero Visitantes         861 non-null    float64\n",
      " 23  Colegios / Universidades       959 non-null    float64\n",
      " 24  Parques cercanos               1142 non-null   float64\n",
      " 25  Zona Residencial               1345 non-null   float64\n",
      " 26  Closet                         899 non-null    float64\n",
      " 27  municipio                      2715 non-null   object \n",
      " 28  tipo_propiedad                 2715 non-null   object \n",
      "dtypes: float64(13), object(16)\n",
      "memory usage: 615.2+ KB\n"
     ]
    }
   ],
   "source": [
    "dfpropiedades.info()"
   ]
  },
  {
   "attachments": {},
   "cell_type": "markdown",
   "metadata": {},
   "source": [
    "Ya concluyo la union de la informacion y obetenemos en el dataset de propiedades los elementos del datased de ubicacion"
   ]
  },
  {
   "attachments": {},
   "cell_type": "markdown",
   "metadata": {},
   "source": [
    "# Arreglo de Variables"
   ]
  },
  {
   "attachments": {},
   "cell_type": "markdown",
   "metadata": {},
   "source": [
    "Se procedera a analizar las variables y determinar que transformaciones son necesarias con el fin de realizar un mejor analisis"
   ]
  },
  {
   "cell_type": "code",
   "execution_count": 73,
   "metadata": {},
   "outputs": [],
   "source": [
    "#unificar apartamentos\n",
    "dfpropiedades['tipo_propiedad'] = dfpropiedades['tipo_propiedad'].str.replace('apartamentos', 'apartamento')"
   ]
  },
  {
   "cell_type": "code",
   "execution_count": 75,
   "metadata": {},
   "outputs": [],
   "source": [
    "def unifica_muni(texto):\n",
    "    '''\n",
    "    Esta funcion permite unificar el nombre de los municipios\n",
    "    '''\n",
    "    muni = {'retiro': 'el retiro',\n",
    "            'ceja': 'la ceja',\n",
    "            'viboral': 'el carmen de viboral',\n",
    "            'llano': 'llanogrande',\n",
    "            'unión': 'la unión',\n",
    "            'pereira': 'san antonio de pereira'}\n",
    "    \n",
    "    return muni.get(texto, texto)\n"
   ]
  },
  {
   "cell_type": "code",
   "execution_count": 76,
   "metadata": {},
   "outputs": [
    {
     "data": {
      "text/plain": [
       "rionegro                  1360\n",
       "el retiro                  474\n",
       "la ceja                    368\n",
       "guarne                     212\n",
       "el carmen de viboral        93\n",
       "marinilla                   90\n",
       "llanogrande                 58\n",
       "san antonio de pereira      43\n",
       "santuario                   13\n",
       "la unión                     4\n",
       "Name: municipio, dtype: int64"
      ]
     },
     "execution_count": 76,
     "metadata": {},
     "output_type": "execute_result"
    }
   ],
   "source": [
    "dfpropiedades['municipio']=dfpropiedades['municipio'].apply(unifica_muni)\n",
    "dfpropiedades['municipio'].value_counts()"
   ]
  },
  {
   "attachments": {},
   "cell_type": "markdown",
   "metadata": {},
   "source": [
    "# Busqueda de valores duplicados"
   ]
  },
  {
   "cell_type": "code",
   "execution_count": 78,
   "metadata": {},
   "outputs": [
    {
     "data": {
      "text/plain": [
       "0"
      ]
     },
     "execution_count": 78,
     "metadata": {},
     "output_type": "execute_result"
    }
   ],
   "source": [
    "dfpropiedades.duplicated().sum()"
   ]
  },
  {
   "attachments": {},
   "cell_type": "markdown",
   "metadata": {},
   "source": [
    "# Exportacion de datos"
   ]
  },
  {
   "cell_type": "code",
   "execution_count": 77,
   "metadata": {},
   "outputs": [],
   "source": [
    "# dfpropiedades.to_csv('dfpropiedadesclean',index=False)"
   ]
  }
 ],
 "metadata": {
  "kernelspec": {
   "display_name": "base",
   "language": "python",
   "name": "python3"
  },
  "language_info": {
   "codemirror_mode": {
    "name": "ipython",
    "version": 3
   },
   "file_extension": ".py",
   "mimetype": "text/x-python",
   "name": "python",
   "nbconvert_exporter": "python",
   "pygments_lexer": "ipython3",
   "version": "3.9.13"
  },
  "orig_nbformat": 4
 },
 "nbformat": 4,
 "nbformat_minor": 2
}
