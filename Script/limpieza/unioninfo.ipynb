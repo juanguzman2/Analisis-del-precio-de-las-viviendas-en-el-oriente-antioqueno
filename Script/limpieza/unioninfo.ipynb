{
 "cells": [
  {
   "attachments": {},
   "cell_type": "markdown",
   "metadata": {},
   "source": [
    "# Se inicia con la limpieza de los valores nan"
   ]
  },
  {
   "cell_type": "code",
   "execution_count": 53,
   "metadata": {},
   "outputs": [],
   "source": [
    "import matplotlib.pyplot as plt\n",
    "import numpy as np\n",
    "import pandas as pd\n",
    "import seaborn as sns\n",
    "import unidecode"
   ]
  },
  {
   "cell_type": "code",
   "execution_count": 54,
   "metadata": {},
   "outputs": [],
   "source": [
    "# se trae un dataframe que contine la ubicacion de las viviendas\n",
    "# !git clone git@github.com:juanguzman2/Precio-de-viviendas-en-colmbia.git"
   ]
  },
  {
   "attachments": {},
   "cell_type": "markdown",
   "metadata": {},
   "source": [
    "esta base de datos tambien fue obtenida pr los estudiantes"
   ]
  },
  {
   "cell_type": "code",
   "execution_count": 55,
   "metadata": {},
   "outputs": [
    {
     "data": {
      "text/html": [
       "<div>\n",
       "<style scoped>\n",
       "    .dataframe tbody tr th:only-of-type {\n",
       "        vertical-align: middle;\n",
       "    }\n",
       "\n",
       "    .dataframe tbody tr th {\n",
       "        vertical-align: top;\n",
       "    }\n",
       "\n",
       "    .dataframe thead th {\n",
       "        text-align: right;\n",
       "    }\n",
       "</style>\n",
       "<table border=\"1\" class=\"dataframe\">\n",
       "  <thead>\n",
       "    <tr style=\"text-align: right;\">\n",
       "      <th></th>\n",
       "      <th>Código Departamento</th>\n",
       "      <th>Código Municipio</th>\n",
       "      <th>Nombre Departamento</th>\n",
       "      <th>Nombre Municipio</th>\n",
       "      <th>Tipo: Municipio / Isla / Área no municipalizada</th>\n",
       "    </tr>\n",
       "  </thead>\n",
       "  <tbody>\n",
       "    <tr>\n",
       "      <th>0</th>\n",
       "      <td>05</td>\n",
       "      <td>5001.0</td>\n",
       "      <td>ANTIOQUIA</td>\n",
       "      <td>MEDELLÍN</td>\n",
       "      <td>Municipio</td>\n",
       "    </tr>\n",
       "  </tbody>\n",
       "</table>\n",
       "</div>"
      ],
      "text/plain": [
       "  Código Departamento  Código Municipio Nombre Departamento Nombre Municipio  \\\n",
       "0                  05            5001.0           ANTIOQUIA         MEDELLÍN   \n",
       "\n",
       "  Tipo: Municipio / Isla / Área no municipalizada  \n",
       "0                                       Municipio  "
      ]
     },
     "execution_count": 55,
     "metadata": {},
     "output_type": "execute_result"
    }
   ],
   "source": [
    "dfubi=pd.read_csv(r'C:\\Users\\Juan Guzman\\pviviendas\\Data\\davipola.csv')\n",
    "dfubi.head(1)"
   ]
  },
  {
   "cell_type": "code",
   "execution_count": 56,
   "metadata": {},
   "outputs": [
    {
     "data": {
      "text/html": [
       "<div>\n",
       "<style scoped>\n",
       "    .dataframe tbody tr th:only-of-type {\n",
       "        vertical-align: middle;\n",
       "    }\n",
       "\n",
       "    .dataframe tbody tr th {\n",
       "        vertical-align: top;\n",
       "    }\n",
       "\n",
       "    .dataframe thead th {\n",
       "        text-align: right;\n",
       "    }\n",
       "</style>\n",
       "<table border=\"1\" class=\"dataframe\">\n",
       "  <thead>\n",
       "    <tr style=\"text-align: right;\">\n",
       "      <th></th>\n",
       "      <th>tipo</th>\n",
       "      <th>url</th>\n",
       "      <th>titulo</th>\n",
       "      <th>precio</th>\n",
       "      <th>area</th>\n",
       "      <th>habitaciones</th>\n",
       "      <th>banos</th>\n",
       "      <th>garajes</th>\n",
       "      <th>descripcion</th>\n",
       "      <th>Balcón</th>\n",
       "      <th>...</th>\n",
       "      <th>Baño Auxiliar</th>\n",
       "      <th>Zona de lavandería</th>\n",
       "      <th>Zonas Verdes</th>\n",
       "      <th>Supermercados / C.Comerciales</th>\n",
       "      <th>Instalación de gas</th>\n",
       "      <th>Parqueadero Visitantes</th>\n",
       "      <th>Colegios / Universidades</th>\n",
       "      <th>Parques cercanos</th>\n",
       "      <th>Zona Residencial</th>\n",
       "      <th>Closet</th>\n",
       "    </tr>\n",
       "  </thead>\n",
       "  <tbody>\n",
       "    <tr>\n",
       "      <th>0</th>\n",
       "      <td>Usada</td>\n",
       "      <td>https://www.fincaraiz.com.co/casa-campestre-en...</td>\n",
       "      <td>Casa Campestre en Venta Rionegro Vereda Guayabito</td>\n",
       "      <td>$ 1.380.000.000</td>\n",
       "      <td>320,00 m²</td>\n",
       "      <td>5</td>\n",
       "      <td>6</td>\n",
       "      <td>2</td>\n",
       "      <td>Propiedad moderna con muy buenos acabados. Her...</td>\n",
       "      <td>1.0</td>\n",
       "      <td>...</td>\n",
       "      <td>NaN</td>\n",
       "      <td>NaN</td>\n",
       "      <td>NaN</td>\n",
       "      <td>NaN</td>\n",
       "      <td>NaN</td>\n",
       "      <td>NaN</td>\n",
       "      <td>NaN</td>\n",
       "      <td>NaN</td>\n",
       "      <td>NaN</td>\n",
       "      <td>NaN</td>\n",
       "    </tr>\n",
       "  </tbody>\n",
       "</table>\n",
       "<p>1 rows × 24 columns</p>\n",
       "</div>"
      ],
      "text/plain": [
       "    tipo                                                url  \\\n",
       "0  Usada  https://www.fincaraiz.com.co/casa-campestre-en...   \n",
       "\n",
       "                                              titulo           precio  \\\n",
       "0  Casa Campestre en Venta Rionegro Vereda Guayabito  $ 1.380.000.000   \n",
       "\n",
       "        area habitaciones banos garajes  \\\n",
       "0  320,00 m²            5     6       2   \n",
       "\n",
       "                                         descripcion  Balcón  ...  \\\n",
       "0  Propiedad moderna con muy buenos acabados. Her...     1.0  ...   \n",
       "\n",
       "   Baño Auxiliar Zona de lavandería Zonas Verdes  \\\n",
       "0            NaN                NaN          NaN   \n",
       "\n",
       "   Supermercados / C.Comerciales  Instalación de gas  Parqueadero Visitantes  \\\n",
       "0                            NaN                 NaN                     NaN   \n",
       "\n",
       "   Colegios / Universidades  Parques cercanos  Zona Residencial  Closet  \n",
       "0                       NaN               NaN               NaN     NaN  \n",
       "\n",
       "[1 rows x 24 columns]"
      ]
     },
     "execution_count": 56,
     "metadata": {},
     "output_type": "execute_result"
    }
   ],
   "source": [
    "# importacion dataset limpio de columnas\n",
    "dfdata=pd.read_csv(r'C:\\Users\\Juan Guzman\\pviviendas\\Data\\dfdatac')\n",
    "dfdata.head(1)"
   ]
  },
  {
   "cell_type": "code",
   "execution_count": 57,
   "metadata": {},
   "outputs": [
    {
     "name": "stdout",
     "output_type": "stream",
     "text": [
      "<class 'pandas.core.frame.DataFrame'>\n",
      "RangeIndex: 2715 entries, 0 to 2714\n",
      "Data columns (total 24 columns):\n",
      " #   Column                         Non-Null Count  Dtype  \n",
      "---  ------                         --------------  -----  \n",
      " 0   tipo                           2715 non-null   object \n",
      " 1   url                            2715 non-null   object \n",
      " 2   titulo                         2715 non-null   object \n",
      " 3   precio                         2715 non-null   object \n",
      " 4   area                           2715 non-null   object \n",
      " 5   habitaciones                   2715 non-null   object \n",
      " 6   banos                          2715 non-null   object \n",
      " 7   garajes                        2715 non-null   object \n",
      " 8   descripcion                    2715 non-null   object \n",
      " 9   Balcón                         1401 non-null   float64\n",
      " 10  Trans. Público cercano         1604 non-null   float64\n",
      " 11  estrato                        2635 non-null   object \n",
      " 12  antiguedad                     2188 non-null   object \n",
      " 13  Cocina Integral                1793 non-null   float64\n",
      " 14  Baño Auxiliar                  1182 non-null   float64\n",
      " 15  Zona de lavandería             1374 non-null   float64\n",
      " 16  Zonas Verdes                   1168 non-null   float64\n",
      " 17  Supermercados / C.Comerciales  1023 non-null   float64\n",
      " 18  Instalación de gas             1101 non-null   float64\n",
      " 19  Parqueadero Visitantes         861 non-null    float64\n",
      " 20  Colegios / Universidades       959 non-null    float64\n",
      " 21  Parques cercanos               1142 non-null   float64\n",
      " 22  Zona Residencial               1345 non-null   float64\n",
      " 23  Closet                         899 non-null    float64\n",
      "dtypes: float64(13), object(11)\n",
      "memory usage: 509.2+ KB\n"
     ]
    }
   ],
   "source": [
    "dfdata.info()"
   ]
  },
  {
   "cell_type": "code",
   "execution_count": 58,
   "metadata": {},
   "outputs": [
    {
     "name": "stdout",
     "output_type": "stream",
     "text": [
      "<class 'pandas.core.frame.DataFrame'>\n",
      "RangeIndex: 1126 entries, 0 to 1125\n",
      "Data columns (total 5 columns):\n",
      " #   Column                                           Non-Null Count  Dtype  \n",
      "---  ------                                           --------------  -----  \n",
      " 0   Código Departamento                              1126 non-null   object \n",
      " 1   Código Municipio                                 1121 non-null   float64\n",
      " 2   Nombre Departamento                              1121 non-null   object \n",
      " 3   Nombre Municipio                                 1121 non-null   object \n",
      " 4   Tipo: Municipio / Isla / Área no municipalizada  1121 non-null   object \n",
      "dtypes: float64(1), object(4)\n",
      "memory usage: 44.1+ KB\n"
     ]
    }
   ],
   "source": [
    "dfubi.info()"
   ]
  },
  {
   "attachments": {},
   "cell_type": "markdown",
   "metadata": {},
   "source": [
    "## Cruce de la ifnormacion"
   ]
  },
  {
   "cell_type": "code",
   "execution_count": 51,
   "metadata": {},
   "outputs": [],
   "source": [
    "# Aplicar limpieza a los nombres de las columnas para quitar caracteres extraños y evitar errores\n",
    "lista_columnas=list(dfubi.columns)\n",
    "col_limpia=[]\n",
    "\n",
    "import unidecode\n",
    "\n",
    "for columna in lista_columnas:\n",
    "  col=columna.lower().replace('/','').replace('.','').strip().replace('  ',' ').replace('  ',' ').replace(' ', '_')\n",
    "  col=unidecode.unidecode(col)\n",
    "  col_limpia.append(col)\n",
    "\n",
    "columnas_nuevas=dict(zip(lista_columnas,col_limpia))"
   ]
  },
  {
   "cell_type": "code",
   "execution_count": 61,
   "metadata": {},
   "outputs": [],
   "source": [
    "dfubi=dfubi[dfubi[\"Nombre Departamento\"]=='ANTIOQUIA']\n"
   ]
  },
  {
   "cell_type": "code",
   "execution_count": 62,
   "metadata": {},
   "outputs": [],
   "source": [
    "#Aplicar transformación a los datos de municipios para usar el nombre como id de referencia en ambos datasets\n",
    "dfubi[\"Nombre Municipio\"]=dfubi[\"Nombre Municipio\"].apply(lambda x: unidecode.unidecode(x.lower()))\n",
    " "
   ]
  },
  {
   "cell_type": "code",
   "execution_count": 63,
   "metadata": {},
   "outputs": [],
   "source": [
    "list_muni=np.array(dfubi[\"Nombre Municipio\"])\n",
    "list_muni=np.append(list_muni, np.array(['ceja','viboral','llano','llanogrande','pereira','union','unión','santuario']))\n"
   ]
  },
  {
   "cell_type": "code",
   "execution_count": 64,
   "metadata": {},
   "outputs": [],
   "source": [
    "#Funcion para extraer la ubicación de la propiedad a partir de los campos del dataset\n",
    "def extract_ubicacion(lineas):\n",
    "  texto=np.array(lineas)[0]\n",
    "  palabras=texto.lower().replace(',','').replace(';','').split(' ')\n",
    "  muni=''\n",
    "  \n",
    "  for palabra in palabras:\n",
    "\n",
    "    if palabra in list_muni:\n",
    "        muni = palabra\n",
    "        break\n",
    "    else:\n",
    "        muni = ''\n",
    "\n",
    "  if muni == '':\n",
    "    texto=np.array(lineas)[1]\n",
    "    palabras=texto.lower().replace(',','').replace(';','').split(' ')\n",
    "  \n",
    "    for palabra in palabras:\n",
    "\n",
    "      if palabra in list_muni:\n",
    "          muni = palabra\n",
    "          break\n",
    "      else:\n",
    "\n",
    "          muni = ''\n",
    "\n",
    "\n",
    "  return muni"
   ]
  },
  {
   "cell_type": "code",
   "execution_count": 65,
   "metadata": {},
   "outputs": [],
   "source": [
    "#Funcion para extraer el tipo de propiedad a partir de los campos del dataset\n",
    "tipo_propiedades=['casa','finca','apartamento','apartaestudio','lote', 'apartamentos']\n",
    "\n",
    "def extract_tipo(lineas):\n",
    "\n",
    "  texto=np.array(lineas)[0]\n",
    "\n",
    "  palabras=texto.lower().split(' ')\n",
    "  tipo_prop=''\n",
    "  \n",
    "  for palabra in palabras:\n",
    "\n",
    "    if palabra in tipo_propiedades:\n",
    "        tipo_prop = palabra\n",
    "        break\n",
    "    else:\n",
    "        tipo_prop = ''\n",
    "\n",
    "  if tipo_prop == '':\n",
    "\n",
    "    texto=np.array(lineas)[1]\n",
    "\n",
    "    palabras=texto.lower().split(' ')\n",
    "    tipo_prop=''\n",
    "    \n",
    "    for palabra in palabras:\n",
    "\n",
    "      if palabra in tipo_propiedades:\n",
    "          tipo_prop = palabra\n",
    "          break\n",
    "      else:\n",
    "          #tipo de propiedad por defecto será apartamento\n",
    "          tipo_prop = 'apartamento'\n",
    "\n",
    "  return tipo_prop"
   ]
  },
  {
   "cell_type": "code",
   "execution_count": 66,
   "metadata": {},
   "outputs": [],
   "source": [
    "dfdata[\"municipio\"]=dfdata[[\"titulo\",\"descripcion\"]].apply(extract_ubicacion,axis=1)"
   ]
  },
  {
   "cell_type": "code",
   "execution_count": 67,
   "metadata": {},
   "outputs": [],
   "source": [
    "dfdata[\"tipo_propiedad\"]=dfdata[[\"titulo\",\"descripcion\"]].apply(extract_tipo, axis=1)"
   ]
  },
  {
   "cell_type": "code",
   "execution_count": 68,
   "metadata": {},
   "outputs": [
    {
     "name": "stdout",
     "output_type": "stream",
     "text": [
      "<class 'pandas.core.frame.DataFrame'>\n",
      "RangeIndex: 2715 entries, 0 to 2714\n",
      "Data columns (total 26 columns):\n",
      " #   Column                         Non-Null Count  Dtype  \n",
      "---  ------                         --------------  -----  \n",
      " 0   tipo                           2715 non-null   object \n",
      " 1   url                            2715 non-null   object \n",
      " 2   titulo                         2715 non-null   object \n",
      " 3   precio                         2715 non-null   object \n",
      " 4   area                           2715 non-null   object \n",
      " 5   habitaciones                   2715 non-null   object \n",
      " 6   banos                          2715 non-null   object \n",
      " 7   garajes                        2715 non-null   object \n",
      " 8   descripcion                    2715 non-null   object \n",
      " 9   Balcón                         1401 non-null   float64\n",
      " 10  Trans. Público cercano         1604 non-null   float64\n",
      " 11  estrato                        2635 non-null   object \n",
      " 12  antiguedad                     2188 non-null   object \n",
      " 13  Cocina Integral                1793 non-null   float64\n",
      " 14  Baño Auxiliar                  1182 non-null   float64\n",
      " 15  Zona de lavandería             1374 non-null   float64\n",
      " 16  Zonas Verdes                   1168 non-null   float64\n",
      " 17  Supermercados / C.Comerciales  1023 non-null   float64\n",
      " 18  Instalación de gas             1101 non-null   float64\n",
      " 19  Parqueadero Visitantes         861 non-null    float64\n",
      " 20  Colegios / Universidades       959 non-null    float64\n",
      " 21  Parques cercanos               1142 non-null   float64\n",
      " 22  Zona Residencial               1345 non-null   float64\n",
      " 23  Closet                         899 non-null    float64\n",
      " 24  municipio                      2715 non-null   object \n",
      " 25  tipo_propiedad                 2715 non-null   object \n",
      "dtypes: float64(13), object(13)\n",
      "memory usage: 551.6+ KB\n"
     ]
    }
   ],
   "source": [
    "dfdata.info()"
   ]
  },
  {
   "attachments": {},
   "cell_type": "markdown",
   "metadata": {},
   "source": [
    "## arreglo de algunas columnas"
   ]
  },
  {
   "cell_type": "code",
   "execution_count": 70,
   "metadata": {},
   "outputs": [
    {
     "data": {
      "text/plain": [
       "rionegro       1360\n",
       "retiro          474\n",
       "ceja            368\n",
       "guarne          212\n",
       "viboral          93\n",
       "marinilla        90\n",
       "llano            53\n",
       "pereira          43\n",
       "santuario        13\n",
       "llanogrande       5\n",
       "unión             4\n",
       "Name: municipio, dtype: int64"
      ]
     },
     "execution_count": 70,
     "metadata": {},
     "output_type": "execute_result"
    }
   ],
   "source": [
    "dfdata['municipio'].value_counts()\n"
   ]
  },
  {
   "cell_type": "code",
   "execution_count": 72,
   "metadata": {},
   "outputs": [],
   "source": [
    "#unificar apartamentos\n",
    "dfdata['tipo_propiedad']=dfdata['tipo_propiedad'].apply(lambda x: x.replace(\"apartamentos\", \"apartamento\"))\n"
   ]
  },
  {
   "cell_type": "code",
   "execution_count": 73,
   "metadata": {},
   "outputs": [],
   "source": [
    "def unifica_muni(texto):\n",
    "  muni=''\n",
    "  \n",
    "  if texto=='retiro':\n",
    "    muni=\"el retiro\"\n",
    "\n",
    "  elif texto=='ceja':\n",
    "    muni=\"la ceja\"\n",
    " \n",
    "  elif texto=='viboral':\n",
    "    muni=\"el carmen de viboral\"\n",
    "  \n",
    "  elif texto=='llano':\n",
    "    muni=\"llanogrande\"\n",
    "\n",
    "  elif texto=='unión':\n",
    "    muni=\"la unión\"\n",
    "\n",
    "  elif texto=='pereira':\n",
    "    muni=\"san antonio de pereira\"\n",
    "\n",
    "  else:\n",
    "    return texto\n",
    "\n",
    "  return muni\n",
    "     "
   ]
  },
  {
   "cell_type": "code",
   "execution_count": 76,
   "metadata": {},
   "outputs": [
    {
     "data": {
      "text/plain": [
       "rionegro                  1360\n",
       "el retiro                  474\n",
       "la ceja                    368\n",
       "guarne                     212\n",
       "el carmen de viboral        93\n",
       "marinilla                   90\n",
       "llanogrande                 58\n",
       "san antonio de pereira      43\n",
       "santuario                   13\n",
       "la unión                     4\n",
       "Name: municipio, dtype: int64"
      ]
     },
     "execution_count": 76,
     "metadata": {},
     "output_type": "execute_result"
    }
   ],
   "source": [
    "dfdata['municipio']=dfdata['municipio'].apply(unifica_muni)\n",
    "dfdata['municipio'].value_counts()\n"
   ]
  },
  {
   "cell_type": "code",
   "execution_count": 77,
   "metadata": {},
   "outputs": [
    {
     "data": {
      "text/plain": [
       "(2715, 26)"
      ]
     },
     "execution_count": 77,
     "metadata": {},
     "output_type": "execute_result"
    }
   ],
   "source": [
    "dfdata.shape"
   ]
  },
  {
   "cell_type": "code",
   "execution_count": 78,
   "metadata": {},
   "outputs": [],
   "source": [
    "dfdata.to_csv('dfmerged',index=False)"
   ]
  }
 ],
 "metadata": {
  "kernelspec": {
   "display_name": "base",
   "language": "python",
   "name": "python3"
  },
  "language_info": {
   "codemirror_mode": {
    "name": "ipython",
    "version": 3
   },
   "file_extension": ".py",
   "mimetype": "text/x-python",
   "name": "python",
   "nbconvert_exporter": "python",
   "pygments_lexer": "ipython3",
   "version": "3.9.13"
  },
  "orig_nbformat": 4
 },
 "nbformat": 4,
 "nbformat_minor": 2
}
